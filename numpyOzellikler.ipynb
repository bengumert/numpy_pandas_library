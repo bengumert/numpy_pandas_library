{
 "cells": [
  {
   "cell_type": "code",
   "execution_count": 2,
   "id": "9b6c6103",
   "metadata": {},
   "outputs": [],
   "source": [
    "import numpy as np"
   ]
  },
  {
   "cell_type": "markdown",
   "id": "d1440486",
   "metadata": {},
   "source": [
    "NUMPY İLE NOKTA DOĞRU DÜZLEM VE UZAY"
   ]
  },
  {
   "cell_type": "code",
   "execution_count": 3,
   "id": "f50aca7e",
   "metadata": {},
   "outputs": [
    {
     "name": "stdout",
     "output_type": "stream",
     "text": [
      "Skaler: 90\n",
      "Vektörel: [1 2 3 4 5]\n",
      "Matris: \n",
      " [[1 2]\n",
      " [3 4]\n",
      " [5 6]]\n"
     ]
    }
   ],
   "source": [
    "skaler = np.array(90)\n",
    "vektorel = np.array([1, 2, 3, 4, 5])\n",
    "matris = np.array([[1, 2], [3, 4],[5,6]])\n",
    "print(\"Skaler:\", skaler)\n",
    "print(\"Vektörel:\", vektorel)\n",
    "print(\"Matris: \\n\", matris)\n"
   ]
  },
  {
   "cell_type": "code",
   "execution_count": 4,
   "id": "c11a8d99",
   "metadata": {},
   "outputs": [
    {
     "name": "stdout",
     "output_type": "stream",
     "text": [
      "Tensor: \n",
      " [[[1 2]\n",
      "  [3 4]]\n",
      "\n",
      " [[5 6]\n",
      "  [7 8]]]\n"
     ]
    }
   ],
   "source": [
    "tensor = np.array([[[1, 2],[3, 4]],[[5, 6],[7,8]]])\n",
    "print(\"Tensor: \\n\" , tensor)"
   ]
  },
  {
   "cell_type": "markdown",
   "id": "5a5780c2",
   "metadata": {},
   "source": [
    "SIZE SHAPE DTYPE NDIM"
   ]
  },
  {
   "cell_type": "code",
   "execution_count": 5,
   "id": "fad3187b",
   "metadata": {},
   "outputs": [
    {
     "name": "stdout",
     "output_type": "stream",
     "text": [
      "Liste: \n",
      " [ 1  2  3  4  5  6  7  8  9 10]\n",
      "size:  10\n",
      "shape:  (10,)\n",
      "uzayda kapladığı boyut: 1\n",
      "data type :  int64\n",
      "Matris: \n",
      " [[ 1  2]\n",
      " [ 3  4]\n",
      " [ 5  6]\n",
      " [ 7  8]\n",
      " [ 9 10]]\n",
      "size:  10\n",
      "shape:  (5, 2)\n",
      "uzayda kapladığı boyut: 2\n",
      "data type :  int64\n"
     ]
    }
   ],
   "source": [
    "liste = np.array(range(1, 11))\n",
    "matris = np.array([[1,2], [3,4], [5,6], [7,8], [9,10]])\n",
    "print(\"Liste: \\n\", liste)\n",
    "print(\"size: \", liste.size)\n",
    "print(\"shape: \", liste.shape)\n",
    "print(\"uzayda kapladığı boyut:\" , liste.ndim)\n",
    "print(\"data type : \", liste.dtype)\n",
    "print(\"Matris: \\n\", matris)\n",
    "print(\"size: \", matris.size)\n",
    "print(\"shape: \", matris.shape)\n",
    "print(\"uzayda kapladığı boyut:\" , matris.ndim)\n",
    "print(\"data type : \", matris.dtype)"
   ]
  },
  {
   "cell_type": "markdown",
   "id": "84afe2a4",
   "metadata": {},
   "source": [
    "NUMPY ARRAY"
   ]
  },
  {
   "cell_type": "code",
   "execution_count": 6,
   "id": "cae76ff2",
   "metadata": {},
   "outputs": [
    {
     "data": {
      "text/plain": [
       "array([ 1,  2,  3,  4,  5,  6,  7,  8,  9, 10])"
      ]
     },
     "execution_count": 6,
     "metadata": {},
     "output_type": "execute_result"
    }
   ],
   "source": [
    "benimListem = [1, 2, 3, 4, 5, 6, 7, 8, 9, 10]\n",
    "np.array(benimListem)"
   ]
  },
  {
   "cell_type": "code",
   "execution_count": 7,
   "id": "61172869",
   "metadata": {},
   "outputs": [
    {
     "data": {
      "text/plain": [
       "array([[1, 2, 3],\n",
       "       [4, 5, 6],\n",
       "       [7, 8, 9]])"
      ]
     },
     "execution_count": 7,
     "metadata": {},
     "output_type": "execute_result"
    }
   ],
   "source": [
    "matrixListesi = [[1, 2, 3], [4, 5, 6], [7, 8, 9]]\n",
    "np.array(matrixListesi)"
   ]
  },
  {
   "cell_type": "markdown",
   "id": "a971eb2a",
   "metadata": {},
   "source": [
    "ARANGE"
   ]
  },
  {
   "cell_type": "code",
   "execution_count": 8,
   "id": "268ed250",
   "metadata": {},
   "outputs": [
    {
     "data": {
      "text/plain": [
       "array([0, 1, 2, 3, 4, 5, 6, 7, 8, 9])"
      ]
     },
     "execution_count": 8,
     "metadata": {},
     "output_type": "execute_result"
    }
   ],
   "source": [
    "np.arange(10)"
   ]
  },
  {
   "cell_type": "code",
   "execution_count": 9,
   "id": "68f3eef6",
   "metadata": {},
   "outputs": [
    {
     "data": {
      "text/plain": [
       "array([ 2,  5,  8, 11, 14])"
      ]
     },
     "execution_count": 9,
     "metadata": {},
     "output_type": "execute_result"
    }
   ],
   "source": [
    "np.arange(2,15,3)"
   ]
  },
  {
   "cell_type": "markdown",
   "id": "8e454a24",
   "metadata": {},
   "source": [
    "ZEROS / ONES / FULL"
   ]
  },
  {
   "cell_type": "code",
   "execution_count": 10,
   "id": "a0dbd232",
   "metadata": {},
   "outputs": [
    {
     "data": {
      "text/plain": [
       "array([0., 0., 0., 0., 0.])"
      ]
     },
     "execution_count": 10,
     "metadata": {},
     "output_type": "execute_result"
    }
   ],
   "source": [
    "np.zeros(5)"
   ]
  },
  {
   "cell_type": "code",
   "execution_count": 11,
   "id": "818eab71",
   "metadata": {},
   "outputs": [
    {
     "data": {
      "text/plain": [
       "array([[0., 0.],\n",
       "       [0., 0.]])"
      ]
     },
     "execution_count": 11,
     "metadata": {},
     "output_type": "execute_result"
    }
   ],
   "source": [
    "np.zeros((2,2))"
   ]
  },
  {
   "cell_type": "code",
   "execution_count": 12,
   "id": "1281fd07",
   "metadata": {},
   "outputs": [
    {
     "data": {
      "text/plain": [
       "array([[1., 1., 1., 1., 1., 1., 1., 1., 1.],\n",
       "       [1., 1., 1., 1., 1., 1., 1., 1., 1.],\n",
       "       [1., 1., 1., 1., 1., 1., 1., 1., 1.],\n",
       "       [1., 1., 1., 1., 1., 1., 1., 1., 1.],\n",
       "       [1., 1., 1., 1., 1., 1., 1., 1., 1.],\n",
       "       [1., 1., 1., 1., 1., 1., 1., 1., 1.],\n",
       "       [1., 1., 1., 1., 1., 1., 1., 1., 1.],\n",
       "       [1., 1., 1., 1., 1., 1., 1., 1., 1.],\n",
       "       [1., 1., 1., 1., 1., 1., 1., 1., 1.]])"
      ]
     },
     "execution_count": 12,
     "metadata": {},
     "output_type": "execute_result"
    }
   ],
   "source": [
    "np.ones((9,9))"
   ]
  },
  {
   "cell_type": "code",
   "execution_count": 13,
   "id": "d95c0be4",
   "metadata": {},
   "outputs": [
    {
     "data": {
      "text/plain": [
       "array([1., 1., 1., 1., 1.])"
      ]
     },
     "execution_count": 13,
     "metadata": {},
     "output_type": "execute_result"
    }
   ],
   "source": [
    "np.ones(5)"
   ]
  },
  {
   "cell_type": "code",
   "execution_count": 14,
   "id": "6a3eed24",
   "metadata": {},
   "outputs": [
    {
     "data": {
      "text/plain": [
       "array([[19, 19, 19],\n",
       "       [19, 19, 19],\n",
       "       [19, 19, 19]])"
      ]
     },
     "execution_count": 14,
     "metadata": {},
     "output_type": "execute_result"
    }
   ],
   "source": [
    "np.full((3,3),19)"
   ]
  },
  {
   "cell_type": "markdown",
   "id": "aece1b6a",
   "metadata": {},
   "source": [
    "LİNSPACE"
   ]
  },
  {
   "cell_type": "code",
   "execution_count": 15,
   "id": "b3061bff",
   "metadata": {},
   "outputs": [
    {
     "data": {
      "text/plain": [
       "array([ 0.,  5., 10., 15., 20.])"
      ]
     },
     "execution_count": 15,
     "metadata": {},
     "output_type": "execute_result"
    }
   ],
   "source": [
    "np.linspace(0,20,5)"
   ]
  },
  {
   "cell_type": "code",
   "execution_count": 16,
   "id": "8aa9c564",
   "metadata": {},
   "outputs": [
    {
     "data": {
      "text/plain": [
       "array([ 0. ,  2.5,  5. ,  7.5, 10. ])"
      ]
     },
     "execution_count": 16,
     "metadata": {},
     "output_type": "execute_result"
    }
   ],
   "source": [
    "np.linspace(0, 10, 5)"
   ]
  },
  {
   "cell_type": "markdown",
   "id": "f6cf6fe1",
   "metadata": {},
   "source": [
    "EYE"
   ]
  },
  {
   "cell_type": "code",
   "execution_count": 17,
   "id": "33985061",
   "metadata": {},
   "outputs": [
    {
     "data": {
      "text/plain": [
       "array([[1., 0., 0.],\n",
       "       [0., 1., 0.],\n",
       "       [0., 0., 1.]])"
      ]
     },
     "execution_count": 17,
     "metadata": {},
     "output_type": "execute_result"
    }
   ],
   "source": [
    "np.eye(3)"
   ]
  },
  {
   "cell_type": "code",
   "execution_count": 18,
   "id": "346ab0c5",
   "metadata": {},
   "outputs": [
    {
     "data": {
      "text/plain": [
       "array([[1., 0., 0.],\n",
       "       [0., 1., 0.],\n",
       "       [0., 0., 1.]])"
      ]
     },
     "execution_count": 18,
     "metadata": {},
     "output_type": "execute_result"
    }
   ],
   "source": [
    "np.identity(3)"
   ]
  },
  {
   "cell_type": "code",
   "execution_count": 19,
   "id": "fe87a1ef",
   "metadata": {},
   "outputs": [
    {
     "data": {
      "text/plain": [
       "array([[1., 0., 0., 0., 0., 0., 0., 0., 0., 0.],\n",
       "       [0., 1., 0., 0., 0., 0., 0., 0., 0., 0.],\n",
       "       [0., 0., 1., 0., 0., 0., 0., 0., 0., 0.],\n",
       "       [0., 0., 0., 1., 0., 0., 0., 0., 0., 0.],\n",
       "       [0., 0., 0., 0., 1., 0., 0., 0., 0., 0.],\n",
       "       [0., 0., 0., 0., 0., 1., 0., 0., 0., 0.],\n",
       "       [0., 0., 0., 0., 0., 0., 1., 0., 0., 0.],\n",
       "       [0., 0., 0., 0., 0., 0., 0., 1., 0., 0.],\n",
       "       [0., 0., 0., 0., 0., 0., 0., 0., 1., 0.],\n",
       "       [0., 0., 0., 0., 0., 0., 0., 0., 0., 1.]])"
      ]
     },
     "execution_count": 19,
     "metadata": {},
     "output_type": "execute_result"
    }
   ],
   "source": [
    "np.eye(10)"
   ]
  },
  {
   "cell_type": "code",
   "execution_count": 20,
   "id": "c44ea75d",
   "metadata": {},
   "outputs": [
    {
     "data": {
      "text/plain": [
       "array([[0., 0., 0., 0., 0., 1., 0., 0., 0., 0.],\n",
       "       [0., 0., 0., 0., 0., 0., 1., 0., 0., 0.],\n",
       "       [0., 0., 0., 0., 0., 0., 0., 1., 0., 0.],\n",
       "       [0., 0., 0., 0., 0., 0., 0., 0., 1., 0.],\n",
       "       [0., 0., 0., 0., 0., 0., 0., 0., 0., 1.],\n",
       "       [0., 0., 0., 0., 0., 0., 0., 0., 0., 0.],\n",
       "       [0., 0., 0., 0., 0., 0., 0., 0., 0., 0.],\n",
       "       [0., 0., 0., 0., 0., 0., 0., 0., 0., 0.],\n",
       "       [0., 0., 0., 0., 0., 0., 0., 0., 0., 0.],\n",
       "       [0., 0., 0., 0., 0., 0., 0., 0., 0., 0.]])"
      ]
     },
     "execution_count": 20,
     "metadata": {},
     "output_type": "execute_result"
    }
   ],
   "source": [
    "np.eye(10 , k=5)"
   ]
  },
  {
   "cell_type": "markdown",
   "id": "42c85531",
   "metadata": {},
   "source": [
    "RANDOM"
   ]
  },
  {
   "cell_type": "code",
   "execution_count": 21,
   "id": "71dcf75f",
   "metadata": {},
   "outputs": [
    {
     "data": {
      "text/plain": [
       "array([ 0.78082645,  0.66753594, -0.11543882,  0.23200377,  0.66556474,\n",
       "        0.16600188, -2.23310183, -0.00665771, -0.09569012])"
      ]
     },
     "execution_count": 21,
     "metadata": {},
     "output_type": "execute_result"
    }
   ],
   "source": [
    "np.random.randn(9)"
   ]
  },
  {
   "cell_type": "code",
   "execution_count": 22,
   "id": "dd40a1fc",
   "metadata": {},
   "outputs": [
    {
     "data": {
      "text/plain": [
       "array([[-0.06083806,  0.45084778],\n",
       "       [ 0.22050167, -0.46277944]])"
      ]
     },
     "execution_count": 22,
     "metadata": {},
     "output_type": "execute_result"
    }
   ],
   "source": [
    "np.random.randn(2,2)"
   ]
  },
  {
   "cell_type": "code",
   "execution_count": 23,
   "id": "1645ca7a",
   "metadata": {},
   "outputs": [
    {
     "data": {
      "text/plain": [
       "7"
      ]
     },
     "execution_count": 23,
     "metadata": {},
     "output_type": "execute_result"
    }
   ],
   "source": [
    "np.random.randint(1, 10)"
   ]
  },
  {
   "cell_type": "code",
   "execution_count": 24,
   "id": "4be359ae",
   "metadata": {},
   "outputs": [
    {
     "data": {
      "text/plain": [
       "array([7, 8, 9, 9, 2, 2], dtype=int32)"
      ]
     },
     "execution_count": 24,
     "metadata": {},
     "output_type": "execute_result"
    }
   ],
   "source": [
    "np.random.randint(1,10,6)"
   ]
  },
  {
   "cell_type": "code",
   "execution_count": 25,
   "id": "4bebe118",
   "metadata": {},
   "outputs": [
    {
     "data": {
      "text/plain": [
       "array([0.41828161, 0.02489749, 0.86928233, 0.2131325 , 0.56058043])"
      ]
     },
     "execution_count": 25,
     "metadata": {},
     "output_type": "execute_result"
    }
   ],
   "source": [
    "np.random.rand(5)"
   ]
  },
  {
   "cell_type": "code",
   "execution_count": 26,
   "id": "12211579",
   "metadata": {},
   "outputs": [
    {
     "data": {
      "text/plain": [
       "array([ 0,  1,  2,  3,  4,  5,  6,  7,  8,  9, 10, 11, 12, 13, 14, 15, 16,\n",
       "       17, 18, 19, 20, 21, 22, 23, 24, 25, 26, 27, 28, 29])"
      ]
     },
     "execution_count": 26,
     "metadata": {},
     "output_type": "execute_result"
    }
   ],
   "source": [
    "benimNumpyDizim = np.arange(30)\n",
    "benimNumpyDizim"
   ]
  },
  {
   "cell_type": "code",
   "execution_count": 27,
   "id": "dba8f707",
   "metadata": {},
   "outputs": [
    {
     "data": {
      "text/plain": [
       "array([ 0,  7, 14, 21, 28])"
      ]
     },
     "execution_count": 27,
     "metadata": {},
     "output_type": "execute_result"
    }
   ],
   "source": [
    "benimNumpyDizim2 = benimNumpyDizim.reshape(5,6)\n",
    "np.diag(benimNumpyDizim2)\n"
   ]
  },
  {
   "cell_type": "code",
   "execution_count": 28,
   "id": "8ddf25ce",
   "metadata": {},
   "outputs": [
    {
     "data": {
      "text/plain": [
       "array([ 25. ,  62.5, 100. ])"
      ]
     },
     "execution_count": 28,
     "metadata": {},
     "output_type": "execute_result"
    }
   ],
   "source": [
    "benimNumpyDizim2 = np.linspace(25,100,3)\n",
    "benimNumpyDizim2"
   ]
  },
  {
   "cell_type": "code",
   "execution_count": 29,
   "id": "c1bf2872",
   "metadata": {},
   "outputs": [
    {
     "data": {
      "text/plain": [
       "array([10, 14, 25, 28, 24,  3,  3, 25, 16,  6, 22,  8, 22, 26,  1, 12,  9,\n",
       "        3, 10, 19, 27, 22,  2,  1, 23,  7, 28,  2, 24, 23, 10, 10, 17,  5,\n",
       "       19, 13,  3, 20,  1, 22, 21, 20, 24,  3, 13, 11, 22, 26, 11, 14, 20,\n",
       "       10, 21, 27,  9, 12, 19, 10, 28,  8,  0, 19, 27, 22, 27,  2, 19, 13,\n",
       "       15, 12,  8, 25,  2, 20, 27, 27,  1,  1, 27, 20,  8,  1, 15,  1, 10,\n",
       "        0,  4, 26, 18,  1, 13, 29, 20,  0,  2,  1,  7, 16,  0,  4],\n",
       "      dtype=int32)"
      ]
     },
     "execution_count": 29,
     "metadata": {},
     "output_type": "execute_result"
    }
   ],
   "source": [
    "benimRandomDizim = np.random.randint(0,30,100)\n",
    "benimRandomDizim"
   ]
  },
  {
   "cell_type": "markdown",
   "id": "55cca28e",
   "metadata": {},
   "source": [
    "NUMPY DİZİ METODLARI"
   ]
  },
  {
   "cell_type": "code",
   "execution_count": 30,
   "id": "981e4151",
   "metadata": {},
   "outputs": [
    {
     "data": {
      "text/plain": [
       "array([[ 0,  1,  2,  3,  4,  5],\n",
       "       [ 6,  7,  8,  9, 10, 11],\n",
       "       [12, 13, 14, 15, 16, 17],\n",
       "       [18, 19, 20, 21, 22, 23],\n",
       "       [24, 25, 26, 27, 28, 29]])"
      ]
     },
     "execution_count": 30,
     "metadata": {},
     "output_type": "execute_result"
    }
   ],
   "source": [
    "benimNumpyDizim.reshape(5,6)"
   ]
  },
  {
   "cell_type": "code",
   "execution_count": 31,
   "id": "a9f1a81e",
   "metadata": {},
   "outputs": [
    {
     "data": {
      "text/plain": [
       "array([ 0,  6, 12, 18, 24])"
      ]
     },
     "execution_count": 31,
     "metadata": {},
     "output_type": "execute_result"
    }
   ],
   "source": [
    "np.diag(benimNumpyDizim.reshape(6,5))"
   ]
  },
  {
   "cell_type": "code",
   "execution_count": 32,
   "id": "b5ca6c0d",
   "metadata": {},
   "outputs": [
    {
     "data": {
      "text/plain": [
       "np.int32(29)"
      ]
     },
     "execution_count": 32,
     "metadata": {},
     "output_type": "execute_result"
    }
   ],
   "source": [
    "benimRandomDizim.max()"
   ]
  },
  {
   "cell_type": "code",
   "execution_count": 33,
   "id": "59a83695",
   "metadata": {},
   "outputs": [
    {
     "data": {
      "text/plain": [
       "np.int32(0)"
      ]
     },
     "execution_count": 33,
     "metadata": {},
     "output_type": "execute_result"
    }
   ],
   "source": [
    "benimRandomDizim.min()"
   ]
  },
  {
   "cell_type": "code",
   "execution_count": 34,
   "id": "e13efa4c",
   "metadata": {},
   "outputs": [
    {
     "data": {
      "text/plain": [
       "np.int64(91)"
      ]
     },
     "execution_count": 34,
     "metadata": {},
     "output_type": "execute_result"
    }
   ],
   "source": [
    "benimRandomDizim.argmax()"
   ]
  },
  {
   "cell_type": "code",
   "execution_count": 35,
   "id": "48b7461d",
   "metadata": {},
   "outputs": [
    {
     "data": {
      "text/plain": [
       "np.int64(60)"
      ]
     },
     "execution_count": 35,
     "metadata": {},
     "output_type": "execute_result"
    }
   ],
   "source": [
    "benimRandomDizim.argmin()"
   ]
  },
  {
   "cell_type": "code",
   "execution_count": 36,
   "id": "f8b488e9",
   "metadata": {},
   "outputs": [
    {
     "data": {
      "text/plain": [
       "(30,)"
      ]
     },
     "execution_count": 36,
     "metadata": {},
     "output_type": "execute_result"
    }
   ],
   "source": [
    "benimNumpyDizim.shape"
   ]
  },
  {
   "cell_type": "code",
   "execution_count": 37,
   "id": "a0dcaf52",
   "metadata": {},
   "outputs": [
    {
     "data": {
      "text/plain": [
       "(5, 6)"
      ]
     },
     "execution_count": 37,
     "metadata": {},
     "output_type": "execute_result"
    }
   ],
   "source": [
    "reshapeDizim = benimNumpyDizim.reshape(5,6)\n",
    "reshapeDizim.shape"
   ]
  },
  {
   "cell_type": "code",
   "execution_count": 38,
   "id": "8553feef",
   "metadata": {},
   "outputs": [
    {
     "data": {
      "text/plain": [
       "array([ 0,  1,  2,  3,  4,  5,  6,  7,  8,  9, 10, 11, 12, 13, 14])"
      ]
     },
     "execution_count": 38,
     "metadata": {},
     "output_type": "execute_result"
    }
   ],
   "source": [
    "benimDizim = np.arange(0,15)\n",
    "benimDizim"
   ]
  },
  {
   "cell_type": "code",
   "execution_count": 39,
   "id": "377c5f33",
   "metadata": {},
   "outputs": [
    {
     "data": {
      "text/plain": [
       "np.int64(5)"
      ]
     },
     "execution_count": 39,
     "metadata": {},
     "output_type": "execute_result"
    }
   ],
   "source": [
    "benimDizim[5]"
   ]
  },
  {
   "cell_type": "code",
   "execution_count": 40,
   "id": "113c7de2",
   "metadata": {},
   "outputs": [
    {
     "data": {
      "text/plain": [
       "array([ 3,  4,  5,  6,  7,  8,  9, 10, 11, 12, 13, 14])"
      ]
     },
     "execution_count": 40,
     "metadata": {},
     "output_type": "execute_result"
    }
   ],
   "source": [
    "benimDizim[3:15]"
   ]
  },
  {
   "cell_type": "code",
   "execution_count": 41,
   "id": "88e6a1d4",
   "metadata": {},
   "outputs": [
    {
     "data": {
      "text/plain": [
       "array([  0,   1, 100, 100, 100, 100, 100, 100,   8,   9,  10,  11,  12,\n",
       "        13,  14])"
      ]
     },
     "execution_count": 41,
     "metadata": {},
     "output_type": "execute_result"
    }
   ],
   "source": [
    "benimDizim[2:8] = 100\n",
    "benimDizim"
   ]
  },
  {
   "cell_type": "code",
   "execution_count": 42,
   "id": "1ba2be35",
   "metadata": {},
   "outputs": [
    {
     "data": {
      "text/plain": [
       "array([ 0,  1,  2,  3,  4,  5,  6,  7,  8,  9, 10, 11, 12, 13, 14, 15, 16,\n",
       "       17, 18, 19, 20, 21, 22, 23])"
      ]
     },
     "execution_count": 42,
     "metadata": {},
     "output_type": "execute_result"
    }
   ],
   "source": [
    "baskaDizi = np.arange(0,24)\n",
    "baskaDizi"
   ]
  },
  {
   "cell_type": "code",
   "execution_count": 43,
   "id": "cc5954e0",
   "metadata": {},
   "outputs": [
    {
     "name": "stdout",
     "output_type": "stream",
     "text": [
      "slicing dizi =  [4 5 6 7 8]\n",
      "başka dizi =  [ 0  1  2  3  4  5  6  7  8  9 10 11 12 13 14 15 16 17 18 19 20 21 22 23]\n"
     ]
    }
   ],
   "source": [
    "slicingDizi = baskaDizi[4:9]\n",
    "print(\"slicing dizi = \" ,slicingDizi)\n",
    "print(\"başka dizi = \" ,baskaDizi)"
   ]
  },
  {
   "cell_type": "code",
   "execution_count": 44,
   "id": "a3ef6d0d",
   "metadata": {},
   "outputs": [
    {
     "data": {
      "text/plain": [
       "array([4, 5, 6, 7, 8])"
      ]
     },
     "execution_count": 44,
     "metadata": {},
     "output_type": "execute_result"
    }
   ],
   "source": [
    "slicingDizi[:]"
   ]
  },
  {
   "cell_type": "code",
   "execution_count": 45,
   "id": "50bdcac2",
   "metadata": {},
   "outputs": [
    {
     "data": {
      "text/plain": [
       "array([1000, 1000, 1000, 1000, 1000])"
      ]
     },
     "execution_count": 45,
     "metadata": {},
     "output_type": "execute_result"
    }
   ],
   "source": [
    "slicingDizi[:] = 1000\n",
    "slicingDizi"
   ]
  },
  {
   "cell_type": "markdown",
   "id": "d9d26cd2",
   "metadata": {},
   "source": [
    "🧠 NumPy Dizilerinde Slicing (Dilimleme) ve Orijinal Diziyi Etkilemesi\n",
    "NumPy'de dizilerle çalışırken, bir dizinin bir alt bölümünü (subarray) almak için dilimleme (slicing) kullanılır. Ancak, Python listelerinden farklı olarak, NumPy'de bir dizi üzerinde yapılan dilimleme işlemi, verinin bir kopyasını oluşturmaz, orijinal dizinin bir görünümünü (view) oluşturur.\n",
    "\n",
    "🔍 Önemli Terimler\n",
    "Slicing (Dilimleme): Dizinin belli bir bölümünü : (iki nokta) sembolüyle seçme işlemidir.\n",
    "\n",
    "View (Görünüm): Orijinal veriye bağlı olan alt dizidir. Üzerinde yapılan değişiklikler ana diziyi etkiler.\n",
    "Yani, dilimde yapılan değişiklikler orijinal diziyi etkiler.\n",
    "\n",
    "Copy (Kopya): Orijinal veriden bağımsız yeni bir dizidir. Değişiklikler ana diziyi etkilemez."
   ]
  },
  {
   "cell_type": "code",
   "execution_count": 46,
   "id": "4da3031a",
   "metadata": {},
   "outputs": [
    {
     "data": {
      "text/plain": [
       "array([   0,    1,    2,    3, 1000, 1000, 1000, 1000, 1000,    9,   10,\n",
       "         11,   12,   13,   14,   15,   16,   17,   18,   19,   20,   21,\n",
       "         22,   23])"
      ]
     },
     "execution_count": 46,
     "metadata": {},
     "output_type": "execute_result"
    }
   ],
   "source": [
    "baskaDizi"
   ]
  },
  {
   "cell_type": "markdown",
   "id": "6c0fad11",
   "metadata": {},
   "source": [
    "🧷 NumPy'de Slicing Sonucunda Orijinal Dizinin Değişmesini Önlemek\n",
    "NumPy'de bir diziden parça almak için yapılan slicing (dilimleme) işlemi, verinin bir kopyasını değil, bir görünümünü (view) oluşturur. Bu yüzden, bu görünüm üzerinde yapılan değişiklikler orijinal diziyi (original array) de etkiler.\n",
    "\n",
    "Bu durumu engellemek için, dilimleme işleminden sonra copy() metodunu kullanarak bağımsız bir kopya alınmalıdır."
   ]
  },
  {
   "cell_type": "code",
   "execution_count": 47,
   "id": "3bf691e8",
   "metadata": {},
   "outputs": [
    {
     "data": {
      "text/plain": [
       "array([ 0,  1,  2,  3,  4,  5,  6,  7,  8,  9, 10, 11, 12, 13, 14, 15, 16,\n",
       "       17, 18, 19])"
      ]
     },
     "execution_count": 47,
     "metadata": {},
     "output_type": "execute_result"
    }
   ],
   "source": [
    "ornekDizi = np.arange(0,20)\n",
    "ornekDizi"
   ]
  },
  {
   "cell_type": "code",
   "execution_count": 48,
   "id": "3a72a128",
   "metadata": {},
   "outputs": [
    {
     "data": {
      "text/plain": [
       "array([ 0,  1,  2,  3,  4,  5,  6,  7,  8,  9, 10, 11, 12, 13, 14, 15, 16,\n",
       "       17, 18, 19])"
      ]
     },
     "execution_count": 48,
     "metadata": {},
     "output_type": "execute_result"
    }
   ],
   "source": [
    "ornekDiziKopya = ornekDizi.copy()\n",
    "ornekDiziKopya"
   ]
  },
  {
   "cell_type": "code",
   "execution_count": 49,
   "id": "c4e8261b",
   "metadata": {},
   "outputs": [
    {
     "data": {
      "text/plain": [
       "array([ 0,  1,  2,  3,  4,  5,  6,  7,  8,  9, 10, 11, 12, 13, 14, 15, 16,\n",
       "       17, 18, 19])"
      ]
     },
     "execution_count": 49,
     "metadata": {},
     "output_type": "execute_result"
    }
   ],
   "source": [
    "ornekDiziKopya"
   ]
  },
  {
   "cell_type": "code",
   "execution_count": 50,
   "id": "3b672985",
   "metadata": {},
   "outputs": [
    {
     "name": "stdout",
     "output_type": "stream",
     "text": [
      "örnek dizi kopya dilim =  [1000 1000 1000 1000 1000]\n",
      "örnek dizi kopya [   0    1    2    3    4 1000 1000 1000 1000 1000   10   11   12   13\n",
      "   14   15   16   17   18   19]\n",
      "ornek dizi [ 0  1  2  3  4  5  6  7  8  9 10 11 12 13 14 15 16 17 18 19]\n"
     ]
    }
   ],
   "source": [
    "ornekDiziKopyaSlicing = ornekDiziKopya[5:10]\n",
    "ornekDiziKopyaSlicing[:] = 1000\n",
    "print(\"örnek dizi kopya dilim = \", ornekDiziKopyaSlicing)\n",
    "print(\"örnek dizi kopya\",ornekDiziKopya)\n",
    "print(\"ornek dizi\", ornekDizi)"
   ]
  },
  {
   "cell_type": "code",
   "execution_count": 51,
   "id": "dbf5fdf2",
   "metadata": {},
   "outputs": [
    {
     "data": {
      "text/plain": [
       "array([900, 900, 900, 900, 900])"
      ]
     },
     "execution_count": 51,
     "metadata": {},
     "output_type": "execute_result"
    }
   ],
   "source": [
    "ornekDiziKopyaSlicing[:] = 900\n",
    "ornekDiziKopyaSlicing"
   ]
  },
  {
   "cell_type": "code",
   "execution_count": 52,
   "id": "222ddc3a",
   "metadata": {},
   "outputs": [
    {
     "data": {
      "text/plain": [
       "array([  0,   1,   2,   3,   4, 900, 900, 900, 900, 900,  10,  11,  12,\n",
       "        13,  14,  15,  16,  17,  18,  19])"
      ]
     },
     "execution_count": 52,
     "metadata": {},
     "output_type": "execute_result"
    }
   ],
   "source": [
    "ornekDiziKopya"
   ]
  },
  {
   "cell_type": "code",
   "execution_count": 53,
   "id": "77f0bdc8",
   "metadata": {},
   "outputs": [
    {
     "data": {
      "text/plain": [
       "array([ 0,  1,  2,  3,  4,  5,  6,  7,  8,  9, 10, 11, 12, 13, 14, 15, 16,\n",
       "       17, 18, 19])"
      ]
     },
     "execution_count": 53,
     "metadata": {},
     "output_type": "execute_result"
    }
   ],
   "source": [
    "ornekDizi"
   ]
  },
  {
   "cell_type": "markdown",
   "id": "d6c45cb1",
   "metadata": {},
   "source": [
    "MATRİX İŞLEMLERİ "
   ]
  },
  {
   "cell_type": "code",
   "execution_count": 54,
   "id": "f7e758dd",
   "metadata": {},
   "outputs": [
    {
     "data": {
      "text/plain": [
       "array([[1, 2, 3],\n",
       "       [4, 5, 6],\n",
       "       [7, 8, 9]])"
      ]
     },
     "execution_count": 54,
     "metadata": {},
     "output_type": "execute_result"
    }
   ],
   "source": [
    "ornekMatrixDizi = np.array([[1, 2, 3], [4, 5, 6], [7, 8, 9]])\n",
    "ornekMatrixDizi"
   ]
  },
  {
   "cell_type": "code",
   "execution_count": 55,
   "id": "6d5a6835",
   "metadata": {},
   "outputs": [
    {
     "data": {
      "text/plain": [
       "numpy.ndarray"
      ]
     },
     "execution_count": 55,
     "metadata": {},
     "output_type": "execute_result"
    }
   ],
   "source": [
    "type(ornekMatrixDizi)"
   ]
  },
  {
   "cell_type": "code",
   "execution_count": 56,
   "id": "217e6d9e",
   "metadata": {},
   "outputs": [
    {
     "data": {
      "text/plain": [
       "array([1, 2, 3])"
      ]
     },
     "execution_count": 56,
     "metadata": {},
     "output_type": "execute_result"
    }
   ],
   "source": [
    "ornekMatrixDizi[0]"
   ]
  },
  {
   "cell_type": "code",
   "execution_count": 57,
   "id": "3762d5aa",
   "metadata": {},
   "outputs": [
    {
     "data": {
      "text/plain": [
       "np.int64(6)"
      ]
     },
     "execution_count": 57,
     "metadata": {},
     "output_type": "execute_result"
    }
   ],
   "source": [
    "ornekMatrixDizi[1,2]"
   ]
  },
  {
   "cell_type": "code",
   "execution_count": 58,
   "id": "624d7367",
   "metadata": {},
   "outputs": [
    {
     "data": {
      "text/plain": [
       "array([5, 8])"
      ]
     },
     "execution_count": 58,
     "metadata": {},
     "output_type": "execute_result"
    }
   ],
   "source": [
    "ornekMatrixDizi[1:,1]"
   ]
  },
  {
   "cell_type": "code",
   "execution_count": 59,
   "id": "24929cac",
   "metadata": {},
   "outputs": [
    {
     "data": {
      "text/plain": [
       "array([3, 6, 9])"
      ]
     },
     "execution_count": 59,
     "metadata": {},
     "output_type": "execute_result"
    }
   ],
   "source": [
    "ornekMatrixDizi[0:,2]"
   ]
  },
  {
   "cell_type": "code",
   "execution_count": 60,
   "id": "6a457b0a",
   "metadata": {},
   "outputs": [
    {
     "data": {
      "text/plain": [
       "[[0, 1, 2, 3, 4], [5, 6, 7, 8, 9], [10, 11, 12, 13, 14], [15, 16, 17, 18, 19]]"
      ]
     },
     "execution_count": 60,
     "metadata": {},
     "output_type": "execute_result"
    }
   ],
   "source": [
    "yeniListe = ([list(range(0,5)),list(range(5,10)),list(range(10,15)),list(range(15,20))])\n",
    "yeniListe"
   ]
  },
  {
   "cell_type": "code",
   "execution_count": 61,
   "id": "9ce475aa",
   "metadata": {},
   "outputs": [
    {
     "data": {
      "text/plain": [
       "array([[ 0,  1,  2,  3,  4],\n",
       "       [ 5,  6,  7,  8,  9],\n",
       "       [10, 11, 12, 13, 14],\n",
       "       [15, 16, 17, 18, 19]])"
      ]
     },
     "execution_count": 61,
     "metadata": {},
     "output_type": "execute_result"
    }
   ],
   "source": [
    "yeniMatrix = np.array(yeniListe)\n",
    "yeniMatrix"
   ]
  },
  {
   "cell_type": "code",
   "execution_count": 62,
   "id": "4893756b",
   "metadata": {},
   "outputs": [
    {
     "data": {
      "text/plain": [
       "array([10, 11, 12, 13, 14])"
      ]
     },
     "execution_count": 62,
     "metadata": {},
     "output_type": "execute_result"
    }
   ],
   "source": [
    "yeniMatrix[2]"
   ]
  },
  {
   "cell_type": "code",
   "execution_count": 63,
   "id": "66132c0d",
   "metadata": {},
   "outputs": [
    {
     "data": {
      "text/plain": [
       "array([[ 0,  1,  2,  3,  4],\n",
       "       [10, 11, 12, 13, 14],\n",
       "       [15, 16, 17, 18, 19]])"
      ]
     },
     "execution_count": 63,
     "metadata": {},
     "output_type": "execute_result"
    }
   ],
   "source": [
    "yeniMatrix[[0, 2, 3]]"
   ]
  },
  {
   "cell_type": "markdown",
   "id": "7b7af802",
   "metadata": {},
   "source": [
    "OPERASYONLAR"
   ]
  },
  {
   "cell_type": "code",
   "execution_count": 64,
   "id": "475810ff",
   "metadata": {},
   "outputs": [
    {
     "data": {
      "text/plain": [
       "array([76, 86, 65, 23,  3, 45, 83, 88, 56, 99, 26, 67, 81, 98, 25, 97, 57,\n",
       "        7,  6, 15, 90, 12, 38,  4, 96], dtype=int32)"
      ]
     },
     "execution_count": 64,
     "metadata": {},
     "output_type": "execute_result"
    }
   ],
   "source": [
    "yeniBirDizi = np.random.randint(1,100,25)\n",
    "yeniBirDizi"
   ]
  },
  {
   "cell_type": "code",
   "execution_count": 65,
   "id": "ea4431e4",
   "metadata": {},
   "outputs": [
    {
     "data": {
      "text/plain": [
       "array([ True,  True,  True, False, False,  True,  True,  True,  True,\n",
       "        True,  True,  True,  True,  True,  True,  True,  True, False,\n",
       "       False, False,  True, False,  True, False,  True])"
      ]
     },
     "execution_count": 65,
     "metadata": {},
     "output_type": "execute_result"
    }
   ],
   "source": [
    "sonucDizisi = yeniBirDizi > 24\n",
    "sonucDizisi"
   ]
  },
  {
   "cell_type": "code",
   "execution_count": 66,
   "id": "7efc3c3e",
   "metadata": {},
   "outputs": [
    {
     "data": {
      "text/plain": [
       "array([76, 86, 65, 23,  3, 45, 83, 88, 56, 99, 26, 67, 81, 98, 25, 97, 57,\n",
       "        7,  6, 15, 90, 12, 38,  4, 96], dtype=int32)"
      ]
     },
     "execution_count": 66,
     "metadata": {},
     "output_type": "execute_result"
    }
   ],
   "source": [
    "yeniBirDizi"
   ]
  },
  {
   "cell_type": "code",
   "execution_count": 67,
   "id": "8818c245",
   "metadata": {},
   "outputs": [
    {
     "data": {
      "text/plain": [
       "array([76, 86, 65, 45, 83, 88, 56, 99, 26, 67, 81, 98, 25, 97, 57, 90, 38,\n",
       "       96], dtype=int32)"
      ]
     },
     "execution_count": 67,
     "metadata": {},
     "output_type": "execute_result"
    }
   ],
   "source": [
    "yeniBirDizi[sonucDizisi]"
   ]
  },
  {
   "cell_type": "code",
   "execution_count": 68,
   "id": "5dea8493",
   "metadata": {},
   "outputs": [
    {
     "data": {
      "text/plain": [
       "array([ 0,  1,  2,  3,  4,  5,  6,  7,  8,  9, 10, 11, 12, 13, 14, 15, 16,\n",
       "       17, 18, 19, 20, 21, 22, 23])"
      ]
     },
     "execution_count": 68,
     "metadata": {},
     "output_type": "execute_result"
    }
   ],
   "source": [
    "sonDizi = np.arange(0,24)\n",
    "sonDizi"
   ]
  },
  {
   "cell_type": "code",
   "execution_count": 69,
   "id": "8a42cf75",
   "metadata": {},
   "outputs": [
    {
     "data": {
      "text/plain": [
       "array([ 0,  2,  4,  6,  8, 10, 12, 14, 16, 18, 20, 22, 24, 26, 28, 30, 32,\n",
       "       34, 36, 38, 40, 42, 44, 46])"
      ]
     },
     "execution_count": 69,
     "metadata": {},
     "output_type": "execute_result"
    }
   ],
   "source": [
    "sonDiziToplam = sonDizi + sonDizi\n",
    "sonDiziToplam"
   ]
  },
  {
   "cell_type": "code",
   "execution_count": 70,
   "id": "376c5ccd",
   "metadata": {},
   "outputs": [
    {
     "data": {
      "text/plain": [
       "array([  0,   1,   4,   9,  16,  25,  36,  49,  64,  81, 100, 121, 144,\n",
       "       169, 196, 225, 256, 289, 324, 361, 400, 441, 484, 529])"
      ]
     },
     "execution_count": 70,
     "metadata": {},
     "output_type": "execute_result"
    }
   ],
   "source": [
    "sonDiziCarpim = sonDizi * sonDizi\n",
    "sonDiziCarpim"
   ]
  },
  {
   "cell_type": "code",
   "execution_count": 71,
   "id": "ac41447d",
   "metadata": {},
   "outputs": [
    {
     "data": {
      "text/plain": [
       "array([0, 0, 0, 0, 0, 0, 0, 0, 0, 0, 0, 0, 0, 0, 0, 0, 0, 0, 0, 0, 0, 0,\n",
       "       0, 0])"
      ]
     },
     "execution_count": 71,
     "metadata": {},
     "output_type": "execute_result"
    }
   ],
   "source": [
    "sonDiziFark = sonDizi - sonDizi\n",
    "sonDiziFark"
   ]
  },
  {
   "cell_type": "code",
   "execution_count": 72,
   "id": "d7588efb",
   "metadata": {},
   "outputs": [
    {
     "name": "stderr",
     "output_type": "stream",
     "text": [
      "C:\\Users\\ebeng\\AppData\\Local\\Temp\\ipykernel_11232\\1747164899.py:1: RuntimeWarning: invalid value encountered in divide\n",
      "  sonDiziBolum = sonDizi / sonDizi\n"
     ]
    },
    {
     "data": {
      "text/plain": [
       "array([nan,  1.,  1.,  1.,  1.,  1.,  1.,  1.,  1.,  1.,  1.,  1.,  1.,\n",
       "        1.,  1.,  1.,  1.,  1.,  1.,  1.,  1.,  1.,  1.,  1.])"
      ]
     },
     "execution_count": 72,
     "metadata": {},
     "output_type": "execute_result"
    }
   ],
   "source": [
    "sonDiziBolum = sonDizi / sonDizi\n",
    "sonDiziBolum"
   ]
  },
  {
   "cell_type": "code",
   "execution_count": 73,
   "id": "36291404",
   "metadata": {},
   "outputs": [
    {
     "data": {
      "text/plain": [
       "array([0.        , 1.        , 1.41421356, 1.73205081, 2.        ,\n",
       "       2.23606798, 2.44948974, 2.64575131, 2.82842712, 3.        ,\n",
       "       3.16227766, 3.31662479, 3.46410162, 3.60555128, 3.74165739,\n",
       "       3.87298335, 4.        , 4.12310563, 4.24264069, 4.35889894,\n",
       "       4.47213595, 4.58257569, 4.69041576, 4.79583152])"
      ]
     },
     "execution_count": 73,
     "metadata": {},
     "output_type": "execute_result"
    }
   ],
   "source": [
    "np.sqrt(sonDizi)"
   ]
  },
  {
   "cell_type": "code",
   "execution_count": 74,
   "id": "c62d4793",
   "metadata": {},
   "outputs": [
    {
     "name": "stdout",
     "output_type": "stream",
     "text": [
      "Maximum Değer: 23\n",
      "Minimum Değer: 0\n"
     ]
    }
   ],
   "source": [
    "print(\"Maximum Değer:\" ,np.max(sonDizi))\n",
    "print(\"Minimum Değer:\" ,np.min(sonDizi))"
   ]
  },
  {
   "cell_type": "code",
   "execution_count": 75,
   "id": "c27fb8c3",
   "metadata": {},
   "outputs": [
    {
     "name": "stdout",
     "output_type": "stream",
     "text": [
      "(10,)\n"
     ]
    }
   ],
   "source": [
    "dizi = np.arange(0,10)\n",
    "print(dizi.shape)"
   ]
  },
  {
   "cell_type": "code",
   "execution_count": 76,
   "id": "2092fc8f",
   "metadata": {},
   "outputs": [
    {
     "data": {
      "text/plain": [
       "array([[7.19696324e-312, 2.47032823e-322, 0.00000000e+000,\n",
       "        0.00000000e+000],\n",
       "       [2.22809558e-312, 8.60952352e-072, 5.33840028e-091,\n",
       "        1.83119717e-076],\n",
       "       [2.32690721e-057, 3.11035843e+179, 3.99910963e+252,\n",
       "        5.82471487e+257]])"
      ]
     },
     "execution_count": 76,
     "metadata": {},
     "output_type": "execute_result"
    }
   ],
   "source": [
    "np.empty((3,4))"
   ]
  },
  {
   "cell_type": "code",
   "execution_count": 77,
   "id": "c9ec6518",
   "metadata": {},
   "outputs": [
    {
     "name": "stdout",
     "output_type": "stream",
     "text": [
      "[1 2 3 4]\n"
     ]
    }
   ],
   "source": [
    "a = np.array([1, 2])\n",
    "b = np.array([3, 4])\n",
    "print(np.concatenate((a, b)))  # [1 2 3 4]\n"
   ]
  },
  {
   "cell_type": "markdown",
   "id": "e8b9cf38",
   "metadata": {},
   "source": [
    " Senaryo:\n",
    "Bir sınıftaki 5 öğrencinin 3 dersten aldığı notlar aşağıdaki gibidir. Bu notları NumPy kullanarak analiz edeceğiz:"
   ]
  },
  {
   "cell_type": "code",
   "execution_count": 78,
   "id": "cf4f2c84",
   "metadata": {},
   "outputs": [
    {
     "data": {
      "text/plain": [
       "array([[85, 75, 60],\n",
       "       [90, 80, 70],\n",
       "       [95, 88, 92],\n",
       "       [70, 65, 80],\n",
       "       [88, 90, 85]])"
      ]
     },
     "execution_count": 78,
     "metadata": {},
     "output_type": "execute_result"
    }
   ],
   "source": [
    "#NOTLAR\n",
    "notlar = np.array([\n",
    "    [85,75,60],\n",
    "    [90,80,70],      \n",
    "    [95,88,92], \n",
    "    [70,65,80], \n",
    "    [88,90,85]\n",
    "])\n",
    "notlar"
   ]
  },
  {
   "cell_type": "code",
   "execution_count": 79,
   "id": "848f9f10",
   "metadata": {},
   "outputs": [
    {
     "name": "stdout",
     "output_type": "stream",
     "text": [
      "öğrenci ortalama :  [73.33333333 80.         91.66666667 71.66666667 87.66666667]\n",
      "ders ortalama :  [85.6 79.6 77.4]\n"
     ]
    }
   ],
   "source": [
    "#HER ÖĞRENCİNİN ORTALAMASI\n",
    "ogrenci_ortalama = np.mean(notlar,axis=1) #yatay\n",
    "print(\"öğrenci ortalama : \" ,ogrenci_ortalama)\n",
    "ders_ortalama = np.mean(notlar,axis=0) #dikey\n",
    "print(\"ders ortalama : \" ,ders_ortalama)"
   ]
  },
  {
   "cell_type": "code",
   "execution_count": 80,
   "id": "af03ba9c",
   "metadata": {},
   "outputs": [
    {
     "data": {
      "text/plain": [
       "[array([60, 65])]"
      ]
     },
     "execution_count": 80,
     "metadata": {},
     "output_type": "execute_result"
    }
   ],
   "source": [
    "notlar < 70\n",
    "[notlar[notlar<70]]"
   ]
  },
  {
   "cell_type": "code",
   "execution_count": 81,
   "id": "a4ab4d34",
   "metadata": {},
   "outputs": [
    {
     "name": "stdout",
     "output_type": "stream",
     "text": [
      "70 Altı Notlar (True = düşük):\n",
      "[[False False  True]\n",
      " [False False False]\n",
      " [False False False]\n",
      " [False  True False]\n",
      " [False False False]]\n"
     ]
    }
   ],
   "source": [
    "mask = notlar < 70\n",
    "print(\"70 Altı Notlar (True = düşük):\")\n",
    "print(mask)\n"
   ]
  },
  {
   "cell_type": "code",
   "execution_count": 82,
   "id": "7de20bcf",
   "metadata": {},
   "outputs": [
    {
     "name": "stdout",
     "output_type": "stream",
     "text": [
      "Her dersten geçen öğrenci sayısı: [5 4 4]\n"
     ]
    }
   ],
   "source": [
    "gecen_sayilar = np.sum(notlar >= 70, axis=0)\n",
    "print(\"Her dersten geçen öğrenci sayısı:\", gecen_sayilar)\n"
   ]
  },
  {
   "cell_type": "code",
   "execution_count": 83,
   "id": "35f5201b",
   "metadata": {},
   "outputs": [
    {
     "name": "stdout",
     "output_type": "stream",
     "text": [
      "En yüksek not: 95\n",
      "En düşük not: 60\n"
     ]
    }
   ],
   "source": [
    "en_yuksek = np.max(notlar)\n",
    "en_dusuk = np.min(notlar)\n",
    "\n",
    "print(\"En yüksek not:\", en_yuksek)\n",
    "print(\"En düşük not:\", en_dusuk)\n"
   ]
  },
  {
   "cell_type": "code",
   "execution_count": 84,
   "id": "86f4cab3",
   "metadata": {},
   "outputs": [
    {
     "name": "stdout",
     "output_type": "stream",
     "text": [
      "Yeni Notlar (5 puan artırılmış):\n",
      "[[ 90  80  65]\n",
      " [ 95  85  75]\n",
      " [100  93  97]\n",
      " [ 75  70  85]\n",
      " [ 93  95  90]]\n"
     ]
    }
   ],
   "source": [
    "yeniNotlar = notlar + 5\n",
    "print(\"Yeni Notlar (5 puan artırılmış):\")\n",
    "print(yeniNotlar)"
   ]
  },
  {
   "cell_type": "code",
   "execution_count": 85,
   "id": "6fb8ef31",
   "metadata": {},
   "outputs": [
    {
     "data": {
      "text/plain": [
       "array([[99, 35, 75, 12, 79],\n",
       "       [85, 19, 65, 50, 49],\n",
       "       [44, 60,  3, 94, 76],\n",
       "       [84, 65, 28, 15, 17],\n",
       "       [48, 17, 72, 59, 51]], dtype=int32)"
      ]
     },
     "execution_count": 85,
     "metadata": {},
     "output_type": "execute_result"
    }
   ],
   "source": [
    "matris = np.random.randint(1, 100, (5, 5))\n",
    "matris"
   ]
  },
  {
   "cell_type": "code",
   "execution_count": 86,
   "id": "2df1fd53",
   "metadata": {},
   "outputs": [
    {
     "name": "stdout",
     "output_type": "stream",
     "text": [
      "Matrisin Transpozu:\n",
      "[[99 85 44 84 48]\n",
      " [35 19 60 65 17]\n",
      " [75 65  3 28 72]\n",
      " [12 50 94 15 59]\n",
      " [79 49 76 17 51]]\n"
     ]
    }
   ],
   "source": [
    "matris_Transpose = matris.T\n",
    "print(\"Matrisin Transpozu:\")\n",
    "print(matris_Transpose)"
   ]
  }
 ],
 "metadata": {
  "kernelspec": {
   "display_name": "Python 3",
   "language": "python",
   "name": "python3"
  },
  "language_info": {
   "codemirror_mode": {
    "name": "ipython",
    "version": 3
   },
   "file_extension": ".py",
   "mimetype": "text/x-python",
   "name": "python",
   "nbconvert_exporter": "python",
   "pygments_lexer": "ipython3",
   "version": "3.10.7"
  }
 },
 "nbformat": 4,
 "nbformat_minor": 5
}
