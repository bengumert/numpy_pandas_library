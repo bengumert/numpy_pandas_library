{
 "cells": [
  {
   "cell_type": "markdown",
   "id": "872fab3f",
   "metadata": {},
   "source": [
    "NumPy Dizisi (Array) Oluşturma ve Veri Tipi Değiştirme"
   ]
  },
  {
   "cell_type": "code",
   "execution_count": 1,
   "id": "44fdfd99",
   "metadata": {},
   "outputs": [],
   "source": [
    "import numpy as np"
   ]
  },
  {
   "cell_type": "code",
   "execution_count": 2,
   "id": "a08c49fd",
   "metadata": {},
   "outputs": [
    {
     "name": "stdout",
     "output_type": "stream",
     "text": [
      "list1: [1 2 3 4 5]\n",
      "<class 'numpy.ndarray'>\n"
     ]
    }
   ],
   "source": [
    "list1 = np.array([1,2,3,4,5])\n",
    "print(\"list1:\", list1)\n",
    "print(type(list1))"
   ]
  },
  {
   "cell_type": "code",
   "execution_count": 3,
   "id": "efa9f26f",
   "metadata": {},
   "outputs": [
    {
     "name": "stdout",
     "output_type": "stream",
     "text": [
      "list1 veri tipi:  int64\n"
     ]
    }
   ],
   "source": [
    "print(\"list1 veri tipi: \", list1.dtype)"
   ]
  },
  {
   "cell_type": "code",
   "execution_count": 4,
   "id": "616a63a2",
   "metadata": {},
   "outputs": [
    {
     "data": {
      "text/plain": [
       "dtype('float64')"
      ]
     },
     "execution_count": 4,
     "metadata": {},
     "output_type": "execute_result"
    }
   ],
   "source": [
    "list1_float=list1.astype(np.float64)\n",
    "list1_float.dtype\n"
   ]
  },
  {
   "cell_type": "markdown",
   "id": "a0ca9418",
   "metadata": {},
   "source": [
    " Çok Boyutlu Dizi (Matrix) Oluşturma ve Erişim"
   ]
  },
  {
   "cell_type": "code",
   "execution_count": 5,
   "id": "85059591",
   "metadata": {},
   "outputs": [
    {
     "name": "stdout",
     "output_type": "stream",
     "text": [
      "matris:\n",
      " [[1 2 3]\n",
      " [4 5 6]]\n"
     ]
    }
   ],
   "source": [
    "matris = np.array([[1,2,3], [4,5,6]])\n",
    "print(\"matris:\\n\",matris)"
   ]
  },
  {
   "cell_type": "code",
   "execution_count": 6,
   "id": "5b5bd66b",
   "metadata": {},
   "outputs": [
    {
     "name": "stdout",
     "output_type": "stream",
     "text": [
      "matrisin boyutları: (2, 3)\n"
     ]
    }
   ],
   "source": [
    "print(\"matrisin boyutları:\", np.shape(matris))"
   ]
  },
  {
   "cell_type": "code",
   "execution_count": 7,
   "id": "21233303",
   "metadata": {},
   "outputs": [
    {
     "data": {
      "text/plain": [
       "np.int64(3)"
      ]
     },
     "execution_count": 7,
     "metadata": {},
     "output_type": "execute_result"
    }
   ],
   "source": [
    "matris[0,2]"
   ]
  },
  {
   "cell_type": "markdown",
   "id": "3a92ffbe",
   "metadata": {},
   "source": [
    "Dizi Üzerinde Matematiksel İşlemler"
   ]
  },
  {
   "cell_type": "code",
   "execution_count": 8,
   "id": "afab4eb5",
   "metadata": {},
   "outputs": [
    {
     "name": "stdout",
     "output_type": "stream",
     "text": [
      "toplama: [5 7 9]\n",
      "çıkarma: [-3 -3 -3]\n",
      "çarpma: [ 4 10 18]\n",
      "bölme: [0.25 0.4  0.5 ]\n",
      "elemanların karesi: [1 4 9]\n",
      "ortalama: 2.0\n"
     ]
    }
   ],
   "source": [
    "a = np.array([1,2,3])\n",
    "b = np.array([4,5,6])\n",
    "print(\"toplama:\", a + b)\n",
    "print(\"çıkarma:\", a - b)\n",
    "print(\"çarpma:\", a * b)\n",
    "print(\"bölme:\", a / b)\n",
    "print(\"elemanların karesi:\", a ** 2)\n",
    "print(\"ortalama:\", np.mean(a))"
   ]
  },
  {
   "cell_type": "markdown",
   "id": "f0ca10be",
   "metadata": {},
   "source": [
    "Dizi Boyutunu Değiştirme (Reshape)"
   ]
  },
  {
   "cell_type": "code",
   "execution_count": 9,
   "id": "2886d34b",
   "metadata": {},
   "outputs": [
    {
     "name": "stdout",
     "output_type": "stream",
     "text": [
      "dizi1:\n",
      " [[26 14  2 28 22]\n",
      " [ 2 15  2 19  7]\n",
      " [18 19 24 25 19]\n",
      " [ 9  0 29 15  1]\n",
      " [ 6  0 14 13 14]\n",
      " [ 1 18  7 26  4]]\n"
     ]
    }
   ],
   "source": [
    "dizi1 = np.random.randint(0,30,(6,5))\n",
    "print(\"dizi1:\\n\", dizi1)"
   ]
  },
  {
   "cell_type": "code",
   "execution_count": 10,
   "id": "ab2b22c3",
   "metadata": {},
   "outputs": [
    {
     "data": {
      "text/plain": [
       "array([26, 14,  2, 28, 22,  2, 15,  2, 19,  7, 18, 19, 24, 25, 19,  9,  0,\n",
       "       29, 15,  1,  6,  0, 14, 13, 14,  1, 18,  7, 26,  4], dtype=int32)"
      ]
     },
     "execution_count": 10,
     "metadata": {},
     "output_type": "execute_result"
    }
   ],
   "source": [
    "dizi1.reshape(30)"
   ]
  },
  {
   "cell_type": "code",
   "execution_count": 11,
   "id": "4aabb6e8",
   "metadata": {},
   "outputs": [
    {
     "data": {
      "text/plain": [
       "array([[26, 14,  2, 28, 22,  2],\n",
       "       [15,  2, 19,  7, 18, 19],\n",
       "       [24, 25, 19,  9,  0, 29],\n",
       "       [15,  1,  6,  0, 14, 13],\n",
       "       [14,  1, 18,  7, 26,  4]], dtype=int32)"
      ]
     },
     "execution_count": 11,
     "metadata": {},
     "output_type": "execute_result"
    }
   ],
   "source": [
    "dizi1.reshape(5,6)"
   ]
  },
  {
   "cell_type": "markdown",
   "id": "017dcb41",
   "metadata": {},
   "source": [
    "Dizi İçinden Belirli Koşula Göre Eleman Seçme (Boolean Indexing)"
   ]
  },
  {
   "cell_type": "code",
   "execution_count": 12,
   "id": "a4dc137c",
   "metadata": {},
   "outputs": [
    {
     "data": {
      "text/plain": [
       "array([[43, 53, 97,  9],\n",
       "       [43, 28, 36, 16],\n",
       "       [23, 44, 88, 86],\n",
       "       [48, 97, 10, 70],\n",
       "       [78, 84, 56, 45],\n",
       "       [35, 39, 56, 57],\n",
       "       [71, 66, 87, 61],\n",
       "       [73, 90, 26, 88],\n",
       "       [19,  4, 36, 95],\n",
       "       [24,  1, 58, 36]], dtype=int32)"
      ]
     },
     "execution_count": 12,
     "metadata": {},
     "output_type": "execute_result"
    }
   ],
   "source": [
    "dizi2 = np.random.randint(0,100,(10,4))\n",
    "dizi2"
   ]
  },
  {
   "cell_type": "code",
   "execution_count": 13,
   "id": "d49fda64",
   "metadata": {},
   "outputs": [
    {
     "data": {
      "text/plain": [
       "array([[False,  True,  True, False],\n",
       "       [False, False, False, False],\n",
       "       [False, False,  True,  True],\n",
       "       [False,  True, False,  True],\n",
       "       [ True,  True,  True, False],\n",
       "       [False, False,  True,  True],\n",
       "       [ True,  True,  True,  True],\n",
       "       [ True,  True, False,  True],\n",
       "       [False, False, False,  True],\n",
       "       [False, False,  True, False]])"
      ]
     },
     "execution_count": 13,
     "metadata": {},
     "output_type": "execute_result"
    }
   ],
   "source": [
    "dizi2 > 50"
   ]
  },
  {
   "cell_type": "code",
   "execution_count": 14,
   "id": "3653bb64",
   "metadata": {},
   "outputs": [
    {
     "data": {
      "text/plain": [
       "array([53, 97, 88, 86, 97, 70, 78, 84, 56, 56, 57, 71, 66, 87, 61, 73, 90,\n",
       "       88, 95, 58], dtype=int32)"
      ]
     },
     "execution_count": 14,
     "metadata": {},
     "output_type": "execute_result"
    }
   ],
   "source": [
    "dizi2[dizi2>50]"
   ]
  },
  {
   "cell_type": "code",
   "execution_count": 15,
   "id": "834b1fea",
   "metadata": {},
   "outputs": [
    {
     "name": "stdout",
     "output_type": "stream",
     "text": [
      "[[False  True False False]\n",
      " [False False False False]\n",
      " [False False False False]\n",
      " [False False False  True]\n",
      " [ True False  True False]\n",
      " [False False  True  True]\n",
      " [ True  True False  True]\n",
      " [ True False False False]\n",
      " [False False False False]\n",
      " [False False  True False]]\n"
     ]
    }
   ],
   "source": [
    "print((dizi2 > 50) & (dizi2 < 80))"
   ]
  },
  {
   "cell_type": "code",
   "execution_count": 16,
   "id": "82fb3452",
   "metadata": {},
   "outputs": [
    {
     "data": {
      "text/plain": [
       "array([53, 70, 78, 56, 56, 57, 71, 66, 61, 73, 58], dtype=int32)"
      ]
     },
     "execution_count": 16,
     "metadata": {},
     "output_type": "execute_result"
    }
   ],
   "source": [
    "dizi2[dizi2 >50][dizi2[dizi2 > 50] < 80]"
   ]
  }
 ],
 "metadata": {
  "kernelspec": {
   "display_name": "Python 3",
   "language": "python",
   "name": "python3"
  },
  "language_info": {
   "codemirror_mode": {
    "name": "ipython",
    "version": 3
   },
   "file_extension": ".py",
   "mimetype": "text/x-python",
   "name": "python",
   "nbconvert_exporter": "python",
   "pygments_lexer": "ipython3",
   "version": "3.10.7"
  }
 },
 "nbformat": 4,
 "nbformat_minor": 5
}
