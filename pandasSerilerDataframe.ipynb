{
 "cells": [
  {
   "cell_type": "code",
   "execution_count": 2,
   "id": "3870e615",
   "metadata": {},
   "outputs": [],
   "source": [
    "import numpy as np\n",
    "import pandas as pd"
   ]
  },
  {
   "cell_type": "markdown",
   "id": "909e32bc",
   "metadata": {},
   "source": [
    "SERİLER"
   ]
  },
  {
   "cell_type": "code",
   "execution_count": 3,
   "id": "83e5f170",
   "metadata": {},
   "outputs": [],
   "source": [
    "sozluk = {\"Ali\":40, \"Veli\": 30, \"Ayşe\": 20, \"Fatma\": 10}"
   ]
  },
  {
   "cell_type": "code",
   "execution_count": 4,
   "id": "d90deb3f",
   "metadata": {},
   "outputs": [
    {
     "data": {
      "application/vnd.microsoft.datawrangler.viewer.v0+json": {
       "columns": [
        {
         "name": "index",
         "rawType": "object",
         "type": "string"
        },
        {
         "name": "0",
         "rawType": "int64",
         "type": "integer"
        }
       ],
       "ref": "395ae34c-2614-4d63-a988-8f73b4fd0ec1",
       "rows": [
        [
         "Ali",
         "40"
        ],
        [
         "Veli",
         "30"
        ],
        [
         "Ayşe",
         "20"
        ],
        [
         "Fatma",
         "10"
        ]
       ],
       "shape": {
        "columns": 1,
        "rows": 4
       }
      },
      "text/plain": [
       "Ali      40\n",
       "Veli     30\n",
       "Ayşe     20\n",
       "Fatma    10\n",
       "dtype: int64"
      ]
     },
     "execution_count": 4,
     "metadata": {},
     "output_type": "execute_result"
    }
   ],
   "source": [
    "pd.Series(sozluk)"
   ]
  },
  {
   "cell_type": "code",
   "execution_count": 5,
   "id": "7bfc3a8d",
   "metadata": {},
   "outputs": [
    {
     "data": {
      "text/plain": [
       "pandas.core.series.Series"
      ]
     },
     "execution_count": 5,
     "metadata": {},
     "output_type": "execute_result"
    }
   ],
   "source": [
    "type(pd.Series(sozluk))"
   ]
  },
  {
   "cell_type": "code",
   "execution_count": 6,
   "id": "222ca644",
   "metadata": {},
   "outputs": [],
   "source": [
    "yaslar = [40,30,20,10]\n",
    "isimler = [\"Ali\", \"Veli\", \"Ayşe\", \"Fatma\"]"
   ]
  },
  {
   "cell_type": "code",
   "execution_count": 7,
   "id": "9f3171ce",
   "metadata": {},
   "outputs": [
    {
     "data": {
      "application/vnd.microsoft.datawrangler.viewer.v0+json": {
       "columns": [
        {
         "name": "index",
         "rawType": "object",
         "type": "string"
        },
        {
         "name": "0",
         "rawType": "int64",
         "type": "integer"
        }
       ],
       "ref": "01f22aba-5286-4eff-97e2-6cfd25add13d",
       "rows": [
        [
         "Ali",
         "40"
        ],
        [
         "Veli",
         "30"
        ],
        [
         "Ayşe",
         "20"
        ],
        [
         "Fatma",
         "10"
        ]
       ],
       "shape": {
        "columns": 1,
        "rows": 4
       }
      },
      "text/plain": [
       "Ali      40\n",
       "Veli     30\n",
       "Ayşe     20\n",
       "Fatma    10\n",
       "dtype: int64"
      ]
     },
     "execution_count": 7,
     "metadata": {},
     "output_type": "execute_result"
    }
   ],
   "source": [
    "pd.Series(yaslar, index=isimler)"
   ]
  },
  {
   "cell_type": "code",
   "execution_count": 8,
   "id": "aa4c96bf",
   "metadata": {},
   "outputs": [
    {
     "data": {
      "application/vnd.microsoft.datawrangler.viewer.v0+json": {
       "columns": [
        {
         "name": "index",
         "rawType": "object",
         "type": "string"
        },
        {
         "name": "0",
         "rawType": "int64",
         "type": "integer"
        }
       ],
       "ref": "237c6582-a4c5-4844-a12a-92d96e7be5d9",
       "rows": [
        [
         "Ali",
         "40"
        ],
        [
         "Veli",
         "30"
        ],
        [
         "Ayşe",
         "20"
        ],
        [
         "Fatma",
         "10"
        ]
       ],
       "shape": {
        "columns": 1,
        "rows": 4
       }
      },
      "text/plain": [
       "Ali      40\n",
       "Veli     30\n",
       "Ayşe     20\n",
       "Fatma    10\n",
       "dtype: int64"
      ]
     },
     "execution_count": 8,
     "metadata": {},
     "output_type": "execute_result"
    }
   ],
   "source": [
    "pd.Series(data = yaslar , index=isimler)"
   ]
  },
  {
   "cell_type": "code",
   "execution_count": 9,
   "id": "3b5614ae",
   "metadata": {},
   "outputs": [
    {
     "data": {
      "application/vnd.microsoft.datawrangler.viewer.v0+json": {
       "columns": [
        {
         "name": "index",
         "rawType": "object",
         "type": "string"
        },
        {
         "name": "0",
         "rawType": "int64",
         "type": "integer"
        }
       ],
       "ref": "1e83aab7-a7eb-4127-9aaa-a772ee9b6475",
       "rows": [
        [
         "Ali",
         "40"
        ],
        [
         "Veli",
         "30"
        ],
        [
         "Ayşe",
         "20"
        ],
        [
         "Fatma",
         "10"
        ]
       ],
       "shape": {
        "columns": 1,
        "rows": 4
       }
      },
      "text/plain": [
       "Ali      40\n",
       "Veli     30\n",
       "Ayşe     20\n",
       "Fatma    10\n",
       "dtype: int64"
      ]
     },
     "execution_count": 9,
     "metadata": {},
     "output_type": "execute_result"
    }
   ],
   "source": [
    "pd.Series(yaslar,isimler)"
   ]
  },
  {
   "cell_type": "code",
   "execution_count": 10,
   "id": "a85f9b0d",
   "metadata": {},
   "outputs": [
    {
     "data": {
      "application/vnd.microsoft.datawrangler.viewer.v0+json": {
       "columns": [
        {
         "name": "index",
         "rawType": "int64",
         "type": "integer"
        },
        {
         "name": "0",
         "rawType": "int64",
         "type": "integer"
        }
       ],
       "ref": "415129a5-2ed1-446b-9500-9775dc07e99e",
       "rows": [
        [
         "0",
         "40"
        ],
        [
         "1",
         "30"
        ],
        [
         "2",
         "20"
        ],
        [
         "3",
         "10"
        ]
       ],
       "shape": {
        "columns": 1,
        "rows": 4
       }
      },
      "text/plain": [
       "0    40\n",
       "1    30\n",
       "2    20\n",
       "3    10\n",
       "dtype: int64"
      ]
     },
     "execution_count": 10,
     "metadata": {},
     "output_type": "execute_result"
    }
   ],
   "source": [
    "numpyDizisi = np.array(yaslar)\n",
    "pd.Series(numpyDizisi)"
   ]
  },
  {
   "cell_type": "code",
   "execution_count": 11,
   "id": "2c3167ba",
   "metadata": {},
   "outputs": [
    {
     "data": {
      "application/vnd.microsoft.datawrangler.viewer.v0+json": {
       "columns": [
        {
         "name": "index",
         "rawType": "object",
         "type": "string"
        },
        {
         "name": "0",
         "rawType": "int64",
         "type": "integer"
        }
       ],
       "ref": "2d0bdb41-54fe-4cc9-9903-6b28e13beaf8",
       "rows": [
        [
         "Ali",
         "40"
        ],
        [
         "Veli",
         "30"
        ],
        [
         "Ayşe",
         "20"
        ],
        [
         "Fatma",
         "10"
        ]
       ],
       "shape": {
        "columns": 1,
        "rows": 4
       }
      },
      "text/plain": [
       "Ali      40\n",
       "Veli     30\n",
       "Ayşe     20\n",
       "Fatma    10\n",
       "dtype: int64"
      ]
     },
     "execution_count": 11,
     "metadata": {},
     "output_type": "execute_result"
    }
   ],
   "source": [
    "pd.Series(numpyDizisi, isimler)"
   ]
  },
  {
   "cell_type": "code",
   "execution_count": 12,
   "id": "55e550c7",
   "metadata": {},
   "outputs": [],
   "source": [
    "yarismaSonucu1 = pd.Series([1,2,3],[\"Ali\", \"Veli\", \"Ayşe\",])"
   ]
  },
  {
   "cell_type": "code",
   "execution_count": 13,
   "id": "84fe7ce1",
   "metadata": {},
   "outputs": [
    {
     "name": "stdout",
     "output_type": "stream",
     "text": [
      "Ali     1\n",
      "Veli    2\n",
      "Ayşe    3\n",
      "dtype: int64\n"
     ]
    }
   ],
   "source": [
    "print(yarismaSonucu1)"
   ]
  },
  {
   "cell_type": "code",
   "execution_count": 14,
   "id": "afa94ef6",
   "metadata": {},
   "outputs": [],
   "source": [
    "yarismaSonucu2 = pd.Series([30,25,18],[\"Ali\", \"Veli\", \"Ayşe\",])"
   ]
  },
  {
   "cell_type": "code",
   "execution_count": 15,
   "id": "a97c5e50",
   "metadata": {},
   "outputs": [
    {
     "name": "stdout",
     "output_type": "stream",
     "text": [
      "Ali     30\n",
      "Veli    25\n",
      "Ayşe    18\n",
      "dtype: int64\n"
     ]
    }
   ],
   "source": [
    "print(yarismaSonucu2)"
   ]
  },
  {
   "cell_type": "code",
   "execution_count": 16,
   "id": "281cb973",
   "metadata": {},
   "outputs": [
    {
     "data": {
      "application/vnd.microsoft.datawrangler.viewer.v0+json": {
       "columns": [
        {
         "name": "index",
         "rawType": "object",
         "type": "string"
        },
        {
         "name": "0",
         "rawType": "int64",
         "type": "integer"
        }
       ],
       "ref": "1b058d8d-47c3-40e3-810f-40bb8d1f05b5",
       "rows": [
        [
         "Ali",
         "31"
        ],
        [
         "Veli",
         "27"
        ],
        [
         "Ayşe",
         "21"
        ]
       ],
       "shape": {
        "columns": 1,
        "rows": 3
       }
      },
      "text/plain": [
       "Ali     31\n",
       "Veli    27\n",
       "Ayşe    21\n",
       "dtype: int64"
      ]
     },
     "execution_count": 16,
     "metadata": {},
     "output_type": "execute_result"
    }
   ],
   "source": [
    "sonSonuc = yarismaSonucu1 + yarismaSonucu2\n",
    "sonSonuc"
   ]
  },
  {
   "cell_type": "code",
   "execution_count": 17,
   "id": "f0be062d",
   "metadata": {},
   "outputs": [],
   "source": [
    "farkliSeries = pd.Series([1,2,3,4],[\"a\", \"b\", \"c\",\"d\"])"
   ]
  },
  {
   "cell_type": "code",
   "execution_count": 18,
   "id": "30333930",
   "metadata": {},
   "outputs": [],
   "source": [
    "farkliSeries2 = pd.Series([5,6,7,8],[\"a\", \"f\", \"g\",\"c\"])"
   ]
  },
  {
   "cell_type": "code",
   "execution_count": 19,
   "id": "bd774dd9",
   "metadata": {},
   "outputs": [
    {
     "data": {
      "application/vnd.microsoft.datawrangler.viewer.v0+json": {
       "columns": [
        {
         "name": "index",
         "rawType": "object",
         "type": "string"
        },
        {
         "name": "0",
         "rawType": "float64",
         "type": "float"
        }
       ],
       "ref": "1e34d07a-4bd7-4c09-9bf3-d689bae94a85",
       "rows": [
        [
         "a",
         "6.0"
        ],
        [
         "b",
         null
        ],
        [
         "c",
         "11.0"
        ],
        [
         "d",
         null
        ],
        [
         "f",
         null
        ],
        [
         "g",
         null
        ]
       ],
       "shape": {
        "columns": 1,
        "rows": 6
       }
      },
      "text/plain": [
       "a     6.0\n",
       "b     NaN\n",
       "c    11.0\n",
       "d     NaN\n",
       "f     NaN\n",
       "g     NaN\n",
       "dtype: float64"
      ]
     },
     "execution_count": 19,
     "metadata": {},
     "output_type": "execute_result"
    }
   ],
   "source": [
    "sonSeries = farkliSeries + farkliSeries2\n",
    "sonSeries"
   ]
  },
  {
   "cell_type": "markdown",
   "id": "31165baf",
   "metadata": {},
   "source": [
    "DATAFRAME PANDAS"
   ]
  },
  {
   "cell_type": "code",
   "execution_count": 20,
   "id": "6e545382",
   "metadata": {},
   "outputs": [],
   "source": [
    "data = np.random.randn(4,3)"
   ]
  },
  {
   "cell_type": "code",
   "execution_count": 21,
   "id": "6fba1468",
   "metadata": {},
   "outputs": [
    {
     "data": {
      "application/vnd.microsoft.datawrangler.viewer.v0+json": {
       "columns": [
        {
         "name": "index",
         "rawType": "int64",
         "type": "integer"
        },
        {
         "name": "0",
         "rawType": "float64",
         "type": "float"
        },
        {
         "name": "1",
         "rawType": "float64",
         "type": "float"
        },
        {
         "name": "2",
         "rawType": "float64",
         "type": "float"
        }
       ],
       "ref": "3726443e-be99-46cf-b6d0-f33d32247ea0",
       "rows": [
        [
         "0",
         "0.7747605137845575",
         "0.08449834244778454",
         "1.976711812111696"
        ],
        [
         "1",
         "0.004373535882925603",
         "-1.0820685511084132",
         "0.6228640698970936"
        ],
        [
         "2",
         "-0.18038867560482993",
         "-0.24813399910028971",
         "-0.6422377497670363"
        ],
        [
         "3",
         "-1.1473600298690154",
         "0.831503074238722",
         "-0.5279745716971851"
        ]
       ],
       "shape": {
        "columns": 3,
        "rows": 4
       }
      },
      "text/html": [
       "<div>\n",
       "<style scoped>\n",
       "    .dataframe tbody tr th:only-of-type {\n",
       "        vertical-align: middle;\n",
       "    }\n",
       "\n",
       "    .dataframe tbody tr th {\n",
       "        vertical-align: top;\n",
       "    }\n",
       "\n",
       "    .dataframe thead th {\n",
       "        text-align: right;\n",
       "    }\n",
       "</style>\n",
       "<table border=\"1\" class=\"dataframe\">\n",
       "  <thead>\n",
       "    <tr style=\"text-align: right;\">\n",
       "      <th></th>\n",
       "      <th>0</th>\n",
       "      <th>1</th>\n",
       "      <th>2</th>\n",
       "    </tr>\n",
       "  </thead>\n",
       "  <tbody>\n",
       "    <tr>\n",
       "      <th>0</th>\n",
       "      <td>0.774761</td>\n",
       "      <td>0.084498</td>\n",
       "      <td>1.976712</td>\n",
       "    </tr>\n",
       "    <tr>\n",
       "      <th>1</th>\n",
       "      <td>0.004374</td>\n",
       "      <td>-1.082069</td>\n",
       "      <td>0.622864</td>\n",
       "    </tr>\n",
       "    <tr>\n",
       "      <th>2</th>\n",
       "      <td>-0.180389</td>\n",
       "      <td>-0.248134</td>\n",
       "      <td>-0.642238</td>\n",
       "    </tr>\n",
       "    <tr>\n",
       "      <th>3</th>\n",
       "      <td>-1.147360</td>\n",
       "      <td>0.831503</td>\n",
       "      <td>-0.527975</td>\n",
       "    </tr>\n",
       "  </tbody>\n",
       "</table>\n",
       "</div>"
      ],
      "text/plain": [
       "          0         1         2\n",
       "0  0.774761  0.084498  1.976712\n",
       "1  0.004374 -1.082069  0.622864\n",
       "2 -0.180389 -0.248134 -0.642238\n",
       "3 -1.147360  0.831503 -0.527975"
      ]
     },
     "execution_count": 21,
     "metadata": {},
     "output_type": "execute_result"
    }
   ],
   "source": [
    "dataFrame = pd.DataFrame(data)\n",
    "dataFrame"
   ]
  },
  {
   "cell_type": "code",
   "execution_count": 22,
   "id": "056d38f1",
   "metadata": {},
   "outputs": [
    {
     "data": {
      "application/vnd.microsoft.datawrangler.viewer.v0+json": {
       "columns": [
        {
         "name": "index",
         "rawType": "int64",
         "type": "integer"
        },
        {
         "name": "0",
         "rawType": "float64",
         "type": "float"
        }
       ],
       "ref": "0ebafd29-5548-4cab-8f98-fb9d5dc3fc1f",
       "rows": [
        [
         "0",
         "0.7747605137845575"
        ],
        [
         "1",
         "0.004373535882925603"
        ],
        [
         "2",
         "-0.18038867560482993"
        ],
        [
         "3",
         "-1.1473600298690154"
        ]
       ],
       "shape": {
        "columns": 1,
        "rows": 4
       }
      },
      "text/plain": [
       "0    0.774761\n",
       "1    0.004374\n",
       "2   -0.180389\n",
       "3   -1.147360\n",
       "Name: 0, dtype: float64"
      ]
     },
     "execution_count": 22,
     "metadata": {},
     "output_type": "execute_result"
    }
   ],
   "source": [
    "dataFrame[0]"
   ]
  },
  {
   "cell_type": "code",
   "execution_count": 23,
   "id": "8cae27d4",
   "metadata": {},
   "outputs": [
    {
     "data": {
      "text/plain": [
       "pandas.core.frame.DataFrame"
      ]
     },
     "execution_count": 23,
     "metadata": {},
     "output_type": "execute_result"
    }
   ],
   "source": [
    "type(dataFrame)"
   ]
  },
  {
   "cell_type": "code",
   "execution_count": 24,
   "id": "cc150acf",
   "metadata": {},
   "outputs": [
    {
     "data": {
      "application/vnd.microsoft.datawrangler.viewer.v0+json": {
       "columns": [
        {
         "name": "index",
         "rawType": "object",
         "type": "string"
        },
        {
         "name": "A",
         "rawType": "float64",
         "type": "float"
        },
        {
         "name": "B",
         "rawType": "float64",
         "type": "float"
        },
        {
         "name": "C",
         "rawType": "float64",
         "type": "float"
        }
       ],
       "ref": "9adb0dee-94b3-4ca5-9cb3-cf50b325ce86",
       "rows": [
        [
         "a",
         "0.7747605137845575",
         "0.08449834244778454",
         "1.976711812111696"
        ],
        [
         "b",
         "0.004373535882925603",
         "-1.0820685511084132",
         "0.6228640698970936"
        ],
        [
         "c",
         "-0.18038867560482993",
         "-0.24813399910028971",
         "-0.6422377497670363"
        ],
        [
         "d",
         "-1.1473600298690154",
         "0.831503074238722",
         "-0.5279745716971851"
        ]
       ],
       "shape": {
        "columns": 3,
        "rows": 4
       }
      },
      "text/html": [
       "<div>\n",
       "<style scoped>\n",
       "    .dataframe tbody tr th:only-of-type {\n",
       "        vertical-align: middle;\n",
       "    }\n",
       "\n",
       "    .dataframe tbody tr th {\n",
       "        vertical-align: top;\n",
       "    }\n",
       "\n",
       "    .dataframe thead th {\n",
       "        text-align: right;\n",
       "    }\n",
       "</style>\n",
       "<table border=\"1\" class=\"dataframe\">\n",
       "  <thead>\n",
       "    <tr style=\"text-align: right;\">\n",
       "      <th></th>\n",
       "      <th>A</th>\n",
       "      <th>B</th>\n",
       "      <th>C</th>\n",
       "    </tr>\n",
       "  </thead>\n",
       "  <tbody>\n",
       "    <tr>\n",
       "      <th>a</th>\n",
       "      <td>0.774761</td>\n",
       "      <td>0.084498</td>\n",
       "      <td>1.976712</td>\n",
       "    </tr>\n",
       "    <tr>\n",
       "      <th>b</th>\n",
       "      <td>0.004374</td>\n",
       "      <td>-1.082069</td>\n",
       "      <td>0.622864</td>\n",
       "    </tr>\n",
       "    <tr>\n",
       "      <th>c</th>\n",
       "      <td>-0.180389</td>\n",
       "      <td>-0.248134</td>\n",
       "      <td>-0.642238</td>\n",
       "    </tr>\n",
       "    <tr>\n",
       "      <th>d</th>\n",
       "      <td>-1.147360</td>\n",
       "      <td>0.831503</td>\n",
       "      <td>-0.527975</td>\n",
       "    </tr>\n",
       "  </tbody>\n",
       "</table>\n",
       "</div>"
      ],
      "text/plain": [
       "          A         B         C\n",
       "a  0.774761  0.084498  1.976712\n",
       "b  0.004374 -1.082069  0.622864\n",
       "c -0.180389 -0.248134 -0.642238\n",
       "d -1.147360  0.831503 -0.527975"
      ]
     },
     "execution_count": 24,
     "metadata": {},
     "output_type": "execute_result"
    }
   ],
   "source": [
    "yeniDataFrame = pd.DataFrame(data,index=[\"a\",\"b\",\"c\",\"d\"],columns=[\"A\",\"B\",\"C\"])\n",
    "yeniDataFrame"
   ]
  },
  {
   "cell_type": "code",
   "execution_count": 25,
   "id": "eaf09b40",
   "metadata": {},
   "outputs": [
    {
     "data": {
      "application/vnd.microsoft.datawrangler.viewer.v0+json": {
       "columns": [
        {
         "name": "index",
         "rawType": "object",
         "type": "string"
        },
        {
         "name": "A",
         "rawType": "float64",
         "type": "float"
        }
       ],
       "ref": "9c1ef46c-1d35-45ae-b1d8-9db404a23431",
       "rows": [
        [
         "a",
         "0.7747605137845575"
        ],
        [
         "b",
         "0.004373535882925603"
        ],
        [
         "c",
         "-0.18038867560482993"
        ],
        [
         "d",
         "-1.1473600298690154"
        ]
       ],
       "shape": {
        "columns": 1,
        "rows": 4
       }
      },
      "text/plain": [
       "a    0.774761\n",
       "b    0.004374\n",
       "c   -0.180389\n",
       "d   -1.147360\n",
       "Name: A, dtype: float64"
      ]
     },
     "execution_count": 25,
     "metadata": {},
     "output_type": "execute_result"
    }
   ],
   "source": [
    "yeniDataFrame[\"A\"]"
   ]
  },
  {
   "cell_type": "code",
   "execution_count": 26,
   "id": "1d4358db",
   "metadata": {},
   "outputs": [
    {
     "data": {
      "application/vnd.microsoft.datawrangler.viewer.v0+json": {
       "columns": [
        {
         "name": "index",
         "rawType": "object",
         "type": "string"
        },
        {
         "name": "a",
         "rawType": "float64",
         "type": "float"
        }
       ],
       "ref": "bfa2d85b-1842-4c4a-b763-dc17933a1914",
       "rows": [
        [
         "A",
         "0.7747605137845575"
        ],
        [
         "B",
         "0.08449834244778454"
        ],
        [
         "C",
         "1.976711812111696"
        ]
       ],
       "shape": {
        "columns": 1,
        "rows": 3
       }
      },
      "text/plain": [
       "A    0.774761\n",
       "B    0.084498\n",
       "C    1.976712\n",
       "Name: a, dtype: float64"
      ]
     },
     "execution_count": 26,
     "metadata": {},
     "output_type": "execute_result"
    }
   ],
   "source": [
    "yeniDataFrame.loc[\"a\"]"
   ]
  },
  {
   "cell_type": "code",
   "execution_count": 27,
   "id": "33f33322",
   "metadata": {},
   "outputs": [
    {
     "data": {
      "application/vnd.microsoft.datawrangler.viewer.v0+json": {
       "columns": [
        {
         "name": "index",
         "rawType": "object",
         "type": "string"
        },
        {
         "name": "b",
         "rawType": "float64",
         "type": "float"
        }
       ],
       "ref": "c346c197-1a10-4512-9b69-cc4058cadd37",
       "rows": [
        [
         "A",
         "0.004373535882925603"
        ],
        [
         "B",
         "-1.0820685511084132"
        ],
        [
         "C",
         "0.6228640698970936"
        ]
       ],
       "shape": {
        "columns": 1,
        "rows": 3
       }
      },
      "text/plain": [
       "A    0.004374\n",
       "B   -1.082069\n",
       "C    0.622864\n",
       "Name: b, dtype: float64"
      ]
     },
     "execution_count": 27,
     "metadata": {},
     "output_type": "execute_result"
    }
   ],
   "source": [
    "yeniDataFrame.iloc[1]"
   ]
  },
  {
   "cell_type": "code",
   "execution_count": 28,
   "id": "a908a094",
   "metadata": {},
   "outputs": [],
   "source": [
    "yeniDataFrame[\"D\"] = yeniDataFrame[\"B\"] + yeniDataFrame[\"B\"] "
   ]
  },
  {
   "cell_type": "code",
   "execution_count": 29,
   "id": "595e0fc7",
   "metadata": {},
   "outputs": [
    {
     "data": {
      "application/vnd.microsoft.datawrangler.viewer.v0+json": {
       "columns": [
        {
         "name": "index",
         "rawType": "object",
         "type": "string"
        },
        {
         "name": "A",
         "rawType": "float64",
         "type": "float"
        },
        {
         "name": "B",
         "rawType": "float64",
         "type": "float"
        },
        {
         "name": "C",
         "rawType": "float64",
         "type": "float"
        },
        {
         "name": "D",
         "rawType": "float64",
         "type": "float"
        }
       ],
       "ref": "80ae26c8-430b-4bae-9eb3-3fd1fa919740",
       "rows": [
        [
         "a",
         "0.7747605137845575",
         "0.08449834244778454",
         "1.976711812111696",
         "0.16899668489556907"
        ],
        [
         "b",
         "0.004373535882925603",
         "-1.0820685511084132",
         "0.6228640698970936",
         "-2.1641371022168263"
        ],
        [
         "c",
         "-0.18038867560482993",
         "-0.24813399910028971",
         "-0.6422377497670363",
         "-0.49626799820057943"
        ],
        [
         "d",
         "-1.1473600298690154",
         "0.831503074238722",
         "-0.5279745716971851",
         "1.663006148477444"
        ]
       ],
       "shape": {
        "columns": 4,
        "rows": 4
       }
      },
      "text/html": [
       "<div>\n",
       "<style scoped>\n",
       "    .dataframe tbody tr th:only-of-type {\n",
       "        vertical-align: middle;\n",
       "    }\n",
       "\n",
       "    .dataframe tbody tr th {\n",
       "        vertical-align: top;\n",
       "    }\n",
       "\n",
       "    .dataframe thead th {\n",
       "        text-align: right;\n",
       "    }\n",
       "</style>\n",
       "<table border=\"1\" class=\"dataframe\">\n",
       "  <thead>\n",
       "    <tr style=\"text-align: right;\">\n",
       "      <th></th>\n",
       "      <th>A</th>\n",
       "      <th>B</th>\n",
       "      <th>C</th>\n",
       "      <th>D</th>\n",
       "    </tr>\n",
       "  </thead>\n",
       "  <tbody>\n",
       "    <tr>\n",
       "      <th>a</th>\n",
       "      <td>0.774761</td>\n",
       "      <td>0.084498</td>\n",
       "      <td>1.976712</td>\n",
       "      <td>0.168997</td>\n",
       "    </tr>\n",
       "    <tr>\n",
       "      <th>b</th>\n",
       "      <td>0.004374</td>\n",
       "      <td>-1.082069</td>\n",
       "      <td>0.622864</td>\n",
       "      <td>-2.164137</td>\n",
       "    </tr>\n",
       "    <tr>\n",
       "      <th>c</th>\n",
       "      <td>-0.180389</td>\n",
       "      <td>-0.248134</td>\n",
       "      <td>-0.642238</td>\n",
       "      <td>-0.496268</td>\n",
       "    </tr>\n",
       "    <tr>\n",
       "      <th>d</th>\n",
       "      <td>-1.147360</td>\n",
       "      <td>0.831503</td>\n",
       "      <td>-0.527975</td>\n",
       "      <td>1.663006</td>\n",
       "    </tr>\n",
       "  </tbody>\n",
       "</table>\n",
       "</div>"
      ],
      "text/plain": [
       "          A         B         C         D\n",
       "a  0.774761  0.084498  1.976712  0.168997\n",
       "b  0.004374 -1.082069  0.622864 -2.164137\n",
       "c -0.180389 -0.248134 -0.642238 -0.496268\n",
       "d -1.147360  0.831503 -0.527975  1.663006"
      ]
     },
     "execution_count": 29,
     "metadata": {},
     "output_type": "execute_result"
    }
   ],
   "source": [
    "yeniDataFrame"
   ]
  },
  {
   "cell_type": "code",
   "execution_count": 30,
   "id": "9e9fb8cf",
   "metadata": {},
   "outputs": [],
   "source": [
    "yeniDataFrame[\"E\"] = (15,30,45,60)"
   ]
  },
  {
   "cell_type": "code",
   "execution_count": 31,
   "id": "835a6094",
   "metadata": {},
   "outputs": [],
   "source": [
    "yeniDataFrame[\"F\"] = [1,2,3,4]"
   ]
  },
  {
   "cell_type": "code",
   "execution_count": 32,
   "id": "c01d8595",
   "metadata": {},
   "outputs": [
    {
     "data": {
      "application/vnd.microsoft.datawrangler.viewer.v0+json": {
       "columns": [
        {
         "name": "index",
         "rawType": "object",
         "type": "string"
        },
        {
         "name": "A",
         "rawType": "float64",
         "type": "float"
        },
        {
         "name": "B",
         "rawType": "float64",
         "type": "float"
        },
        {
         "name": "C",
         "rawType": "float64",
         "type": "float"
        },
        {
         "name": "D",
         "rawType": "float64",
         "type": "float"
        },
        {
         "name": "E",
         "rawType": "int64",
         "type": "integer"
        },
        {
         "name": "F",
         "rawType": "int64",
         "type": "integer"
        }
       ],
       "ref": "7f5f0f31-2a0f-4090-9d84-fe4d9eaac418",
       "rows": [
        [
         "a",
         "0.7747605137845575",
         "0.08449834244778454",
         "1.976711812111696",
         "0.16899668489556907",
         "15",
         "1"
        ],
        [
         "b",
         "0.004373535882925603",
         "-1.0820685511084132",
         "0.6228640698970936",
         "-2.1641371022168263",
         "30",
         "2"
        ],
        [
         "c",
         "-0.18038867560482993",
         "-0.24813399910028971",
         "-0.6422377497670363",
         "-0.49626799820057943",
         "45",
         "3"
        ],
        [
         "d",
         "-1.1473600298690154",
         "0.831503074238722",
         "-0.5279745716971851",
         "1.663006148477444",
         "60",
         "4"
        ]
       ],
       "shape": {
        "columns": 6,
        "rows": 4
       }
      },
      "text/html": [
       "<div>\n",
       "<style scoped>\n",
       "    .dataframe tbody tr th:only-of-type {\n",
       "        vertical-align: middle;\n",
       "    }\n",
       "\n",
       "    .dataframe tbody tr th {\n",
       "        vertical-align: top;\n",
       "    }\n",
       "\n",
       "    .dataframe thead th {\n",
       "        text-align: right;\n",
       "    }\n",
       "</style>\n",
       "<table border=\"1\" class=\"dataframe\">\n",
       "  <thead>\n",
       "    <tr style=\"text-align: right;\">\n",
       "      <th></th>\n",
       "      <th>A</th>\n",
       "      <th>B</th>\n",
       "      <th>C</th>\n",
       "      <th>D</th>\n",
       "      <th>E</th>\n",
       "      <th>F</th>\n",
       "    </tr>\n",
       "  </thead>\n",
       "  <tbody>\n",
       "    <tr>\n",
       "      <th>a</th>\n",
       "      <td>0.774761</td>\n",
       "      <td>0.084498</td>\n",
       "      <td>1.976712</td>\n",
       "      <td>0.168997</td>\n",
       "      <td>15</td>\n",
       "      <td>1</td>\n",
       "    </tr>\n",
       "    <tr>\n",
       "      <th>b</th>\n",
       "      <td>0.004374</td>\n",
       "      <td>-1.082069</td>\n",
       "      <td>0.622864</td>\n",
       "      <td>-2.164137</td>\n",
       "      <td>30</td>\n",
       "      <td>2</td>\n",
       "    </tr>\n",
       "    <tr>\n",
       "      <th>c</th>\n",
       "      <td>-0.180389</td>\n",
       "      <td>-0.248134</td>\n",
       "      <td>-0.642238</td>\n",
       "      <td>-0.496268</td>\n",
       "      <td>45</td>\n",
       "      <td>3</td>\n",
       "    </tr>\n",
       "    <tr>\n",
       "      <th>d</th>\n",
       "      <td>-1.147360</td>\n",
       "      <td>0.831503</td>\n",
       "      <td>-0.527975</td>\n",
       "      <td>1.663006</td>\n",
       "      <td>60</td>\n",
       "      <td>4</td>\n",
       "    </tr>\n",
       "  </tbody>\n",
       "</table>\n",
       "</div>"
      ],
      "text/plain": [
       "          A         B         C         D   E  F\n",
       "a  0.774761  0.084498  1.976712  0.168997  15  1\n",
       "b  0.004374 -1.082069  0.622864 -2.164137  30  2\n",
       "c -0.180389 -0.248134 -0.642238 -0.496268  45  3\n",
       "d -1.147360  0.831503 -0.527975  1.663006  60  4"
      ]
     },
     "execution_count": 32,
     "metadata": {},
     "output_type": "execute_result"
    }
   ],
   "source": [
    "yeniDataFrame"
   ]
  },
  {
   "cell_type": "code",
   "execution_count": 33,
   "id": "bfc5ad4f",
   "metadata": {},
   "outputs": [
    {
     "data": {
      "application/vnd.microsoft.datawrangler.viewer.v0+json": {
       "columns": [
        {
         "name": "index",
         "rawType": "object",
         "type": "string"
        },
        {
         "name": "A",
         "rawType": "float64",
         "type": "float"
        },
        {
         "name": "B",
         "rawType": "float64",
         "type": "float"
        },
        {
         "name": "C",
         "rawType": "float64",
         "type": "float"
        },
        {
         "name": "D",
         "rawType": "float64",
         "type": "float"
        },
        {
         "name": "E",
         "rawType": "int64",
         "type": "integer"
        }
       ],
       "ref": "a113402a-6029-4351-ab8d-bbd8436a709e",
       "rows": [
        [
         "a",
         "0.7747605137845575",
         "0.08449834244778454",
         "1.976711812111696",
         "0.16899668489556907",
         "15"
        ],
        [
         "b",
         "0.004373535882925603",
         "-1.0820685511084132",
         "0.6228640698970936",
         "-2.1641371022168263",
         "30"
        ],
        [
         "c",
         "-0.18038867560482993",
         "-0.24813399910028971",
         "-0.6422377497670363",
         "-0.49626799820057943",
         "45"
        ],
        [
         "d",
         "-1.1473600298690154",
         "0.831503074238722",
         "-0.5279745716971851",
         "1.663006148477444",
         "60"
        ]
       ],
       "shape": {
        "columns": 5,
        "rows": 4
       }
      },
      "text/html": [
       "<div>\n",
       "<style scoped>\n",
       "    .dataframe tbody tr th:only-of-type {\n",
       "        vertical-align: middle;\n",
       "    }\n",
       "\n",
       "    .dataframe tbody tr th {\n",
       "        vertical-align: top;\n",
       "    }\n",
       "\n",
       "    .dataframe thead th {\n",
       "        text-align: right;\n",
       "    }\n",
       "</style>\n",
       "<table border=\"1\" class=\"dataframe\">\n",
       "  <thead>\n",
       "    <tr style=\"text-align: right;\">\n",
       "      <th></th>\n",
       "      <th>A</th>\n",
       "      <th>B</th>\n",
       "      <th>C</th>\n",
       "      <th>D</th>\n",
       "      <th>E</th>\n",
       "    </tr>\n",
       "  </thead>\n",
       "  <tbody>\n",
       "    <tr>\n",
       "      <th>a</th>\n",
       "      <td>0.774761</td>\n",
       "      <td>0.084498</td>\n",
       "      <td>1.976712</td>\n",
       "      <td>0.168997</td>\n",
       "      <td>15</td>\n",
       "    </tr>\n",
       "    <tr>\n",
       "      <th>b</th>\n",
       "      <td>0.004374</td>\n",
       "      <td>-1.082069</td>\n",
       "      <td>0.622864</td>\n",
       "      <td>-2.164137</td>\n",
       "      <td>30</td>\n",
       "    </tr>\n",
       "    <tr>\n",
       "      <th>c</th>\n",
       "      <td>-0.180389</td>\n",
       "      <td>-0.248134</td>\n",
       "      <td>-0.642238</td>\n",
       "      <td>-0.496268</td>\n",
       "      <td>45</td>\n",
       "    </tr>\n",
       "    <tr>\n",
       "      <th>d</th>\n",
       "      <td>-1.147360</td>\n",
       "      <td>0.831503</td>\n",
       "      <td>-0.527975</td>\n",
       "      <td>1.663006</td>\n",
       "      <td>60</td>\n",
       "    </tr>\n",
       "  </tbody>\n",
       "</table>\n",
       "</div>"
      ],
      "text/plain": [
       "          A         B         C         D   E\n",
       "a  0.774761  0.084498  1.976712  0.168997  15\n",
       "b  0.004374 -1.082069  0.622864 -2.164137  30\n",
       "c -0.180389 -0.248134 -0.642238 -0.496268  45\n",
       "d -1.147360  0.831503 -0.527975  1.663006  60"
      ]
     },
     "execution_count": 33,
     "metadata": {},
     "output_type": "execute_result"
    }
   ],
   "source": [
    "yeniDataFrame.drop(\"F\",axis=1)"
   ]
  },
  {
   "cell_type": "code",
   "execution_count": 34,
   "id": "9a20b712",
   "metadata": {},
   "outputs": [
    {
     "data": {
      "application/vnd.microsoft.datawrangler.viewer.v0+json": {
       "columns": [
        {
         "name": "index",
         "rawType": "object",
         "type": "string"
        },
        {
         "name": "A",
         "rawType": "float64",
         "type": "float"
        },
        {
         "name": "B",
         "rawType": "float64",
         "type": "float"
        },
        {
         "name": "C",
         "rawType": "float64",
         "type": "float"
        },
        {
         "name": "D",
         "rawType": "float64",
         "type": "float"
        },
        {
         "name": "E",
         "rawType": "int64",
         "type": "integer"
        },
        {
         "name": "F",
         "rawType": "int64",
         "type": "integer"
        }
       ],
       "ref": "f50bf9fd-90ac-45de-8120-4b45815f408b",
       "rows": [
        [
         "a",
         "0.7747605137845575",
         "0.08449834244778454",
         "1.976711812111696",
         "0.16899668489556907",
         "15",
         "1"
        ],
        [
         "b",
         "0.004373535882925603",
         "-1.0820685511084132",
         "0.6228640698970936",
         "-2.1641371022168263",
         "30",
         "2"
        ],
        [
         "c",
         "-0.18038867560482993",
         "-0.24813399910028971",
         "-0.6422377497670363",
         "-0.49626799820057943",
         "45",
         "3"
        ]
       ],
       "shape": {
        "columns": 6,
        "rows": 3
       }
      },
      "text/html": [
       "<div>\n",
       "<style scoped>\n",
       "    .dataframe tbody tr th:only-of-type {\n",
       "        vertical-align: middle;\n",
       "    }\n",
       "\n",
       "    .dataframe tbody tr th {\n",
       "        vertical-align: top;\n",
       "    }\n",
       "\n",
       "    .dataframe thead th {\n",
       "        text-align: right;\n",
       "    }\n",
       "</style>\n",
       "<table border=\"1\" class=\"dataframe\">\n",
       "  <thead>\n",
       "    <tr style=\"text-align: right;\">\n",
       "      <th></th>\n",
       "      <th>A</th>\n",
       "      <th>B</th>\n",
       "      <th>C</th>\n",
       "      <th>D</th>\n",
       "      <th>E</th>\n",
       "      <th>F</th>\n",
       "    </tr>\n",
       "  </thead>\n",
       "  <tbody>\n",
       "    <tr>\n",
       "      <th>a</th>\n",
       "      <td>0.774761</td>\n",
       "      <td>0.084498</td>\n",
       "      <td>1.976712</td>\n",
       "      <td>0.168997</td>\n",
       "      <td>15</td>\n",
       "      <td>1</td>\n",
       "    </tr>\n",
       "    <tr>\n",
       "      <th>b</th>\n",
       "      <td>0.004374</td>\n",
       "      <td>-1.082069</td>\n",
       "      <td>0.622864</td>\n",
       "      <td>-2.164137</td>\n",
       "      <td>30</td>\n",
       "      <td>2</td>\n",
       "    </tr>\n",
       "    <tr>\n",
       "      <th>c</th>\n",
       "      <td>-0.180389</td>\n",
       "      <td>-0.248134</td>\n",
       "      <td>-0.642238</td>\n",
       "      <td>-0.496268</td>\n",
       "      <td>45</td>\n",
       "      <td>3</td>\n",
       "    </tr>\n",
       "  </tbody>\n",
       "</table>\n",
       "</div>"
      ],
      "text/plain": [
       "          A         B         C         D   E  F\n",
       "a  0.774761  0.084498  1.976712  0.168997  15  1\n",
       "b  0.004374 -1.082069  0.622864 -2.164137  30  2\n",
       "c -0.180389 -0.248134 -0.642238 -0.496268  45  3"
      ]
     },
     "execution_count": 34,
     "metadata": {},
     "output_type": "execute_result"
    }
   ],
   "source": [
    "yeniDataFrame.drop(\"d\",axis=0)"
   ]
  },
  {
   "cell_type": "code",
   "execution_count": 35,
   "id": "e983e464",
   "metadata": {},
   "outputs": [
    {
     "data": {
      "application/vnd.microsoft.datawrangler.viewer.v0+json": {
       "columns": [
        {
         "name": "index",
         "rawType": "object",
         "type": "string"
        },
        {
         "name": "A",
         "rawType": "float64",
         "type": "float"
        },
        {
         "name": "B",
         "rawType": "float64",
         "type": "float"
        },
        {
         "name": "C",
         "rawType": "float64",
         "type": "float"
        },
        {
         "name": "D",
         "rawType": "float64",
         "type": "float"
        },
        {
         "name": "E",
         "rawType": "int64",
         "type": "integer"
        },
        {
         "name": "F",
         "rawType": "int64",
         "type": "integer"
        }
       ],
       "ref": "463b84c0-6957-49e3-8b5f-92b9e8706722",
       "rows": [
        [
         "a",
         "0.7747605137845575",
         "0.08449834244778454",
         "1.976711812111696",
         "0.16899668489556907",
         "15",
         "1"
        ],
        [
         "b",
         "0.004373535882925603",
         "-1.0820685511084132",
         "0.6228640698970936",
         "-2.1641371022168263",
         "30",
         "2"
        ],
        [
         "c",
         "-0.18038867560482993",
         "-0.24813399910028971",
         "-0.6422377497670363",
         "-0.49626799820057943",
         "45",
         "3"
        ],
        [
         "d",
         "-1.1473600298690154",
         "0.831503074238722",
         "-0.5279745716971851",
         "1.663006148477444",
         "60",
         "4"
        ]
       ],
       "shape": {
        "columns": 6,
        "rows": 4
       }
      },
      "text/html": [
       "<div>\n",
       "<style scoped>\n",
       "    .dataframe tbody tr th:only-of-type {\n",
       "        vertical-align: middle;\n",
       "    }\n",
       "\n",
       "    .dataframe tbody tr th {\n",
       "        vertical-align: top;\n",
       "    }\n",
       "\n",
       "    .dataframe thead th {\n",
       "        text-align: right;\n",
       "    }\n",
       "</style>\n",
       "<table border=\"1\" class=\"dataframe\">\n",
       "  <thead>\n",
       "    <tr style=\"text-align: right;\">\n",
       "      <th></th>\n",
       "      <th>A</th>\n",
       "      <th>B</th>\n",
       "      <th>C</th>\n",
       "      <th>D</th>\n",
       "      <th>E</th>\n",
       "      <th>F</th>\n",
       "    </tr>\n",
       "  </thead>\n",
       "  <tbody>\n",
       "    <tr>\n",
       "      <th>a</th>\n",
       "      <td>0.774761</td>\n",
       "      <td>0.084498</td>\n",
       "      <td>1.976712</td>\n",
       "      <td>0.168997</td>\n",
       "      <td>15</td>\n",
       "      <td>1</td>\n",
       "    </tr>\n",
       "    <tr>\n",
       "      <th>b</th>\n",
       "      <td>0.004374</td>\n",
       "      <td>-1.082069</td>\n",
       "      <td>0.622864</td>\n",
       "      <td>-2.164137</td>\n",
       "      <td>30</td>\n",
       "      <td>2</td>\n",
       "    </tr>\n",
       "    <tr>\n",
       "      <th>c</th>\n",
       "      <td>-0.180389</td>\n",
       "      <td>-0.248134</td>\n",
       "      <td>-0.642238</td>\n",
       "      <td>-0.496268</td>\n",
       "      <td>45</td>\n",
       "      <td>3</td>\n",
       "    </tr>\n",
       "    <tr>\n",
       "      <th>d</th>\n",
       "      <td>-1.147360</td>\n",
       "      <td>0.831503</td>\n",
       "      <td>-0.527975</td>\n",
       "      <td>1.663006</td>\n",
       "      <td>60</td>\n",
       "      <td>4</td>\n",
       "    </tr>\n",
       "  </tbody>\n",
       "</table>\n",
       "</div>"
      ],
      "text/plain": [
       "          A         B         C         D   E  F\n",
       "a  0.774761  0.084498  1.976712  0.168997  15  1\n",
       "b  0.004374 -1.082069  0.622864 -2.164137  30  2\n",
       "c -0.180389 -0.248134 -0.642238 -0.496268  45  3\n",
       "d -1.147360  0.831503 -0.527975  1.663006  60  4"
      ]
     },
     "execution_count": 35,
     "metadata": {},
     "output_type": "execute_result"
    }
   ],
   "source": [
    "yeniDataFrame"
   ]
  },
  {
   "cell_type": "code",
   "execution_count": 36,
   "id": "8e1bfc7e",
   "metadata": {},
   "outputs": [],
   "source": [
    "yeniDataFrame.drop(\"F\",axis=1,inplace=True)"
   ]
  },
  {
   "cell_type": "code",
   "execution_count": 37,
   "id": "c5617312",
   "metadata": {},
   "outputs": [
    {
     "data": {
      "application/vnd.microsoft.datawrangler.viewer.v0+json": {
       "columns": [
        {
         "name": "index",
         "rawType": "object",
         "type": "string"
        },
        {
         "name": "A",
         "rawType": "float64",
         "type": "float"
        },
        {
         "name": "B",
         "rawType": "float64",
         "type": "float"
        },
        {
         "name": "C",
         "rawType": "float64",
         "type": "float"
        },
        {
         "name": "D",
         "rawType": "float64",
         "type": "float"
        },
        {
         "name": "E",
         "rawType": "int64",
         "type": "integer"
        }
       ],
       "ref": "23d76e67-31b8-47b2-9a41-ac0ef423ca80",
       "rows": [
        [
         "a",
         "0.7747605137845575",
         "0.08449834244778454",
         "1.976711812111696",
         "0.16899668489556907",
         "15"
        ],
        [
         "b",
         "0.004373535882925603",
         "-1.0820685511084132",
         "0.6228640698970936",
         "-2.1641371022168263",
         "30"
        ],
        [
         "c",
         "-0.18038867560482993",
         "-0.24813399910028971",
         "-0.6422377497670363",
         "-0.49626799820057943",
         "45"
        ],
        [
         "d",
         "-1.1473600298690154",
         "0.831503074238722",
         "-0.5279745716971851",
         "1.663006148477444",
         "60"
        ]
       ],
       "shape": {
        "columns": 5,
        "rows": 4
       }
      },
      "text/html": [
       "<div>\n",
       "<style scoped>\n",
       "    .dataframe tbody tr th:only-of-type {\n",
       "        vertical-align: middle;\n",
       "    }\n",
       "\n",
       "    .dataframe tbody tr th {\n",
       "        vertical-align: top;\n",
       "    }\n",
       "\n",
       "    .dataframe thead th {\n",
       "        text-align: right;\n",
       "    }\n",
       "</style>\n",
       "<table border=\"1\" class=\"dataframe\">\n",
       "  <thead>\n",
       "    <tr style=\"text-align: right;\">\n",
       "      <th></th>\n",
       "      <th>A</th>\n",
       "      <th>B</th>\n",
       "      <th>C</th>\n",
       "      <th>D</th>\n",
       "      <th>E</th>\n",
       "    </tr>\n",
       "  </thead>\n",
       "  <tbody>\n",
       "    <tr>\n",
       "      <th>a</th>\n",
       "      <td>0.774761</td>\n",
       "      <td>0.084498</td>\n",
       "      <td>1.976712</td>\n",
       "      <td>0.168997</td>\n",
       "      <td>15</td>\n",
       "    </tr>\n",
       "    <tr>\n",
       "      <th>b</th>\n",
       "      <td>0.004374</td>\n",
       "      <td>-1.082069</td>\n",
       "      <td>0.622864</td>\n",
       "      <td>-2.164137</td>\n",
       "      <td>30</td>\n",
       "    </tr>\n",
       "    <tr>\n",
       "      <th>c</th>\n",
       "      <td>-0.180389</td>\n",
       "      <td>-0.248134</td>\n",
       "      <td>-0.642238</td>\n",
       "      <td>-0.496268</td>\n",
       "      <td>45</td>\n",
       "    </tr>\n",
       "    <tr>\n",
       "      <th>d</th>\n",
       "      <td>-1.147360</td>\n",
       "      <td>0.831503</td>\n",
       "      <td>-0.527975</td>\n",
       "      <td>1.663006</td>\n",
       "      <td>60</td>\n",
       "    </tr>\n",
       "  </tbody>\n",
       "</table>\n",
       "</div>"
      ],
      "text/plain": [
       "          A         B         C         D   E\n",
       "a  0.774761  0.084498  1.976712  0.168997  15\n",
       "b  0.004374 -1.082069  0.622864 -2.164137  30\n",
       "c -0.180389 -0.248134 -0.642238 -0.496268  45\n",
       "d -1.147360  0.831503 -0.527975  1.663006  60"
      ]
     },
     "execution_count": 37,
     "metadata": {},
     "output_type": "execute_result"
    }
   ],
   "source": [
    "yeniDataFrame"
   ]
  },
  {
   "cell_type": "code",
   "execution_count": 38,
   "id": "a82dbc8f",
   "metadata": {},
   "outputs": [
    {
     "data": {
      "text/plain": [
       "np.float64(0.08449834244778454)"
      ]
     },
     "execution_count": 38,
     "metadata": {},
     "output_type": "execute_result"
    }
   ],
   "source": [
    "yeniDataFrame.loc[\"a\"][\"B\"]"
   ]
  },
  {
   "cell_type": "code",
   "execution_count": 39,
   "id": "9e49bd67",
   "metadata": {},
   "outputs": [],
   "source": [
    "booleanFrame = yeniDataFrame < 0"
   ]
  },
  {
   "cell_type": "code",
   "execution_count": 40,
   "id": "9e0cfa0c",
   "metadata": {},
   "outputs": [
    {
     "data": {
      "application/vnd.microsoft.datawrangler.viewer.v0+json": {
       "columns": [
        {
         "name": "index",
         "rawType": "object",
         "type": "string"
        },
        {
         "name": "A",
         "rawType": "bool",
         "type": "boolean"
        },
        {
         "name": "B",
         "rawType": "bool",
         "type": "boolean"
        },
        {
         "name": "C",
         "rawType": "bool",
         "type": "boolean"
        },
        {
         "name": "D",
         "rawType": "bool",
         "type": "boolean"
        },
        {
         "name": "E",
         "rawType": "bool",
         "type": "boolean"
        }
       ],
       "ref": "6e8ef2e4-b6cd-42e2-8452-58c8bb2e50b7",
       "rows": [
        [
         "a",
         "False",
         "False",
         "False",
         "False",
         "False"
        ],
        [
         "b",
         "False",
         "True",
         "False",
         "True",
         "False"
        ],
        [
         "c",
         "True",
         "True",
         "True",
         "True",
         "False"
        ],
        [
         "d",
         "True",
         "False",
         "True",
         "False",
         "False"
        ]
       ],
       "shape": {
        "columns": 5,
        "rows": 4
       }
      },
      "text/html": [
       "<div>\n",
       "<style scoped>\n",
       "    .dataframe tbody tr th:only-of-type {\n",
       "        vertical-align: middle;\n",
       "    }\n",
       "\n",
       "    .dataframe tbody tr th {\n",
       "        vertical-align: top;\n",
       "    }\n",
       "\n",
       "    .dataframe thead th {\n",
       "        text-align: right;\n",
       "    }\n",
       "</style>\n",
       "<table border=\"1\" class=\"dataframe\">\n",
       "  <thead>\n",
       "    <tr style=\"text-align: right;\">\n",
       "      <th></th>\n",
       "      <th>A</th>\n",
       "      <th>B</th>\n",
       "      <th>C</th>\n",
       "      <th>D</th>\n",
       "      <th>E</th>\n",
       "    </tr>\n",
       "  </thead>\n",
       "  <tbody>\n",
       "    <tr>\n",
       "      <th>a</th>\n",
       "      <td>False</td>\n",
       "      <td>False</td>\n",
       "      <td>False</td>\n",
       "      <td>False</td>\n",
       "      <td>False</td>\n",
       "    </tr>\n",
       "    <tr>\n",
       "      <th>b</th>\n",
       "      <td>False</td>\n",
       "      <td>True</td>\n",
       "      <td>False</td>\n",
       "      <td>True</td>\n",
       "      <td>False</td>\n",
       "    </tr>\n",
       "    <tr>\n",
       "      <th>c</th>\n",
       "      <td>True</td>\n",
       "      <td>True</td>\n",
       "      <td>True</td>\n",
       "      <td>True</td>\n",
       "      <td>False</td>\n",
       "    </tr>\n",
       "    <tr>\n",
       "      <th>d</th>\n",
       "      <td>True</td>\n",
       "      <td>False</td>\n",
       "      <td>True</td>\n",
       "      <td>False</td>\n",
       "      <td>False</td>\n",
       "    </tr>\n",
       "  </tbody>\n",
       "</table>\n",
       "</div>"
      ],
      "text/plain": [
       "       A      B      C      D      E\n",
       "a  False  False  False  False  False\n",
       "b  False   True  False   True  False\n",
       "c   True   True   True   True  False\n",
       "d   True  False   True  False  False"
      ]
     },
     "execution_count": 40,
     "metadata": {},
     "output_type": "execute_result"
    }
   ],
   "source": [
    "booleanFrame"
   ]
  },
  {
   "cell_type": "code",
   "execution_count": 41,
   "id": "3354ce73",
   "metadata": {},
   "outputs": [
    {
     "data": {
      "application/vnd.microsoft.datawrangler.viewer.v0+json": {
       "columns": [
        {
         "name": "index",
         "rawType": "object",
         "type": "string"
        },
        {
         "name": "A",
         "rawType": "float64",
         "type": "float"
        },
        {
         "name": "B",
         "rawType": "float64",
         "type": "float"
        },
        {
         "name": "C",
         "rawType": "float64",
         "type": "float"
        },
        {
         "name": "D",
         "rawType": "float64",
         "type": "float"
        },
        {
         "name": "E",
         "rawType": "float64",
         "type": "float"
        }
       ],
       "ref": "4bd12945-ec98-4110-872a-025dd0a7a588",
       "rows": [
        [
         "a",
         null,
         null,
         null,
         null,
         null
        ],
        [
         "b",
         null,
         "-1.0820685511084132",
         null,
         "-2.1641371022168263",
         null
        ],
        [
         "c",
         "-0.18038867560482993",
         "-0.24813399910028971",
         "-0.6422377497670363",
         "-0.49626799820057943",
         null
        ],
        [
         "d",
         "-1.1473600298690154",
         null,
         "-0.5279745716971851",
         null,
         null
        ]
       ],
       "shape": {
        "columns": 5,
        "rows": 4
       }
      },
      "text/html": [
       "<div>\n",
       "<style scoped>\n",
       "    .dataframe tbody tr th:only-of-type {\n",
       "        vertical-align: middle;\n",
       "    }\n",
       "\n",
       "    .dataframe tbody tr th {\n",
       "        vertical-align: top;\n",
       "    }\n",
       "\n",
       "    .dataframe thead th {\n",
       "        text-align: right;\n",
       "    }\n",
       "</style>\n",
       "<table border=\"1\" class=\"dataframe\">\n",
       "  <thead>\n",
       "    <tr style=\"text-align: right;\">\n",
       "      <th></th>\n",
       "      <th>A</th>\n",
       "      <th>B</th>\n",
       "      <th>C</th>\n",
       "      <th>D</th>\n",
       "      <th>E</th>\n",
       "    </tr>\n",
       "  </thead>\n",
       "  <tbody>\n",
       "    <tr>\n",
       "      <th>a</th>\n",
       "      <td>NaN</td>\n",
       "      <td>NaN</td>\n",
       "      <td>NaN</td>\n",
       "      <td>NaN</td>\n",
       "      <td>NaN</td>\n",
       "    </tr>\n",
       "    <tr>\n",
       "      <th>b</th>\n",
       "      <td>NaN</td>\n",
       "      <td>-1.082069</td>\n",
       "      <td>NaN</td>\n",
       "      <td>-2.164137</td>\n",
       "      <td>NaN</td>\n",
       "    </tr>\n",
       "    <tr>\n",
       "      <th>c</th>\n",
       "      <td>-0.180389</td>\n",
       "      <td>-0.248134</td>\n",
       "      <td>-0.642238</td>\n",
       "      <td>-0.496268</td>\n",
       "      <td>NaN</td>\n",
       "    </tr>\n",
       "    <tr>\n",
       "      <th>d</th>\n",
       "      <td>-1.147360</td>\n",
       "      <td>NaN</td>\n",
       "      <td>-0.527975</td>\n",
       "      <td>NaN</td>\n",
       "      <td>NaN</td>\n",
       "    </tr>\n",
       "  </tbody>\n",
       "</table>\n",
       "</div>"
      ],
      "text/plain": [
       "          A         B         C         D   E\n",
       "a       NaN       NaN       NaN       NaN NaN\n",
       "b       NaN -1.082069       NaN -2.164137 NaN\n",
       "c -0.180389 -0.248134 -0.642238 -0.496268 NaN\n",
       "d -1.147360       NaN -0.527975       NaN NaN"
      ]
     },
     "execution_count": 41,
     "metadata": {},
     "output_type": "execute_result"
    }
   ],
   "source": [
    "yeniDataFrame[booleanFrame]"
   ]
  },
  {
   "cell_type": "code",
   "execution_count": 42,
   "id": "d4867e33",
   "metadata": {},
   "outputs": [
    {
     "data": {
      "application/vnd.microsoft.datawrangler.viewer.v0+json": {
       "columns": [
        {
         "name": "index",
         "rawType": "object",
         "type": "string"
        },
        {
         "name": "A",
         "rawType": "float64",
         "type": "float"
        },
        {
         "name": "B",
         "rawType": "float64",
         "type": "float"
        },
        {
         "name": "C",
         "rawType": "float64",
         "type": "float"
        },
        {
         "name": "D",
         "rawType": "float64",
         "type": "float"
        },
        {
         "name": "E",
         "rawType": "float64",
         "type": "float"
        }
       ],
       "ref": "eb57000d-56a9-48f7-907d-6b43d748a319",
       "rows": [
        [
         "a",
         null,
         null,
         null,
         null,
         null
        ],
        [
         "b",
         null,
         "-1.0820685511084132",
         null,
         "-2.1641371022168263",
         null
        ],
        [
         "c",
         "-0.18038867560482993",
         "-0.24813399910028971",
         "-0.6422377497670363",
         "-0.49626799820057943",
         null
        ],
        [
         "d",
         "-1.1473600298690154",
         null,
         "-0.5279745716971851",
         null,
         null
        ]
       ],
       "shape": {
        "columns": 5,
        "rows": 4
       }
      },
      "text/html": [
       "<div>\n",
       "<style scoped>\n",
       "    .dataframe tbody tr th:only-of-type {\n",
       "        vertical-align: middle;\n",
       "    }\n",
       "\n",
       "    .dataframe tbody tr th {\n",
       "        vertical-align: top;\n",
       "    }\n",
       "\n",
       "    .dataframe thead th {\n",
       "        text-align: right;\n",
       "    }\n",
       "</style>\n",
       "<table border=\"1\" class=\"dataframe\">\n",
       "  <thead>\n",
       "    <tr style=\"text-align: right;\">\n",
       "      <th></th>\n",
       "      <th>A</th>\n",
       "      <th>B</th>\n",
       "      <th>C</th>\n",
       "      <th>D</th>\n",
       "      <th>E</th>\n",
       "    </tr>\n",
       "  </thead>\n",
       "  <tbody>\n",
       "    <tr>\n",
       "      <th>a</th>\n",
       "      <td>NaN</td>\n",
       "      <td>NaN</td>\n",
       "      <td>NaN</td>\n",
       "      <td>NaN</td>\n",
       "      <td>NaN</td>\n",
       "    </tr>\n",
       "    <tr>\n",
       "      <th>b</th>\n",
       "      <td>NaN</td>\n",
       "      <td>-1.082069</td>\n",
       "      <td>NaN</td>\n",
       "      <td>-2.164137</td>\n",
       "      <td>NaN</td>\n",
       "    </tr>\n",
       "    <tr>\n",
       "      <th>c</th>\n",
       "      <td>-0.180389</td>\n",
       "      <td>-0.248134</td>\n",
       "      <td>-0.642238</td>\n",
       "      <td>-0.496268</td>\n",
       "      <td>NaN</td>\n",
       "    </tr>\n",
       "    <tr>\n",
       "      <th>d</th>\n",
       "      <td>-1.147360</td>\n",
       "      <td>NaN</td>\n",
       "      <td>-0.527975</td>\n",
       "      <td>NaN</td>\n",
       "      <td>NaN</td>\n",
       "    </tr>\n",
       "  </tbody>\n",
       "</table>\n",
       "</div>"
      ],
      "text/plain": [
       "          A         B         C         D   E\n",
       "a       NaN       NaN       NaN       NaN NaN\n",
       "b       NaN -1.082069       NaN -2.164137 NaN\n",
       "c -0.180389 -0.248134 -0.642238 -0.496268 NaN\n",
       "d -1.147360       NaN -0.527975       NaN NaN"
      ]
     },
     "execution_count": 42,
     "metadata": {},
     "output_type": "execute_result"
    }
   ],
   "source": [
    "yeniDataFrame[yeniDataFrame < 0]"
   ]
  },
  {
   "cell_type": "code",
   "execution_count": 43,
   "id": "57edd199",
   "metadata": {},
   "outputs": [
    {
     "data": {
      "application/vnd.microsoft.datawrangler.viewer.v0+json": {
       "columns": [
        {
         "name": "index",
         "rawType": "object",
         "type": "string"
        },
        {
         "name": "C",
         "rawType": "bool",
         "type": "boolean"
        }
       ],
       "ref": "72ed2981-12c8-42cc-92ed-b37a5237b591",
       "rows": [
        [
         "a",
         "True"
        ],
        [
         "b",
         "True"
        ],
        [
         "c",
         "False"
        ],
        [
         "d",
         "False"
        ]
       ],
       "shape": {
        "columns": 1,
        "rows": 4
       }
      },
      "text/plain": [
       "a     True\n",
       "b     True\n",
       "c    False\n",
       "d    False\n",
       "Name: C, dtype: bool"
      ]
     },
     "execution_count": 43,
     "metadata": {},
     "output_type": "execute_result"
    }
   ],
   "source": [
    "yeniDataFrame[\"C\"] > 0"
   ]
  },
  {
   "cell_type": "code",
   "execution_count": 44,
   "id": "3609fa13",
   "metadata": {},
   "outputs": [
    {
     "data": {
      "application/vnd.microsoft.datawrangler.viewer.v0+json": {
       "columns": [
        {
         "name": "index",
         "rawType": "object",
         "type": "string"
        },
        {
         "name": "A",
         "rawType": "float64",
         "type": "float"
        },
        {
         "name": "B",
         "rawType": "float64",
         "type": "float"
        },
        {
         "name": "C",
         "rawType": "float64",
         "type": "float"
        },
        {
         "name": "D",
         "rawType": "float64",
         "type": "float"
        },
        {
         "name": "E",
         "rawType": "int64",
         "type": "integer"
        }
       ],
       "ref": "b51a7f74-51ca-437f-a1c6-6604e88f3685",
       "rows": [
        [
         "a",
         "0.7747605137845575",
         "0.08449834244778454",
         "1.976711812111696",
         "0.16899668489556907",
         "15"
        ],
        [
         "b",
         "0.004373535882925603",
         "-1.0820685511084132",
         "0.6228640698970936",
         "-2.1641371022168263",
         "30"
        ]
       ],
       "shape": {
        "columns": 5,
        "rows": 2
       }
      },
      "text/html": [
       "<div>\n",
       "<style scoped>\n",
       "    .dataframe tbody tr th:only-of-type {\n",
       "        vertical-align: middle;\n",
       "    }\n",
       "\n",
       "    .dataframe tbody tr th {\n",
       "        vertical-align: top;\n",
       "    }\n",
       "\n",
       "    .dataframe thead th {\n",
       "        text-align: right;\n",
       "    }\n",
       "</style>\n",
       "<table border=\"1\" class=\"dataframe\">\n",
       "  <thead>\n",
       "    <tr style=\"text-align: right;\">\n",
       "      <th></th>\n",
       "      <th>A</th>\n",
       "      <th>B</th>\n",
       "      <th>C</th>\n",
       "      <th>D</th>\n",
       "      <th>E</th>\n",
       "    </tr>\n",
       "  </thead>\n",
       "  <tbody>\n",
       "    <tr>\n",
       "      <th>a</th>\n",
       "      <td>0.774761</td>\n",
       "      <td>0.084498</td>\n",
       "      <td>1.976712</td>\n",
       "      <td>0.168997</td>\n",
       "      <td>15</td>\n",
       "    </tr>\n",
       "    <tr>\n",
       "      <th>b</th>\n",
       "      <td>0.004374</td>\n",
       "      <td>-1.082069</td>\n",
       "      <td>0.622864</td>\n",
       "      <td>-2.164137</td>\n",
       "      <td>30</td>\n",
       "    </tr>\n",
       "  </tbody>\n",
       "</table>\n",
       "</div>"
      ],
      "text/plain": [
       "          A         B         C         D   E\n",
       "a  0.774761  0.084498  1.976712  0.168997  15\n",
       "b  0.004374 -1.082069  0.622864 -2.164137  30"
      ]
     },
     "execution_count": 44,
     "metadata": {},
     "output_type": "execute_result"
    }
   ],
   "source": [
    "yeniDataFrame[yeniDataFrame[\"C\"] > 0]"
   ]
  },
  {
   "cell_type": "code",
   "execution_count": 45,
   "id": "044fa38a",
   "metadata": {},
   "outputs": [
    {
     "data": {
      "application/vnd.microsoft.datawrangler.viewer.v0+json": {
       "columns": [
        {
         "name": "index",
         "rawType": "object",
         "type": "string"
        },
        {
         "name": "A",
         "rawType": "float64",
         "type": "float"
        },
        {
         "name": "B",
         "rawType": "float64",
         "type": "float"
        },
        {
         "name": "C",
         "rawType": "float64",
         "type": "float"
        },
        {
         "name": "D",
         "rawType": "float64",
         "type": "float"
        },
        {
         "name": "E",
         "rawType": "int64",
         "type": "integer"
        }
       ],
       "ref": "80328e17-a405-47a8-9203-c49e218c8079",
       "rows": [
        [
         "a",
         "0.7747605137845575",
         "0.08449834244778454",
         "1.976711812111696",
         "0.16899668489556907",
         "15"
        ],
        [
         "d",
         "-1.1473600298690154",
         "0.831503074238722",
         "-0.5279745716971851",
         "1.663006148477444",
         "60"
        ]
       ],
       "shape": {
        "columns": 5,
        "rows": 2
       }
      },
      "text/html": [
       "<div>\n",
       "<style scoped>\n",
       "    .dataframe tbody tr th:only-of-type {\n",
       "        vertical-align: middle;\n",
       "    }\n",
       "\n",
       "    .dataframe tbody tr th {\n",
       "        vertical-align: top;\n",
       "    }\n",
       "\n",
       "    .dataframe thead th {\n",
       "        text-align: right;\n",
       "    }\n",
       "</style>\n",
       "<table border=\"1\" class=\"dataframe\">\n",
       "  <thead>\n",
       "    <tr style=\"text-align: right;\">\n",
       "      <th></th>\n",
       "      <th>A</th>\n",
       "      <th>B</th>\n",
       "      <th>C</th>\n",
       "      <th>D</th>\n",
       "      <th>E</th>\n",
       "    </tr>\n",
       "  </thead>\n",
       "  <tbody>\n",
       "    <tr>\n",
       "      <th>a</th>\n",
       "      <td>0.774761</td>\n",
       "      <td>0.084498</td>\n",
       "      <td>1.976712</td>\n",
       "      <td>0.168997</td>\n",
       "      <td>15</td>\n",
       "    </tr>\n",
       "    <tr>\n",
       "      <th>d</th>\n",
       "      <td>-1.147360</td>\n",
       "      <td>0.831503</td>\n",
       "      <td>-0.527975</td>\n",
       "      <td>1.663006</td>\n",
       "      <td>60</td>\n",
       "    </tr>\n",
       "  </tbody>\n",
       "</table>\n",
       "</div>"
      ],
      "text/plain": [
       "          A         B         C         D   E\n",
       "a  0.774761  0.084498  1.976712  0.168997  15\n",
       "d -1.147360  0.831503 -0.527975  1.663006  60"
      ]
     },
     "execution_count": 45,
     "metadata": {},
     "output_type": "execute_result"
    }
   ],
   "source": [
    "yeniDataFrame[yeniDataFrame[\"B\"] > 0]"
   ]
  },
  {
   "cell_type": "code",
   "execution_count": 46,
   "id": "7d5dcde5",
   "metadata": {},
   "outputs": [
    {
     "data": {
      "application/vnd.microsoft.datawrangler.viewer.v0+json": {
       "columns": [
        {
         "name": "index",
         "rawType": "object",
         "type": "string"
        },
        {
         "name": "A",
         "rawType": "float64",
         "type": "float"
        },
        {
         "name": "B",
         "rawType": "float64",
         "type": "float"
        },
        {
         "name": "C",
         "rawType": "float64",
         "type": "float"
        },
        {
         "name": "D",
         "rawType": "float64",
         "type": "float"
        },
        {
         "name": "E",
         "rawType": "int64",
         "type": "integer"
        }
       ],
       "ref": "98cb4887-b720-427a-88df-36dc2f2f5940",
       "rows": [
        [
         "a",
         "0.7747605137845575",
         "0.08449834244778454",
         "1.976711812111696",
         "0.16899668489556907",
         "15"
        ],
        [
         "b",
         "0.004373535882925603",
         "-1.0820685511084132",
         "0.6228640698970936",
         "-2.1641371022168263",
         "30"
        ],
        [
         "c",
         "-0.18038867560482993",
         "-0.24813399910028971",
         "-0.6422377497670363",
         "-0.49626799820057943",
         "45"
        ],
        [
         "d",
         "-1.1473600298690154",
         "0.831503074238722",
         "-0.5279745716971851",
         "1.663006148477444",
         "60"
        ]
       ],
       "shape": {
        "columns": 5,
        "rows": 4
       }
      },
      "text/html": [
       "<div>\n",
       "<style scoped>\n",
       "    .dataframe tbody tr th:only-of-type {\n",
       "        vertical-align: middle;\n",
       "    }\n",
       "\n",
       "    .dataframe tbody tr th {\n",
       "        vertical-align: top;\n",
       "    }\n",
       "\n",
       "    .dataframe thead th {\n",
       "        text-align: right;\n",
       "    }\n",
       "</style>\n",
       "<table border=\"1\" class=\"dataframe\">\n",
       "  <thead>\n",
       "    <tr style=\"text-align: right;\">\n",
       "      <th></th>\n",
       "      <th>A</th>\n",
       "      <th>B</th>\n",
       "      <th>C</th>\n",
       "      <th>D</th>\n",
       "      <th>E</th>\n",
       "    </tr>\n",
       "  </thead>\n",
       "  <tbody>\n",
       "    <tr>\n",
       "      <th>a</th>\n",
       "      <td>0.774761</td>\n",
       "      <td>0.084498</td>\n",
       "      <td>1.976712</td>\n",
       "      <td>0.168997</td>\n",
       "      <td>15</td>\n",
       "    </tr>\n",
       "    <tr>\n",
       "      <th>b</th>\n",
       "      <td>0.004374</td>\n",
       "      <td>-1.082069</td>\n",
       "      <td>0.622864</td>\n",
       "      <td>-2.164137</td>\n",
       "      <td>30</td>\n",
       "    </tr>\n",
       "    <tr>\n",
       "      <th>c</th>\n",
       "      <td>-0.180389</td>\n",
       "      <td>-0.248134</td>\n",
       "      <td>-0.642238</td>\n",
       "      <td>-0.496268</td>\n",
       "      <td>45</td>\n",
       "    </tr>\n",
       "    <tr>\n",
       "      <th>d</th>\n",
       "      <td>-1.147360</td>\n",
       "      <td>0.831503</td>\n",
       "      <td>-0.527975</td>\n",
       "      <td>1.663006</td>\n",
       "      <td>60</td>\n",
       "    </tr>\n",
       "  </tbody>\n",
       "</table>\n",
       "</div>"
      ],
      "text/plain": [
       "          A         B         C         D   E\n",
       "a  0.774761  0.084498  1.976712  0.168997  15\n",
       "b  0.004374 -1.082069  0.622864 -2.164137  30\n",
       "c -0.180389 -0.248134 -0.642238 -0.496268  45\n",
       "d -1.147360  0.831503 -0.527975  1.663006  60"
      ]
     },
     "execution_count": 46,
     "metadata": {},
     "output_type": "execute_result"
    }
   ],
   "source": [
    "yeniDataFrame"
   ]
  },
  {
   "cell_type": "code",
   "execution_count": 47,
   "id": "0ba46400",
   "metadata": {},
   "outputs": [
    {
     "data": {
      "application/vnd.microsoft.datawrangler.viewer.v0+json": {
       "columns": [
        {
         "name": "index",
         "rawType": "int64",
         "type": "integer"
        },
        {
         "name": "index",
         "rawType": "object",
         "type": "string"
        },
        {
         "name": "A",
         "rawType": "float64",
         "type": "float"
        },
        {
         "name": "B",
         "rawType": "float64",
         "type": "float"
        },
        {
         "name": "C",
         "rawType": "float64",
         "type": "float"
        },
        {
         "name": "D",
         "rawType": "float64",
         "type": "float"
        },
        {
         "name": "E",
         "rawType": "int64",
         "type": "integer"
        }
       ],
       "ref": "4e63273a-7877-4afd-b830-8eddba0dc622",
       "rows": [
        [
         "0",
         "a",
         "0.7747605137845575",
         "0.08449834244778454",
         "1.976711812111696",
         "0.16899668489556907",
         "15"
        ],
        [
         "1",
         "b",
         "0.004373535882925603",
         "-1.0820685511084132",
         "0.6228640698970936",
         "-2.1641371022168263",
         "30"
        ],
        [
         "2",
         "c",
         "-0.18038867560482993",
         "-0.24813399910028971",
         "-0.6422377497670363",
         "-0.49626799820057943",
         "45"
        ],
        [
         "3",
         "d",
         "-1.1473600298690154",
         "0.831503074238722",
         "-0.5279745716971851",
         "1.663006148477444",
         "60"
        ]
       ],
       "shape": {
        "columns": 6,
        "rows": 4
       }
      },
      "text/html": [
       "<div>\n",
       "<style scoped>\n",
       "    .dataframe tbody tr th:only-of-type {\n",
       "        vertical-align: middle;\n",
       "    }\n",
       "\n",
       "    .dataframe tbody tr th {\n",
       "        vertical-align: top;\n",
       "    }\n",
       "\n",
       "    .dataframe thead th {\n",
       "        text-align: right;\n",
       "    }\n",
       "</style>\n",
       "<table border=\"1\" class=\"dataframe\">\n",
       "  <thead>\n",
       "    <tr style=\"text-align: right;\">\n",
       "      <th></th>\n",
       "      <th>index</th>\n",
       "      <th>A</th>\n",
       "      <th>B</th>\n",
       "      <th>C</th>\n",
       "      <th>D</th>\n",
       "      <th>E</th>\n",
       "    </tr>\n",
       "  </thead>\n",
       "  <tbody>\n",
       "    <tr>\n",
       "      <th>0</th>\n",
       "      <td>a</td>\n",
       "      <td>0.774761</td>\n",
       "      <td>0.084498</td>\n",
       "      <td>1.976712</td>\n",
       "      <td>0.168997</td>\n",
       "      <td>15</td>\n",
       "    </tr>\n",
       "    <tr>\n",
       "      <th>1</th>\n",
       "      <td>b</td>\n",
       "      <td>0.004374</td>\n",
       "      <td>-1.082069</td>\n",
       "      <td>0.622864</td>\n",
       "      <td>-2.164137</td>\n",
       "      <td>30</td>\n",
       "    </tr>\n",
       "    <tr>\n",
       "      <th>2</th>\n",
       "      <td>c</td>\n",
       "      <td>-0.180389</td>\n",
       "      <td>-0.248134</td>\n",
       "      <td>-0.642238</td>\n",
       "      <td>-0.496268</td>\n",
       "      <td>45</td>\n",
       "    </tr>\n",
       "    <tr>\n",
       "      <th>3</th>\n",
       "      <td>d</td>\n",
       "      <td>-1.147360</td>\n",
       "      <td>0.831503</td>\n",
       "      <td>-0.527975</td>\n",
       "      <td>1.663006</td>\n",
       "      <td>60</td>\n",
       "    </tr>\n",
       "  </tbody>\n",
       "</table>\n",
       "</div>"
      ],
      "text/plain": [
       "  index         A         B         C         D   E\n",
       "0     a  0.774761  0.084498  1.976712  0.168997  15\n",
       "1     b  0.004374 -1.082069  0.622864 -2.164137  30\n",
       "2     c -0.180389 -0.248134 -0.642238 -0.496268  45\n",
       "3     d -1.147360  0.831503 -0.527975  1.663006  60"
      ]
     },
     "execution_count": 47,
     "metadata": {},
     "output_type": "execute_result"
    }
   ],
   "source": [
    "yeniDataFrame.reset_index()"
   ]
  },
  {
   "cell_type": "code",
   "execution_count": 48,
   "id": "f42ac0f5",
   "metadata": {},
   "outputs": [],
   "source": [
    "yeniIndexListesi =  [\"T\",\"L\",\"Y\",\"B\"]"
   ]
  },
  {
   "cell_type": "code",
   "execution_count": 49,
   "id": "844a8ab3",
   "metadata": {},
   "outputs": [],
   "source": [
    "yeniDataFrame[\"Yeni Index\"] = yeniIndexListesi"
   ]
  },
  {
   "cell_type": "code",
   "execution_count": 50,
   "id": "b8b7b4f3",
   "metadata": {},
   "outputs": [
    {
     "data": {
      "application/vnd.microsoft.datawrangler.viewer.v0+json": {
       "columns": [
        {
         "name": "index",
         "rawType": "object",
         "type": "string"
        },
        {
         "name": "A",
         "rawType": "float64",
         "type": "float"
        },
        {
         "name": "B",
         "rawType": "float64",
         "type": "float"
        },
        {
         "name": "C",
         "rawType": "float64",
         "type": "float"
        },
        {
         "name": "D",
         "rawType": "float64",
         "type": "float"
        },
        {
         "name": "E",
         "rawType": "int64",
         "type": "integer"
        },
        {
         "name": "Yeni Index",
         "rawType": "object",
         "type": "string"
        }
       ],
       "ref": "da4b6220-4671-4335-a6c2-93eb331a74b5",
       "rows": [
        [
         "a",
         "0.7747605137845575",
         "0.08449834244778454",
         "1.976711812111696",
         "0.16899668489556907",
         "15",
         "T"
        ],
        [
         "b",
         "0.004373535882925603",
         "-1.0820685511084132",
         "0.6228640698970936",
         "-2.1641371022168263",
         "30",
         "L"
        ],
        [
         "c",
         "-0.18038867560482993",
         "-0.24813399910028971",
         "-0.6422377497670363",
         "-0.49626799820057943",
         "45",
         "Y"
        ],
        [
         "d",
         "-1.1473600298690154",
         "0.831503074238722",
         "-0.5279745716971851",
         "1.663006148477444",
         "60",
         "B"
        ]
       ],
       "shape": {
        "columns": 6,
        "rows": 4
       }
      },
      "text/html": [
       "<div>\n",
       "<style scoped>\n",
       "    .dataframe tbody tr th:only-of-type {\n",
       "        vertical-align: middle;\n",
       "    }\n",
       "\n",
       "    .dataframe tbody tr th {\n",
       "        vertical-align: top;\n",
       "    }\n",
       "\n",
       "    .dataframe thead th {\n",
       "        text-align: right;\n",
       "    }\n",
       "</style>\n",
       "<table border=\"1\" class=\"dataframe\">\n",
       "  <thead>\n",
       "    <tr style=\"text-align: right;\">\n",
       "      <th></th>\n",
       "      <th>A</th>\n",
       "      <th>B</th>\n",
       "      <th>C</th>\n",
       "      <th>D</th>\n",
       "      <th>E</th>\n",
       "      <th>Yeni Index</th>\n",
       "    </tr>\n",
       "  </thead>\n",
       "  <tbody>\n",
       "    <tr>\n",
       "      <th>a</th>\n",
       "      <td>0.774761</td>\n",
       "      <td>0.084498</td>\n",
       "      <td>1.976712</td>\n",
       "      <td>0.168997</td>\n",
       "      <td>15</td>\n",
       "      <td>T</td>\n",
       "    </tr>\n",
       "    <tr>\n",
       "      <th>b</th>\n",
       "      <td>0.004374</td>\n",
       "      <td>-1.082069</td>\n",
       "      <td>0.622864</td>\n",
       "      <td>-2.164137</td>\n",
       "      <td>30</td>\n",
       "      <td>L</td>\n",
       "    </tr>\n",
       "    <tr>\n",
       "      <th>c</th>\n",
       "      <td>-0.180389</td>\n",
       "      <td>-0.248134</td>\n",
       "      <td>-0.642238</td>\n",
       "      <td>-0.496268</td>\n",
       "      <td>45</td>\n",
       "      <td>Y</td>\n",
       "    </tr>\n",
       "    <tr>\n",
       "      <th>d</th>\n",
       "      <td>-1.147360</td>\n",
       "      <td>0.831503</td>\n",
       "      <td>-0.527975</td>\n",
       "      <td>1.663006</td>\n",
       "      <td>60</td>\n",
       "      <td>B</td>\n",
       "    </tr>\n",
       "  </tbody>\n",
       "</table>\n",
       "</div>"
      ],
      "text/plain": [
       "          A         B         C         D   E Yeni Index\n",
       "a  0.774761  0.084498  1.976712  0.168997  15          T\n",
       "b  0.004374 -1.082069  0.622864 -2.164137  30          L\n",
       "c -0.180389 -0.248134 -0.642238 -0.496268  45          Y\n",
       "d -1.147360  0.831503 -0.527975  1.663006  60          B"
      ]
     },
     "execution_count": 50,
     "metadata": {},
     "output_type": "execute_result"
    }
   ],
   "source": [
    "yeniDataFrame"
   ]
  },
  {
   "cell_type": "code",
   "execution_count": 51,
   "id": "d1b76a93",
   "metadata": {},
   "outputs": [],
   "source": [
    "yeniDataFrame.set_index(\"Yeni Index\" ,inplace = True)"
   ]
  },
  {
   "cell_type": "code",
   "execution_count": 52,
   "id": "f0e0caac",
   "metadata": {},
   "outputs": [
    {
     "data": {
      "application/vnd.microsoft.datawrangler.viewer.v0+json": {
       "columns": [
        {
         "name": "Yeni Index",
         "rawType": "object",
         "type": "string"
        },
        {
         "name": "A",
         "rawType": "float64",
         "type": "float"
        },
        {
         "name": "B",
         "rawType": "float64",
         "type": "float"
        },
        {
         "name": "C",
         "rawType": "float64",
         "type": "float"
        },
        {
         "name": "D",
         "rawType": "float64",
         "type": "float"
        },
        {
         "name": "E",
         "rawType": "int64",
         "type": "integer"
        }
       ],
       "ref": "b51e8be2-3002-4fb6-addb-221ae9ae7b76",
       "rows": [
        [
         "T",
         "0.7747605137845575",
         "0.08449834244778454",
         "1.976711812111696",
         "0.16899668489556907",
         "15"
        ],
        [
         "L",
         "0.004373535882925603",
         "-1.0820685511084132",
         "0.6228640698970936",
         "-2.1641371022168263",
         "30"
        ],
        [
         "Y",
         "-0.18038867560482993",
         "-0.24813399910028971",
         "-0.6422377497670363",
         "-0.49626799820057943",
         "45"
        ],
        [
         "B",
         "-1.1473600298690154",
         "0.831503074238722",
         "-0.5279745716971851",
         "1.663006148477444",
         "60"
        ]
       ],
       "shape": {
        "columns": 5,
        "rows": 4
       }
      },
      "text/html": [
       "<div>\n",
       "<style scoped>\n",
       "    .dataframe tbody tr th:only-of-type {\n",
       "        vertical-align: middle;\n",
       "    }\n",
       "\n",
       "    .dataframe tbody tr th {\n",
       "        vertical-align: top;\n",
       "    }\n",
       "\n",
       "    .dataframe thead th {\n",
       "        text-align: right;\n",
       "    }\n",
       "</style>\n",
       "<table border=\"1\" class=\"dataframe\">\n",
       "  <thead>\n",
       "    <tr style=\"text-align: right;\">\n",
       "      <th></th>\n",
       "      <th>A</th>\n",
       "      <th>B</th>\n",
       "      <th>C</th>\n",
       "      <th>D</th>\n",
       "      <th>E</th>\n",
       "    </tr>\n",
       "    <tr>\n",
       "      <th>Yeni Index</th>\n",
       "      <th></th>\n",
       "      <th></th>\n",
       "      <th></th>\n",
       "      <th></th>\n",
       "      <th></th>\n",
       "    </tr>\n",
       "  </thead>\n",
       "  <tbody>\n",
       "    <tr>\n",
       "      <th>T</th>\n",
       "      <td>0.774761</td>\n",
       "      <td>0.084498</td>\n",
       "      <td>1.976712</td>\n",
       "      <td>0.168997</td>\n",
       "      <td>15</td>\n",
       "    </tr>\n",
       "    <tr>\n",
       "      <th>L</th>\n",
       "      <td>0.004374</td>\n",
       "      <td>-1.082069</td>\n",
       "      <td>0.622864</td>\n",
       "      <td>-2.164137</td>\n",
       "      <td>30</td>\n",
       "    </tr>\n",
       "    <tr>\n",
       "      <th>Y</th>\n",
       "      <td>-0.180389</td>\n",
       "      <td>-0.248134</td>\n",
       "      <td>-0.642238</td>\n",
       "      <td>-0.496268</td>\n",
       "      <td>45</td>\n",
       "    </tr>\n",
       "    <tr>\n",
       "      <th>B</th>\n",
       "      <td>-1.147360</td>\n",
       "      <td>0.831503</td>\n",
       "      <td>-0.527975</td>\n",
       "      <td>1.663006</td>\n",
       "      <td>60</td>\n",
       "    </tr>\n",
       "  </tbody>\n",
       "</table>\n",
       "</div>"
      ],
      "text/plain": [
       "                   A         B         C         D   E\n",
       "Yeni Index                                            \n",
       "T           0.774761  0.084498  1.976712  0.168997  15\n",
       "L           0.004374 -1.082069  0.622864 -2.164137  30\n",
       "Y          -0.180389 -0.248134 -0.642238 -0.496268  45\n",
       "B          -1.147360  0.831503 -0.527975  1.663006  60"
      ]
     },
     "execution_count": 52,
     "metadata": {},
     "output_type": "execute_result"
    }
   ],
   "source": [
    "yeniDataFrame"
   ]
  },
  {
   "cell_type": "code",
   "execution_count": 53,
   "id": "8dd0ebcb",
   "metadata": {},
   "outputs": [
    {
     "data": {
      "application/vnd.microsoft.datawrangler.viewer.v0+json": {
       "columns": [
        {
         "name": "index",
         "rawType": "object",
         "type": "string"
        },
        {
         "name": "T",
         "rawType": "float64",
         "type": "float"
        }
       ],
       "ref": "0a425dad-3abb-4f0b-b558-4f3a7985405b",
       "rows": [
        [
         "A",
         "0.7747605137845575"
        ],
        [
         "B",
         "0.08449834244778454"
        ],
        [
         "C",
         "1.976711812111696"
        ],
        [
         "D",
         "0.16899668489556907"
        ],
        [
         "E",
         "15.0"
        ]
       ],
       "shape": {
        "columns": 1,
        "rows": 5
       }
      },
      "text/plain": [
       "A     0.774761\n",
       "B     0.084498\n",
       "C     1.976712\n",
       "D     0.168997\n",
       "E    15.000000\n",
       "Name: T, dtype: float64"
      ]
     },
     "execution_count": 53,
     "metadata": {},
     "output_type": "execute_result"
    }
   ],
   "source": [
    "yeniDataFrame.loc[\"T\"]"
   ]
  },
  {
   "cell_type": "markdown",
   "id": "ef627d92",
   "metadata": {},
   "source": [
    "MULTI INDEX"
   ]
  },
  {
   "cell_type": "code",
   "execution_count": 54,
   "id": "4c6deee8",
   "metadata": {},
   "outputs": [],
   "source": [
    "disIndexler = [\"Simpson\",\"Simpson\",\"Simpson\",\"South Park\",\"South Park\",\"South Park\"]"
   ]
  },
  {
   "cell_type": "code",
   "execution_count": 55,
   "id": "6bc17116",
   "metadata": {},
   "outputs": [],
   "source": [
    "icIndexler = [\"Honner\",\"Bart\",\"Marge\",\"Cartman\",\"Kenny\",\"Kyle\"]"
   ]
  },
  {
   "cell_type": "code",
   "execution_count": 56,
   "id": "7e99e61a",
   "metadata": {},
   "outputs": [],
   "source": [
    "birlesmisIndex = list(zip(disIndexler,icIndexler))"
   ]
  },
  {
   "cell_type": "code",
   "execution_count": 57,
   "id": "5454e8b2",
   "metadata": {},
   "outputs": [
    {
     "data": {
      "text/plain": [
       "[('Simpson', 'Honner'),\n",
       " ('Simpson', 'Bart'),\n",
       " ('Simpson', 'Marge'),\n",
       " ('South Park', 'Cartman'),\n",
       " ('South Park', 'Kenny'),\n",
       " ('South Park', 'Kyle')]"
      ]
     },
     "execution_count": 57,
     "metadata": {},
     "output_type": "execute_result"
    }
   ],
   "source": [
    "birlesmisIndex"
   ]
  },
  {
   "cell_type": "code",
   "execution_count": 58,
   "id": "e5517705",
   "metadata": {},
   "outputs": [],
   "source": [
    "birlesmisIndex = pd.MultiIndex.from_tuples(birlesmisIndex)"
   ]
  },
  {
   "cell_type": "code",
   "execution_count": 59,
   "id": "311af8b2",
   "metadata": {},
   "outputs": [
    {
     "data": {
      "text/plain": [
       "MultiIndex([(   'Simpson',  'Honner'),\n",
       "            (   'Simpson',    'Bart'),\n",
       "            (   'Simpson',   'Marge'),\n",
       "            ('South Park', 'Cartman'),\n",
       "            ('South Park',   'Kenny'),\n",
       "            ('South Park',    'Kyle')],\n",
       "           )"
      ]
     },
     "execution_count": 59,
     "metadata": {},
     "output_type": "execute_result"
    }
   ],
   "source": [
    "birlesmisIndex"
   ]
  },
  {
   "cell_type": "code",
   "execution_count": 60,
   "id": "6179791b",
   "metadata": {},
   "outputs": [],
   "source": [
    "cizgiFilmListe = [[40,\"A\"],[10,\"B\"],[30,\"C\"],[9,\"D\"],[10,\"E\"],[11,\"F\"]]"
   ]
  },
  {
   "cell_type": "code",
   "execution_count": 61,
   "id": "dc459381",
   "metadata": {},
   "outputs": [],
   "source": [
    "cizgiFilmListeNumpy = np.array(cizgiFilmListe)"
   ]
  },
  {
   "cell_type": "code",
   "execution_count": 62,
   "id": "03a6071d",
   "metadata": {},
   "outputs": [
    {
     "data": {
      "text/plain": [
       "array([['40', 'A'],\n",
       "       ['10', 'B'],\n",
       "       ['30', 'C'],\n",
       "       ['9', 'D'],\n",
       "       ['10', 'E'],\n",
       "       ['11', 'F']], dtype='<U21')"
      ]
     },
     "execution_count": 62,
     "metadata": {},
     "output_type": "execute_result"
    }
   ],
   "source": [
    "cizgiFilmListeNumpy"
   ]
  },
  {
   "cell_type": "code",
   "execution_count": 63,
   "id": "9cc6961c",
   "metadata": {},
   "outputs": [],
   "source": [
    "cizgiFilmDataFrame = pd.DataFrame(cizgiFilmListeNumpy, index = birlesmisIndex , columns = [\"Yaş\",\"Meslek\"])"
   ]
  },
  {
   "cell_type": "code",
   "execution_count": 64,
   "id": "d3f606aa",
   "metadata": {},
   "outputs": [
    {
     "name": "stdout",
     "output_type": "stream",
     "text": [
      "                   Yaş Meslek\n",
      "Simpson    Honner   40      A\n",
      "           Bart     10      B\n",
      "           Marge    30      C\n",
      "South Park Cartman   9      D\n",
      "           Kenny    10      E\n",
      "           Kyle     11      F\n"
     ]
    }
   ],
   "source": [
    "print(cizgiFilmDataFrame)"
   ]
  },
  {
   "cell_type": "code",
   "execution_count": 65,
   "id": "99135c1f",
   "metadata": {},
   "outputs": [
    {
     "data": {
      "application/vnd.microsoft.datawrangler.viewer.v0+json": {
       "columns": [
        {
         "name": "index",
         "rawType": "object",
         "type": "string"
        },
        {
         "name": "Yaş",
         "rawType": "object",
         "type": "string"
        },
        {
         "name": "Meslek",
         "rawType": "object",
         "type": "string"
        }
       ],
       "ref": "d31fd74a-ecd4-4772-b383-fbeeeea0e02f",
       "rows": [
        [
         "Honner",
         "40",
         "A"
        ],
        [
         "Bart",
         "10",
         "B"
        ],
        [
         "Marge",
         "30",
         "C"
        ]
       ],
       "shape": {
        "columns": 2,
        "rows": 3
       }
      },
      "text/html": [
       "<div>\n",
       "<style scoped>\n",
       "    .dataframe tbody tr th:only-of-type {\n",
       "        vertical-align: middle;\n",
       "    }\n",
       "\n",
       "    .dataframe tbody tr th {\n",
       "        vertical-align: top;\n",
       "    }\n",
       "\n",
       "    .dataframe thead th {\n",
       "        text-align: right;\n",
       "    }\n",
       "</style>\n",
       "<table border=\"1\" class=\"dataframe\">\n",
       "  <thead>\n",
       "    <tr style=\"text-align: right;\">\n",
       "      <th></th>\n",
       "      <th>Yaş</th>\n",
       "      <th>Meslek</th>\n",
       "    </tr>\n",
       "  </thead>\n",
       "  <tbody>\n",
       "    <tr>\n",
       "      <th>Honner</th>\n",
       "      <td>40</td>\n",
       "      <td>A</td>\n",
       "    </tr>\n",
       "    <tr>\n",
       "      <th>Bart</th>\n",
       "      <td>10</td>\n",
       "      <td>B</td>\n",
       "    </tr>\n",
       "    <tr>\n",
       "      <th>Marge</th>\n",
       "      <td>30</td>\n",
       "      <td>C</td>\n",
       "    </tr>\n",
       "  </tbody>\n",
       "</table>\n",
       "</div>"
      ],
      "text/plain": [
       "       Yaş Meslek\n",
       "Honner  40      A\n",
       "Bart    10      B\n",
       "Marge   30      C"
      ]
     },
     "execution_count": 65,
     "metadata": {},
     "output_type": "execute_result"
    }
   ],
   "source": [
    "cizgiFilmDataFrame.loc[\"Simpson\"]"
   ]
  },
  {
   "cell_type": "code",
   "execution_count": 66,
   "id": "b5049d56",
   "metadata": {},
   "outputs": [
    {
     "data": {
      "application/vnd.microsoft.datawrangler.viewer.v0+json": {
       "columns": [
        {
         "name": "index",
         "rawType": "object",
         "type": "string"
        },
        {
         "name": "('Simpson', 'Honner')",
         "rawType": "object",
         "type": "string"
        }
       ],
       "ref": "0f067748-41f7-4700-b2e6-b193d1d112c8",
       "rows": [
        [
         "Yaş",
         "40"
        ],
        [
         "Meslek",
         "A"
        ]
       ],
       "shape": {
        "columns": 1,
        "rows": 2
       }
      },
      "text/plain": [
       "Yaş       40\n",
       "Meslek     A\n",
       "Name: (Simpson, Honner), dtype: object"
      ]
     },
     "execution_count": 66,
     "metadata": {},
     "output_type": "execute_result"
    }
   ],
   "source": [
    "cizgiFilmDataFrame.iloc[0]"
   ]
  },
  {
   "cell_type": "code",
   "execution_count": 67,
   "id": "c9d4442b",
   "metadata": {},
   "outputs": [
    {
     "data": {
      "application/vnd.microsoft.datawrangler.viewer.v0+json": {
       "columns": [
        {
         "name": "index",
         "rawType": "object",
         "type": "string"
        },
        {
         "name": "Yaş",
         "rawType": "object",
         "type": "string"
        },
        {
         "name": "Meslek",
         "rawType": "object",
         "type": "string"
        }
       ],
       "ref": "b786f869-4302-4b44-8849-61b9130df15d",
       "rows": [
        [
         "Cartman",
         "9",
         "D"
        ],
        [
         "Kenny",
         "10",
         "E"
        ],
        [
         "Kyle",
         "11",
         "F"
        ]
       ],
       "shape": {
        "columns": 2,
        "rows": 3
       }
      },
      "text/html": [
       "<div>\n",
       "<style scoped>\n",
       "    .dataframe tbody tr th:only-of-type {\n",
       "        vertical-align: middle;\n",
       "    }\n",
       "\n",
       "    .dataframe tbody tr th {\n",
       "        vertical-align: top;\n",
       "    }\n",
       "\n",
       "    .dataframe thead th {\n",
       "        text-align: right;\n",
       "    }\n",
       "</style>\n",
       "<table border=\"1\" class=\"dataframe\">\n",
       "  <thead>\n",
       "    <tr style=\"text-align: right;\">\n",
       "      <th></th>\n",
       "      <th>Yaş</th>\n",
       "      <th>Meslek</th>\n",
       "    </tr>\n",
       "  </thead>\n",
       "  <tbody>\n",
       "    <tr>\n",
       "      <th>Cartman</th>\n",
       "      <td>9</td>\n",
       "      <td>D</td>\n",
       "    </tr>\n",
       "    <tr>\n",
       "      <th>Kenny</th>\n",
       "      <td>10</td>\n",
       "      <td>E</td>\n",
       "    </tr>\n",
       "    <tr>\n",
       "      <th>Kyle</th>\n",
       "      <td>11</td>\n",
       "      <td>F</td>\n",
       "    </tr>\n",
       "  </tbody>\n",
       "</table>\n",
       "</div>"
      ],
      "text/plain": [
       "        Yaş Meslek\n",
       "Cartman   9      D\n",
       "Kenny    10      E\n",
       "Kyle     11      F"
      ]
     },
     "execution_count": 67,
     "metadata": {},
     "output_type": "execute_result"
    }
   ],
   "source": [
    "cizgiFilmDataFrame.loc[\"South Park\"]"
   ]
  },
  {
   "cell_type": "code",
   "execution_count": 68,
   "id": "0806a6fe",
   "metadata": {},
   "outputs": [
    {
     "data": {
      "application/vnd.microsoft.datawrangler.viewer.v0+json": {
       "columns": [
        {
         "name": "index",
         "rawType": "object",
         "type": "string"
        },
        {
         "name": "Kenny",
         "rawType": "object",
         "type": "string"
        }
       ],
       "ref": "421a9de2-4462-4bed-977a-56b2d771e899",
       "rows": [
        [
         "Yaş",
         "10"
        ],
        [
         "Meslek",
         "E"
        ]
       ],
       "shape": {
        "columns": 1,
        "rows": 2
       }
      },
      "text/plain": [
       "Yaş       10\n",
       "Meslek     E\n",
       "Name: Kenny, dtype: object"
      ]
     },
     "execution_count": 68,
     "metadata": {},
     "output_type": "execute_result"
    }
   ],
   "source": [
    "cizgiFilmDataFrame.loc[\"South Park\"].loc[\"Kenny\"]"
   ]
  },
  {
   "cell_type": "code",
   "execution_count": 69,
   "id": "05ec03c9",
   "metadata": {},
   "outputs": [],
   "source": [
    "cizgiFilmDataFrame.index.names = [\"Çizgifilm Adı\" , \"Karakter İsim\"]"
   ]
  },
  {
   "cell_type": "code",
   "execution_count": 70,
   "id": "17ea4bb8",
   "metadata": {},
   "outputs": [
    {
     "data": {
      "application/vnd.microsoft.datawrangler.viewer.v0+json": {
       "columns": [
        {
         "name": "('Çizgifilm Adı', 'Karakter İsim')",
         "rawType": "object",
         "type": "unknown"
        },
        {
         "name": "Yaş",
         "rawType": "object",
         "type": "string"
        },
        {
         "name": "Meslek",
         "rawType": "object",
         "type": "string"
        }
       ],
       "ref": "a67a3d4d-50c4-4fac-b017-3e81416db674",
       "rows": [
        [
         "('Simpson', 'Honner')",
         "40",
         "A"
        ],
        [
         "('Simpson', 'Bart')",
         "10",
         "B"
        ],
        [
         "('Simpson', 'Marge')",
         "30",
         "C"
        ],
        [
         "('South Park', 'Cartman')",
         "9",
         "D"
        ],
        [
         "('South Park', 'Kenny')",
         "10",
         "E"
        ],
        [
         "('South Park', 'Kyle')",
         "11",
         "F"
        ]
       ],
       "shape": {
        "columns": 2,
        "rows": 6
       }
      },
      "text/html": [
       "<div>\n",
       "<style scoped>\n",
       "    .dataframe tbody tr th:only-of-type {\n",
       "        vertical-align: middle;\n",
       "    }\n",
       "\n",
       "    .dataframe tbody tr th {\n",
       "        vertical-align: top;\n",
       "    }\n",
       "\n",
       "    .dataframe thead th {\n",
       "        text-align: right;\n",
       "    }\n",
       "</style>\n",
       "<table border=\"1\" class=\"dataframe\">\n",
       "  <thead>\n",
       "    <tr style=\"text-align: right;\">\n",
       "      <th></th>\n",
       "      <th></th>\n",
       "      <th>Yaş</th>\n",
       "      <th>Meslek</th>\n",
       "    </tr>\n",
       "    <tr>\n",
       "      <th>Çizgifilm Adı</th>\n",
       "      <th>Karakter İsim</th>\n",
       "      <th></th>\n",
       "      <th></th>\n",
       "    </tr>\n",
       "  </thead>\n",
       "  <tbody>\n",
       "    <tr>\n",
       "      <th rowspan=\"3\" valign=\"top\">Simpson</th>\n",
       "      <th>Honner</th>\n",
       "      <td>40</td>\n",
       "      <td>A</td>\n",
       "    </tr>\n",
       "    <tr>\n",
       "      <th>Bart</th>\n",
       "      <td>10</td>\n",
       "      <td>B</td>\n",
       "    </tr>\n",
       "    <tr>\n",
       "      <th>Marge</th>\n",
       "      <td>30</td>\n",
       "      <td>C</td>\n",
       "    </tr>\n",
       "    <tr>\n",
       "      <th rowspan=\"3\" valign=\"top\">South Park</th>\n",
       "      <th>Cartman</th>\n",
       "      <td>9</td>\n",
       "      <td>D</td>\n",
       "    </tr>\n",
       "    <tr>\n",
       "      <th>Kenny</th>\n",
       "      <td>10</td>\n",
       "      <td>E</td>\n",
       "    </tr>\n",
       "    <tr>\n",
       "      <th>Kyle</th>\n",
       "      <td>11</td>\n",
       "      <td>F</td>\n",
       "    </tr>\n",
       "  </tbody>\n",
       "</table>\n",
       "</div>"
      ],
      "text/plain": [
       "                            Yaş Meslek\n",
       "Çizgifilm Adı Karakter İsim           \n",
       "Simpson       Honner         40      A\n",
       "              Bart           10      B\n",
       "              Marge          30      C\n",
       "South Park    Cartman         9      D\n",
       "              Kenny          10      E\n",
       "              Kyle           11      F"
      ]
     },
     "execution_count": 70,
     "metadata": {},
     "output_type": "execute_result"
    }
   ],
   "source": [
    "cizgiFilmDataFrame"
   ]
  },
  {
   "cell_type": "markdown",
   "id": "74c77d1e",
   "metadata": {},
   "source": [
    "OPERASYONLAR"
   ]
  },
  {
   "cell_type": "code",
   "execution_count": 71,
   "id": "ce5e9604",
   "metadata": {},
   "outputs": [],
   "source": [
    "sozlukVerisi = {\"İstanbul\" : [30,29,25], \"İzmir\" : [31,np.nan,25] , \"Konya\" : [np.nan,28,31]}\n",
    "havaDurumuDataFrame = pd.DataFrame(sozlukVerisi)"
   ]
  },
  {
   "cell_type": "code",
   "execution_count": 72,
   "id": "5c34eaca",
   "metadata": {},
   "outputs": [
    {
     "data": {
      "application/vnd.microsoft.datawrangler.viewer.v0+json": {
       "columns": [
        {
         "name": "index",
         "rawType": "int64",
         "type": "integer"
        },
        {
         "name": "İstanbul",
         "rawType": "int64",
         "type": "integer"
        },
        {
         "name": "İzmir",
         "rawType": "float64",
         "type": "float"
        },
        {
         "name": "Konya",
         "rawType": "float64",
         "type": "float"
        }
       ],
       "ref": "e1fb3103-5085-4265-8f55-16ab116e60eb",
       "rows": [
        [
         "0",
         "30",
         "31.0",
         null
        ],
        [
         "1",
         "29",
         null,
         "28.0"
        ],
        [
         "2",
         "25",
         "25.0",
         "31.0"
        ]
       ],
       "shape": {
        "columns": 3,
        "rows": 3
       }
      },
      "text/html": [
       "<div>\n",
       "<style scoped>\n",
       "    .dataframe tbody tr th:only-of-type {\n",
       "        vertical-align: middle;\n",
       "    }\n",
       "\n",
       "    .dataframe tbody tr th {\n",
       "        vertical-align: top;\n",
       "    }\n",
       "\n",
       "    .dataframe thead th {\n",
       "        text-align: right;\n",
       "    }\n",
       "</style>\n",
       "<table border=\"1\" class=\"dataframe\">\n",
       "  <thead>\n",
       "    <tr style=\"text-align: right;\">\n",
       "      <th></th>\n",
       "      <th>İstanbul</th>\n",
       "      <th>İzmir</th>\n",
       "      <th>Konya</th>\n",
       "    </tr>\n",
       "  </thead>\n",
       "  <tbody>\n",
       "    <tr>\n",
       "      <th>0</th>\n",
       "      <td>30</td>\n",
       "      <td>31.0</td>\n",
       "      <td>NaN</td>\n",
       "    </tr>\n",
       "    <tr>\n",
       "      <th>1</th>\n",
       "      <td>29</td>\n",
       "      <td>NaN</td>\n",
       "      <td>28.0</td>\n",
       "    </tr>\n",
       "    <tr>\n",
       "      <th>2</th>\n",
       "      <td>25</td>\n",
       "      <td>25.0</td>\n",
       "      <td>31.0</td>\n",
       "    </tr>\n",
       "  </tbody>\n",
       "</table>\n",
       "</div>"
      ],
      "text/plain": [
       "   İstanbul  İzmir  Konya\n",
       "0        30   31.0    NaN\n",
       "1        29    NaN   28.0\n",
       "2        25   25.0   31.0"
      ]
     },
     "execution_count": 72,
     "metadata": {},
     "output_type": "execute_result"
    }
   ],
   "source": [
    "havaDurumuDataFrame"
   ]
  },
  {
   "cell_type": "code",
   "execution_count": 73,
   "id": "b5ef6148",
   "metadata": {},
   "outputs": [],
   "source": [
    "havaDurumuDataFrame.index.names = [\"Hava Sıcaklığı\"]"
   ]
  },
  {
   "cell_type": "code",
   "execution_count": 74,
   "id": "03587476",
   "metadata": {},
   "outputs": [
    {
     "data": {
      "application/vnd.microsoft.datawrangler.viewer.v0+json": {
       "columns": [
        {
         "name": "Hava Sıcaklığı",
         "rawType": "int64",
         "type": "integer"
        },
        {
         "name": "İstanbul",
         "rawType": "int64",
         "type": "integer"
        },
        {
         "name": "İzmir",
         "rawType": "float64",
         "type": "float"
        },
        {
         "name": "Konya",
         "rawType": "float64",
         "type": "float"
        }
       ],
       "ref": "39394644-1a58-4788-9fd5-74b70e6c3ceb",
       "rows": [
        [
         "0",
         "30",
         "31.0",
         null
        ],
        [
         "1",
         "29",
         null,
         "28.0"
        ],
        [
         "2",
         "25",
         "25.0",
         "31.0"
        ]
       ],
       "shape": {
        "columns": 3,
        "rows": 3
       }
      },
      "text/html": [
       "<div>\n",
       "<style scoped>\n",
       "    .dataframe tbody tr th:only-of-type {\n",
       "        vertical-align: middle;\n",
       "    }\n",
       "\n",
       "    .dataframe tbody tr th {\n",
       "        vertical-align: top;\n",
       "    }\n",
       "\n",
       "    .dataframe thead th {\n",
       "        text-align: right;\n",
       "    }\n",
       "</style>\n",
       "<table border=\"1\" class=\"dataframe\">\n",
       "  <thead>\n",
       "    <tr style=\"text-align: right;\">\n",
       "      <th></th>\n",
       "      <th>İstanbul</th>\n",
       "      <th>İzmir</th>\n",
       "      <th>Konya</th>\n",
       "    </tr>\n",
       "    <tr>\n",
       "      <th>Hava Sıcaklığı</th>\n",
       "      <th></th>\n",
       "      <th></th>\n",
       "      <th></th>\n",
       "    </tr>\n",
       "  </thead>\n",
       "  <tbody>\n",
       "    <tr>\n",
       "      <th>0</th>\n",
       "      <td>30</td>\n",
       "      <td>31.0</td>\n",
       "      <td>NaN</td>\n",
       "    </tr>\n",
       "    <tr>\n",
       "      <th>1</th>\n",
       "      <td>29</td>\n",
       "      <td>NaN</td>\n",
       "      <td>28.0</td>\n",
       "    </tr>\n",
       "    <tr>\n",
       "      <th>2</th>\n",
       "      <td>25</td>\n",
       "      <td>25.0</td>\n",
       "      <td>31.0</td>\n",
       "    </tr>\n",
       "  </tbody>\n",
       "</table>\n",
       "</div>"
      ],
      "text/plain": [
       "                İstanbul  İzmir  Konya\n",
       "Hava Sıcaklığı                        \n",
       "0                     30   31.0    NaN\n",
       "1                     29    NaN   28.0\n",
       "2                     25   25.0   31.0"
      ]
     },
     "execution_count": 74,
     "metadata": {},
     "output_type": "execute_result"
    }
   ],
   "source": [
    "havaDurumuDataFrame"
   ]
  },
  {
   "cell_type": "code",
   "execution_count": 75,
   "id": "e3d3ebca",
   "metadata": {},
   "outputs": [
    {
     "data": {
      "application/vnd.microsoft.datawrangler.viewer.v0+json": {
       "columns": [
        {
         "name": "index",
         "rawType": "object",
         "type": "string"
        },
        {
         "name": "İstanbul",
         "rawType": "int64",
         "type": "integer"
        },
        {
         "name": "İzmir",
         "rawType": "float64",
         "type": "float"
        },
        {
         "name": "Konya",
         "rawType": "float64",
         "type": "float"
        }
       ],
       "ref": "34c1aa84-426b-4afd-ad1b-c8b45dc6fd34",
       "rows": [
        [
         "1. Gün",
         "30",
         "31.0",
         null
        ],
        [
         "2. Gün",
         "29",
         null,
         "28.0"
        ],
        [
         "3. Gün",
         "25",
         "25.0",
         "31.0"
        ]
       ],
       "shape": {
        "columns": 3,
        "rows": 3
       }
      },
      "text/html": [
       "<div>\n",
       "<style scoped>\n",
       "    .dataframe tbody tr th:only-of-type {\n",
       "        vertical-align: middle;\n",
       "    }\n",
       "\n",
       "    .dataframe tbody tr th {\n",
       "        vertical-align: top;\n",
       "    }\n",
       "\n",
       "    .dataframe thead th {\n",
       "        text-align: right;\n",
       "    }\n",
       "</style>\n",
       "<table border=\"1\" class=\"dataframe\">\n",
       "  <thead>\n",
       "    <tr style=\"text-align: right;\">\n",
       "      <th></th>\n",
       "      <th>İstanbul</th>\n",
       "      <th>İzmir</th>\n",
       "      <th>Konya</th>\n",
       "    </tr>\n",
       "  </thead>\n",
       "  <tbody>\n",
       "    <tr>\n",
       "      <th>1. Gün</th>\n",
       "      <td>30</td>\n",
       "      <td>31.0</td>\n",
       "      <td>NaN</td>\n",
       "    </tr>\n",
       "    <tr>\n",
       "      <th>2. Gün</th>\n",
       "      <td>29</td>\n",
       "      <td>NaN</td>\n",
       "      <td>28.0</td>\n",
       "    </tr>\n",
       "    <tr>\n",
       "      <th>3. Gün</th>\n",
       "      <td>25</td>\n",
       "      <td>25.0</td>\n",
       "      <td>31.0</td>\n",
       "    </tr>\n",
       "  </tbody>\n",
       "</table>\n",
       "</div>"
      ],
      "text/plain": [
       "        İstanbul  İzmir  Konya\n",
       "1. Gün        30   31.0    NaN\n",
       "2. Gün        29    NaN   28.0\n",
       "3. Gün        25   25.0   31.0"
      ]
     },
     "execution_count": 75,
     "metadata": {},
     "output_type": "execute_result"
    }
   ],
   "source": [
    "havaDurumuDataFrame.index = ['1. Gün', '2. Gün', '3. Gün']\n",
    "havaDurumuDataFrame"
   ]
  },
  {
   "cell_type": "code",
   "execution_count": 76,
   "id": "475a6fef",
   "metadata": {},
   "outputs": [
    {
     "data": {
      "application/vnd.microsoft.datawrangler.viewer.v0+json": {
       "columns": [
        {
         "name": "index",
         "rawType": "object",
         "type": "string"
        },
        {
         "name": "İstanbul",
         "rawType": "int64",
         "type": "integer"
        },
        {
         "name": "İzmir",
         "rawType": "float64",
         "type": "float"
        },
        {
         "name": "Konya",
         "rawType": "float64",
         "type": "float"
        }
       ],
       "ref": "52ac33b2-f5ed-406f-a224-9a16fbfa7183",
       "rows": [
        [
         "3. Gün",
         "25",
         "25.0",
         "31.0"
        ]
       ],
       "shape": {
        "columns": 3,
        "rows": 1
       }
      },
      "text/html": [
       "<div>\n",
       "<style scoped>\n",
       "    .dataframe tbody tr th:only-of-type {\n",
       "        vertical-align: middle;\n",
       "    }\n",
       "\n",
       "    .dataframe tbody tr th {\n",
       "        vertical-align: top;\n",
       "    }\n",
       "\n",
       "    .dataframe thead th {\n",
       "        text-align: right;\n",
       "    }\n",
       "</style>\n",
       "<table border=\"1\" class=\"dataframe\">\n",
       "  <thead>\n",
       "    <tr style=\"text-align: right;\">\n",
       "      <th></th>\n",
       "      <th>İstanbul</th>\n",
       "      <th>İzmir</th>\n",
       "      <th>Konya</th>\n",
       "    </tr>\n",
       "  </thead>\n",
       "  <tbody>\n",
       "    <tr>\n",
       "      <th>3. Gün</th>\n",
       "      <td>25</td>\n",
       "      <td>25.0</td>\n",
       "      <td>31.0</td>\n",
       "    </tr>\n",
       "  </tbody>\n",
       "</table>\n",
       "</div>"
      ],
      "text/plain": [
       "        İstanbul  İzmir  Konya\n",
       "3. Gün        25   25.0   31.0"
      ]
     },
     "execution_count": 76,
     "metadata": {},
     "output_type": "execute_result"
    }
   ],
   "source": [
    "havaDurumuDataFrame.dropna()"
   ]
  },
  {
   "cell_type": "code",
   "execution_count": 77,
   "id": "7ef8b568",
   "metadata": {},
   "outputs": [
    {
     "data": {
      "application/vnd.microsoft.datawrangler.viewer.v0+json": {
       "columns": [
        {
         "name": "index",
         "rawType": "object",
         "type": "string"
        },
        {
         "name": "İstanbul",
         "rawType": "int64",
         "type": "integer"
        }
       ],
       "ref": "df4a7a42-1b0a-4528-aafd-f13c61286a43",
       "rows": [
        [
         "1. Gün",
         "30"
        ],
        [
         "2. Gün",
         "29"
        ],
        [
         "3. Gün",
         "25"
        ]
       ],
       "shape": {
        "columns": 1,
        "rows": 3
       }
      },
      "text/html": [
       "<div>\n",
       "<style scoped>\n",
       "    .dataframe tbody tr th:only-of-type {\n",
       "        vertical-align: middle;\n",
       "    }\n",
       "\n",
       "    .dataframe tbody tr th {\n",
       "        vertical-align: top;\n",
       "    }\n",
       "\n",
       "    .dataframe thead th {\n",
       "        text-align: right;\n",
       "    }\n",
       "</style>\n",
       "<table border=\"1\" class=\"dataframe\">\n",
       "  <thead>\n",
       "    <tr style=\"text-align: right;\">\n",
       "      <th></th>\n",
       "      <th>İstanbul</th>\n",
       "    </tr>\n",
       "  </thead>\n",
       "  <tbody>\n",
       "    <tr>\n",
       "      <th>1. Gün</th>\n",
       "      <td>30</td>\n",
       "    </tr>\n",
       "    <tr>\n",
       "      <th>2. Gün</th>\n",
       "      <td>29</td>\n",
       "    </tr>\n",
       "    <tr>\n",
       "      <th>3. Gün</th>\n",
       "      <td>25</td>\n",
       "    </tr>\n",
       "  </tbody>\n",
       "</table>\n",
       "</div>"
      ],
      "text/plain": [
       "        İstanbul\n",
       "1. Gün        30\n",
       "2. Gün        29\n",
       "3. Gün        25"
      ]
     },
     "execution_count": 77,
     "metadata": {},
     "output_type": "execute_result"
    }
   ],
   "source": [
    "havaDurumuDataFrame.dropna(axis=1)"
   ]
  },
  {
   "cell_type": "code",
   "execution_count": 78,
   "id": "cd17c13a",
   "metadata": {},
   "outputs": [],
   "source": [
    "sozlukVerisi2 = {\"İstanbul\" : [30,29,25], \"İzmir\" : [31,np.nan,np.nan] , \"Konya\" : [np.nan,28,31]}\n",
    "havaDurumuDataFrame2 = pd.DataFrame(sozlukVerisi2)"
   ]
  },
  {
   "cell_type": "code",
   "execution_count": 79,
   "id": "1d12c306",
   "metadata": {},
   "outputs": [
    {
     "data": {
      "application/vnd.microsoft.datawrangler.viewer.v0+json": {
       "columns": [
        {
         "name": "index",
         "rawType": "int64",
         "type": "integer"
        },
        {
         "name": "İstanbul",
         "rawType": "int64",
         "type": "integer"
        },
        {
         "name": "İzmir",
         "rawType": "float64",
         "type": "float"
        },
        {
         "name": "Konya",
         "rawType": "float64",
         "type": "float"
        }
       ],
       "ref": "5ec2794d-2cb0-421a-bcf7-349892009eba",
       "rows": [
        [
         "0",
         "30",
         "31.0",
         null
        ],
        [
         "1",
         "29",
         null,
         "28.0"
        ],
        [
         "2",
         "25",
         null,
         "31.0"
        ]
       ],
       "shape": {
        "columns": 3,
        "rows": 3
       }
      },
      "text/html": [
       "<div>\n",
       "<style scoped>\n",
       "    .dataframe tbody tr th:only-of-type {\n",
       "        vertical-align: middle;\n",
       "    }\n",
       "\n",
       "    .dataframe tbody tr th {\n",
       "        vertical-align: top;\n",
       "    }\n",
       "\n",
       "    .dataframe thead th {\n",
       "        text-align: right;\n",
       "    }\n",
       "</style>\n",
       "<table border=\"1\" class=\"dataframe\">\n",
       "  <thead>\n",
       "    <tr style=\"text-align: right;\">\n",
       "      <th></th>\n",
       "      <th>İstanbul</th>\n",
       "      <th>İzmir</th>\n",
       "      <th>Konya</th>\n",
       "    </tr>\n",
       "  </thead>\n",
       "  <tbody>\n",
       "    <tr>\n",
       "      <th>0</th>\n",
       "      <td>30</td>\n",
       "      <td>31.0</td>\n",
       "      <td>NaN</td>\n",
       "    </tr>\n",
       "    <tr>\n",
       "      <th>1</th>\n",
       "      <td>29</td>\n",
       "      <td>NaN</td>\n",
       "      <td>28.0</td>\n",
       "    </tr>\n",
       "    <tr>\n",
       "      <th>2</th>\n",
       "      <td>25</td>\n",
       "      <td>NaN</td>\n",
       "      <td>31.0</td>\n",
       "    </tr>\n",
       "  </tbody>\n",
       "</table>\n",
       "</div>"
      ],
      "text/plain": [
       "   İstanbul  İzmir  Konya\n",
       "0        30   31.0    NaN\n",
       "1        29    NaN   28.0\n",
       "2        25    NaN   31.0"
      ]
     },
     "execution_count": 79,
     "metadata": {},
     "output_type": "execute_result"
    }
   ],
   "source": [
    "havaDurumuDataFrame2"
   ]
  },
  {
   "cell_type": "code",
   "execution_count": 80,
   "id": "ba6a17a7",
   "metadata": {},
   "outputs": [],
   "source": [
    "havaDurumuDataFrame2.index.names = [\"Hava Sıcaklığı\"]"
   ]
  },
  {
   "cell_type": "code",
   "execution_count": 81,
   "id": "fb3df2c1",
   "metadata": {},
   "outputs": [],
   "source": [
    "havaDurumuDataFrame2.index = [\"1.Gün\" , \"2.Gün\" , \"3.Gün\"]"
   ]
  },
  {
   "cell_type": "code",
   "execution_count": 82,
   "id": "5243660f",
   "metadata": {},
   "outputs": [
    {
     "data": {
      "application/vnd.microsoft.datawrangler.viewer.v0+json": {
       "columns": [
        {
         "name": "index",
         "rawType": "object",
         "type": "string"
        },
        {
         "name": "İstanbul",
         "rawType": "int64",
         "type": "integer"
        },
        {
         "name": "İzmir",
         "rawType": "float64",
         "type": "float"
        },
        {
         "name": "Konya",
         "rawType": "float64",
         "type": "float"
        }
       ],
       "ref": "d7cb6926-a0ca-4c91-af8e-b4e9a8762c4a",
       "rows": [
        [
         "1.Gün",
         "30",
         "31.0",
         null
        ],
        [
         "2.Gün",
         "29",
         null,
         "28.0"
        ],
        [
         "3.Gün",
         "25",
         null,
         "31.0"
        ]
       ],
       "shape": {
        "columns": 3,
        "rows": 3
       }
      },
      "text/html": [
       "<div>\n",
       "<style scoped>\n",
       "    .dataframe tbody tr th:only-of-type {\n",
       "        vertical-align: middle;\n",
       "    }\n",
       "\n",
       "    .dataframe tbody tr th {\n",
       "        vertical-align: top;\n",
       "    }\n",
       "\n",
       "    .dataframe thead th {\n",
       "        text-align: right;\n",
       "    }\n",
       "</style>\n",
       "<table border=\"1\" class=\"dataframe\">\n",
       "  <thead>\n",
       "    <tr style=\"text-align: right;\">\n",
       "      <th></th>\n",
       "      <th>İstanbul</th>\n",
       "      <th>İzmir</th>\n",
       "      <th>Konya</th>\n",
       "    </tr>\n",
       "  </thead>\n",
       "  <tbody>\n",
       "    <tr>\n",
       "      <th>1.Gün</th>\n",
       "      <td>30</td>\n",
       "      <td>31.0</td>\n",
       "      <td>NaN</td>\n",
       "    </tr>\n",
       "    <tr>\n",
       "      <th>2.Gün</th>\n",
       "      <td>29</td>\n",
       "      <td>NaN</td>\n",
       "      <td>28.0</td>\n",
       "    </tr>\n",
       "    <tr>\n",
       "      <th>3.Gün</th>\n",
       "      <td>25</td>\n",
       "      <td>NaN</td>\n",
       "      <td>31.0</td>\n",
       "    </tr>\n",
       "  </tbody>\n",
       "</table>\n",
       "</div>"
      ],
      "text/plain": [
       "       İstanbul  İzmir  Konya\n",
       "1.Gün        30   31.0    NaN\n",
       "2.Gün        29    NaN   28.0\n",
       "3.Gün        25    NaN   31.0"
      ]
     },
     "execution_count": 82,
     "metadata": {},
     "output_type": "execute_result"
    }
   ],
   "source": [
    "havaDurumuDataFrame2"
   ]
  },
  {
   "cell_type": "code",
   "execution_count": 83,
   "id": "e37257f9",
   "metadata": {},
   "outputs": [
    {
     "data": {
      "application/vnd.microsoft.datawrangler.viewer.v0+json": {
       "columns": [
        {
         "name": "index",
         "rawType": "object",
         "type": "string"
        },
        {
         "name": "İstanbul",
         "rawType": "int64",
         "type": "integer"
        },
        {
         "name": "İzmir",
         "rawType": "float64",
         "type": "float"
        },
        {
         "name": "Konya",
         "rawType": "float64",
         "type": "float"
        }
       ],
       "ref": "63675553-ffc6-41b0-b76b-6afdf6047ee3",
       "rows": [
        [
         "1.Gün",
         "30",
         "31.0",
         null
        ],
        [
         "2.Gün",
         "29",
         null,
         "28.0"
        ],
        [
         "3.Gün",
         "25",
         null,
         "31.0"
        ]
       ],
       "shape": {
        "columns": 3,
        "rows": 3
       }
      },
      "text/html": [
       "<div>\n",
       "<style scoped>\n",
       "    .dataframe tbody tr th:only-of-type {\n",
       "        vertical-align: middle;\n",
       "    }\n",
       "\n",
       "    .dataframe tbody tr th {\n",
       "        vertical-align: top;\n",
       "    }\n",
       "\n",
       "    .dataframe thead th {\n",
       "        text-align: right;\n",
       "    }\n",
       "</style>\n",
       "<table border=\"1\" class=\"dataframe\">\n",
       "  <thead>\n",
       "    <tr style=\"text-align: right;\">\n",
       "      <th></th>\n",
       "      <th>İstanbul</th>\n",
       "      <th>İzmir</th>\n",
       "      <th>Konya</th>\n",
       "    </tr>\n",
       "  </thead>\n",
       "  <tbody>\n",
       "    <tr>\n",
       "      <th>1.Gün</th>\n",
       "      <td>30</td>\n",
       "      <td>31.0</td>\n",
       "      <td>NaN</td>\n",
       "    </tr>\n",
       "    <tr>\n",
       "      <th>2.Gün</th>\n",
       "      <td>29</td>\n",
       "      <td>NaN</td>\n",
       "      <td>28.0</td>\n",
       "    </tr>\n",
       "    <tr>\n",
       "      <th>3.Gün</th>\n",
       "      <td>25</td>\n",
       "      <td>NaN</td>\n",
       "      <td>31.0</td>\n",
       "    </tr>\n",
       "  </tbody>\n",
       "</table>\n",
       "</div>"
      ],
      "text/plain": [
       "       İstanbul  İzmir  Konya\n",
       "1.Gün        30   31.0    NaN\n",
       "2.Gün        29    NaN   28.0\n",
       "3.Gün        25    NaN   31.0"
      ]
     },
     "execution_count": 83,
     "metadata": {},
     "output_type": "execute_result"
    }
   ],
   "source": [
    "havaDurumuDataFrame2.dropna(axis=1,thresh=2) \n",
    "#thresh=2 parametresi ise bir sütunun en az 2 tane geçerli (NaN olmayan) değer içermesi gerektiğini belirtir.\n",
    "havaDurumuDataFrame2"
   ]
  },
  {
   "cell_type": "code",
   "execution_count": 84,
   "id": "43dfde98",
   "metadata": {},
   "outputs": [
    {
     "data": {
      "application/vnd.microsoft.datawrangler.viewer.v0+json": {
       "columns": [
        {
         "name": "index",
         "rawType": "object",
         "type": "string"
        },
        {
         "name": "İstanbul",
         "rawType": "int64",
         "type": "integer"
        },
        {
         "name": "İzmir",
         "rawType": "float64",
         "type": "float"
        },
        {
         "name": "Konya",
         "rawType": "float64",
         "type": "float"
        }
       ],
       "ref": "8653e5f3-0641-4895-92fe-8872544085ff",
       "rows": [
        [
         "1.Gün",
         "30",
         "31.0",
         "10.0"
        ],
        [
         "2.Gün",
         "29",
         "10.0",
         "28.0"
        ],
        [
         "3.Gün",
         "25",
         "10.0",
         "31.0"
        ]
       ],
       "shape": {
        "columns": 3,
        "rows": 3
       }
      },
      "text/html": [
       "<div>\n",
       "<style scoped>\n",
       "    .dataframe tbody tr th:only-of-type {\n",
       "        vertical-align: middle;\n",
       "    }\n",
       "\n",
       "    .dataframe tbody tr th {\n",
       "        vertical-align: top;\n",
       "    }\n",
       "\n",
       "    .dataframe thead th {\n",
       "        text-align: right;\n",
       "    }\n",
       "</style>\n",
       "<table border=\"1\" class=\"dataframe\">\n",
       "  <thead>\n",
       "    <tr style=\"text-align: right;\">\n",
       "      <th></th>\n",
       "      <th>İstanbul</th>\n",
       "      <th>İzmir</th>\n",
       "      <th>Konya</th>\n",
       "    </tr>\n",
       "  </thead>\n",
       "  <tbody>\n",
       "    <tr>\n",
       "      <th>1.Gün</th>\n",
       "      <td>30</td>\n",
       "      <td>31.0</td>\n",
       "      <td>10.0</td>\n",
       "    </tr>\n",
       "    <tr>\n",
       "      <th>2.Gün</th>\n",
       "      <td>29</td>\n",
       "      <td>10.0</td>\n",
       "      <td>28.0</td>\n",
       "    </tr>\n",
       "    <tr>\n",
       "      <th>3.Gün</th>\n",
       "      <td>25</td>\n",
       "      <td>10.0</td>\n",
       "      <td>31.0</td>\n",
       "    </tr>\n",
       "  </tbody>\n",
       "</table>\n",
       "</div>"
      ],
      "text/plain": [
       "       İstanbul  İzmir  Konya\n",
       "1.Gün        30   31.0   10.0\n",
       "2.Gün        29   10.0   28.0\n",
       "3.Gün        25   10.0   31.0"
      ]
     },
     "execution_count": 84,
     "metadata": {},
     "output_type": "execute_result"
    }
   ],
   "source": [
    "havaDurumuDataFrame2.fillna(10)"
   ]
  },
  {
   "cell_type": "markdown",
   "id": "f9203c4c",
   "metadata": {},
   "source": [
    "GROUPBY"
   ]
  },
  {
   "cell_type": "code",
   "execution_count": 85,
   "id": "989e5b55",
   "metadata": {},
   "outputs": [],
   "source": [
    "maasSozlugu = {\"Departman\" : [\"Yazılım\",\"Yazılım\",\"Satış\",\"Satış\",\"Pazarlama\",\"Pazarlama\"],\"Çalışan İsmi\" : [\"Sueda\",\"Hilal\",\"Zeynep\",\"Mina\",\"Lidya\",\"Esin\"],\"Maaş(bin)\" : [125,155,145,150,95,105]}"
   ]
  },
  {
   "cell_type": "code",
   "execution_count": 86,
   "id": "f37d54de",
   "metadata": {},
   "outputs": [],
   "source": [
    "maasBilgisi = pd.DataFrame(maasSozlugu)"
   ]
  },
  {
   "cell_type": "code",
   "execution_count": 87,
   "id": "b99ec1d3",
   "metadata": {},
   "outputs": [
    {
     "data": {
      "application/vnd.microsoft.datawrangler.viewer.v0+json": {
       "columns": [
        {
         "name": "index",
         "rawType": "int64",
         "type": "integer"
        },
        {
         "name": "Departman",
         "rawType": "object",
         "type": "string"
        },
        {
         "name": "Çalışan İsmi",
         "rawType": "object",
         "type": "string"
        },
        {
         "name": "Maaş(bin)",
         "rawType": "int64",
         "type": "integer"
        }
       ],
       "ref": "4fd2abd2-6351-42d4-82da-297e16cfaacb",
       "rows": [
        [
         "0",
         "Yazılım",
         "Sueda",
         "125"
        ],
        [
         "1",
         "Yazılım",
         "Hilal",
         "155"
        ],
        [
         "2",
         "Satış",
         "Zeynep",
         "145"
        ],
        [
         "3",
         "Satış",
         "Mina",
         "150"
        ],
        [
         "4",
         "Pazarlama",
         "Lidya",
         "95"
        ],
        [
         "5",
         "Pazarlama",
         "Esin",
         "105"
        ]
       ],
       "shape": {
        "columns": 3,
        "rows": 6
       }
      },
      "text/html": [
       "<div>\n",
       "<style scoped>\n",
       "    .dataframe tbody tr th:only-of-type {\n",
       "        vertical-align: middle;\n",
       "    }\n",
       "\n",
       "    .dataframe tbody tr th {\n",
       "        vertical-align: top;\n",
       "    }\n",
       "\n",
       "    .dataframe thead th {\n",
       "        text-align: right;\n",
       "    }\n",
       "</style>\n",
       "<table border=\"1\" class=\"dataframe\">\n",
       "  <thead>\n",
       "    <tr style=\"text-align: right;\">\n",
       "      <th></th>\n",
       "      <th>Departman</th>\n",
       "      <th>Çalışan İsmi</th>\n",
       "      <th>Maaş(bin)</th>\n",
       "    </tr>\n",
       "  </thead>\n",
       "  <tbody>\n",
       "    <tr>\n",
       "      <th>0</th>\n",
       "      <td>Yazılım</td>\n",
       "      <td>Sueda</td>\n",
       "      <td>125</td>\n",
       "    </tr>\n",
       "    <tr>\n",
       "      <th>1</th>\n",
       "      <td>Yazılım</td>\n",
       "      <td>Hilal</td>\n",
       "      <td>155</td>\n",
       "    </tr>\n",
       "    <tr>\n",
       "      <th>2</th>\n",
       "      <td>Satış</td>\n",
       "      <td>Zeynep</td>\n",
       "      <td>145</td>\n",
       "    </tr>\n",
       "    <tr>\n",
       "      <th>3</th>\n",
       "      <td>Satış</td>\n",
       "      <td>Mina</td>\n",
       "      <td>150</td>\n",
       "    </tr>\n",
       "    <tr>\n",
       "      <th>4</th>\n",
       "      <td>Pazarlama</td>\n",
       "      <td>Lidya</td>\n",
       "      <td>95</td>\n",
       "    </tr>\n",
       "    <tr>\n",
       "      <th>5</th>\n",
       "      <td>Pazarlama</td>\n",
       "      <td>Esin</td>\n",
       "      <td>105</td>\n",
       "    </tr>\n",
       "  </tbody>\n",
       "</table>\n",
       "</div>"
      ],
      "text/plain": [
       "   Departman Çalışan İsmi  Maaş(bin)\n",
       "0    Yazılım        Sueda        125\n",
       "1    Yazılım        Hilal        155\n",
       "2      Satış       Zeynep        145\n",
       "3      Satış         Mina        150\n",
       "4  Pazarlama        Lidya         95\n",
       "5  Pazarlama         Esin        105"
      ]
     },
     "execution_count": 87,
     "metadata": {},
     "output_type": "execute_result"
    }
   ],
   "source": [
    "maasBilgisi"
   ]
  },
  {
   "cell_type": "code",
   "execution_count": 88,
   "id": "b8cce712",
   "metadata": {},
   "outputs": [
    {
     "data": {
      "application/vnd.microsoft.datawrangler.viewer.v0+json": {
       "columns": [
        {
         "name": "index",
         "rawType": "int64",
         "type": "integer"
        },
        {
         "name": "Departman",
         "rawType": "object",
         "type": "string"
        },
        {
         "name": "Çalışan İsmi",
         "rawType": "object",
         "type": "string"
        },
        {
         "name": "Maaş(bin)",
         "rawType": "int64",
         "type": "integer"
        }
       ],
       "ref": "a2fc47cb-2791-41c0-9b23-fd7e0948f37d",
       "rows": [
        [
         "404",
         "Yazılım",
         "Sueda",
         "125"
        ],
        [
         "404",
         "Yazılım",
         "Hilal",
         "155"
        ],
        [
         "255",
         "Satış",
         "Zeynep",
         "145"
        ],
        [
         "255",
         "Satış",
         "Mina",
         "150"
        ],
        [
         "257",
         "Pazarlama",
         "Lidya",
         "95"
        ],
        [
         "257",
         "Pazarlama",
         "Esin",
         "105"
        ]
       ],
       "shape": {
        "columns": 3,
        "rows": 6
       }
      },
      "text/html": [
       "<div>\n",
       "<style scoped>\n",
       "    .dataframe tbody tr th:only-of-type {\n",
       "        vertical-align: middle;\n",
       "    }\n",
       "\n",
       "    .dataframe tbody tr th {\n",
       "        vertical-align: top;\n",
       "    }\n",
       "\n",
       "    .dataframe thead th {\n",
       "        text-align: right;\n",
       "    }\n",
       "</style>\n",
       "<table border=\"1\" class=\"dataframe\">\n",
       "  <thead>\n",
       "    <tr style=\"text-align: right;\">\n",
       "      <th></th>\n",
       "      <th>Departman</th>\n",
       "      <th>Çalışan İsmi</th>\n",
       "      <th>Maaş(bin)</th>\n",
       "    </tr>\n",
       "  </thead>\n",
       "  <tbody>\n",
       "    <tr>\n",
       "      <th>404</th>\n",
       "      <td>Yazılım</td>\n",
       "      <td>Sueda</td>\n",
       "      <td>125</td>\n",
       "    </tr>\n",
       "    <tr>\n",
       "      <th>404</th>\n",
       "      <td>Yazılım</td>\n",
       "      <td>Hilal</td>\n",
       "      <td>155</td>\n",
       "    </tr>\n",
       "    <tr>\n",
       "      <th>255</th>\n",
       "      <td>Satış</td>\n",
       "      <td>Zeynep</td>\n",
       "      <td>145</td>\n",
       "    </tr>\n",
       "    <tr>\n",
       "      <th>255</th>\n",
       "      <td>Satış</td>\n",
       "      <td>Mina</td>\n",
       "      <td>150</td>\n",
       "    </tr>\n",
       "    <tr>\n",
       "      <th>257</th>\n",
       "      <td>Pazarlama</td>\n",
       "      <td>Lidya</td>\n",
       "      <td>95</td>\n",
       "    </tr>\n",
       "    <tr>\n",
       "      <th>257</th>\n",
       "      <td>Pazarlama</td>\n",
       "      <td>Esin</td>\n",
       "      <td>105</td>\n",
       "    </tr>\n",
       "  </tbody>\n",
       "</table>\n",
       "</div>"
      ],
      "text/plain": [
       "     Departman Çalışan İsmi  Maaş(bin)\n",
       "404    Yazılım        Sueda        125\n",
       "404    Yazılım        Hilal        155\n",
       "255      Satış       Zeynep        145\n",
       "255      Satış         Mina        150\n",
       "257  Pazarlama        Lidya         95\n",
       "257  Pazarlama         Esin        105"
      ]
     },
     "metadata": {},
     "output_type": "display_data"
    }
   ],
   "source": [
    "maasBilgisi.index.names = [\"Departman No.\"]\n",
    "maasBilgisi.index = [404,404,255,255,257,257]\n",
    "display(maasBilgisi)"
   ]
  },
  {
   "cell_type": "code",
   "execution_count": 89,
   "id": "a3fa5f8a",
   "metadata": {},
   "outputs": [
    {
     "data": {
      "text/plain": [
       "<pandas.core.groupby.generic.DataFrameGroupBy object at 0x0000023241121A80>"
      ]
     },
     "execution_count": 89,
     "metadata": {},
     "output_type": "execute_result"
    }
   ],
   "source": [
    "grupObjesi = maasBilgisi.groupby(\"Departman\")\n",
    "grupObjesi"
   ]
  },
  {
   "cell_type": "code",
   "execution_count": 90,
   "id": "a7d1dff6",
   "metadata": {},
   "outputs": [
    {
     "data": {
      "application/vnd.microsoft.datawrangler.viewer.v0+json": {
       "columns": [
        {
         "name": "Departman",
         "rawType": "object",
         "type": "string"
        },
        {
         "name": "Çalışan İsmi",
         "rawType": "int64",
         "type": "integer"
        },
        {
         "name": "Maaş(bin)",
         "rawType": "int64",
         "type": "integer"
        }
       ],
       "ref": "9f3f869b-61a2-4edf-8788-e522f4c8d9b6",
       "rows": [
        [
         "Pazarlama",
         "2",
         "2"
        ],
        [
         "Satış",
         "2",
         "2"
        ],
        [
         "Yazılım",
         "2",
         "2"
        ]
       ],
       "shape": {
        "columns": 2,
        "rows": 3
       }
      },
      "text/html": [
       "<div>\n",
       "<style scoped>\n",
       "    .dataframe tbody tr th:only-of-type {\n",
       "        vertical-align: middle;\n",
       "    }\n",
       "\n",
       "    .dataframe tbody tr th {\n",
       "        vertical-align: top;\n",
       "    }\n",
       "\n",
       "    .dataframe thead th {\n",
       "        text-align: right;\n",
       "    }\n",
       "</style>\n",
       "<table border=\"1\" class=\"dataframe\">\n",
       "  <thead>\n",
       "    <tr style=\"text-align: right;\">\n",
       "      <th></th>\n",
       "      <th>Çalışan İsmi</th>\n",
       "      <th>Maaş(bin)</th>\n",
       "    </tr>\n",
       "    <tr>\n",
       "      <th>Departman</th>\n",
       "      <th></th>\n",
       "      <th></th>\n",
       "    </tr>\n",
       "  </thead>\n",
       "  <tbody>\n",
       "    <tr>\n",
       "      <th>Pazarlama</th>\n",
       "      <td>2</td>\n",
       "      <td>2</td>\n",
       "    </tr>\n",
       "    <tr>\n",
       "      <th>Satış</th>\n",
       "      <td>2</td>\n",
       "      <td>2</td>\n",
       "    </tr>\n",
       "    <tr>\n",
       "      <th>Yazılım</th>\n",
       "      <td>2</td>\n",
       "      <td>2</td>\n",
       "    </tr>\n",
       "  </tbody>\n",
       "</table>\n",
       "</div>"
      ],
      "text/plain": [
       "           Çalışan İsmi  Maaş(bin)\n",
       "Departman                         \n",
       "Pazarlama             2          2\n",
       "Satış                 2          2\n",
       "Yazılım               2          2"
      ]
     },
     "execution_count": 90,
     "metadata": {},
     "output_type": "execute_result"
    }
   ],
   "source": [
    "grupObjesi.count()"
   ]
  },
  {
   "cell_type": "code",
   "execution_count": 91,
   "id": "a680e5d3",
   "metadata": {},
   "outputs": [
    {
     "data": {
      "application/vnd.microsoft.datawrangler.viewer.v0+json": {
       "columns": [
        {
         "name": "Departman",
         "rawType": "object",
         "type": "string"
        },
        {
         "name": "Maaş(bin)",
         "rawType": "float64",
         "type": "float"
        }
       ],
       "ref": "05593754-6688-4825-bf16-1fa5699fef27",
       "rows": [
        [
         "Pazarlama",
         "100.0"
        ],
        [
         "Satış",
         "147.5"
        ],
        [
         "Yazılım",
         "140.0"
        ]
       ],
       "shape": {
        "columns": 1,
        "rows": 3
       }
      },
      "text/html": [
       "<div>\n",
       "<style scoped>\n",
       "    .dataframe tbody tr th:only-of-type {\n",
       "        vertical-align: middle;\n",
       "    }\n",
       "\n",
       "    .dataframe tbody tr th {\n",
       "        vertical-align: top;\n",
       "    }\n",
       "\n",
       "    .dataframe thead th {\n",
       "        text-align: right;\n",
       "    }\n",
       "</style>\n",
       "<table border=\"1\" class=\"dataframe\">\n",
       "  <thead>\n",
       "    <tr style=\"text-align: right;\">\n",
       "      <th></th>\n",
       "      <th>Maaş(bin)</th>\n",
       "    </tr>\n",
       "    <tr>\n",
       "      <th>Departman</th>\n",
       "      <th></th>\n",
       "    </tr>\n",
       "  </thead>\n",
       "  <tbody>\n",
       "    <tr>\n",
       "      <th>Pazarlama</th>\n",
       "      <td>100.0</td>\n",
       "    </tr>\n",
       "    <tr>\n",
       "      <th>Satış</th>\n",
       "      <td>147.5</td>\n",
       "    </tr>\n",
       "    <tr>\n",
       "      <th>Yazılım</th>\n",
       "      <td>140.0</td>\n",
       "    </tr>\n",
       "  </tbody>\n",
       "</table>\n",
       "</div>"
      ],
      "text/plain": [
       "           Maaş(bin)\n",
       "Departman           \n",
       "Pazarlama      100.0\n",
       "Satış          147.5\n",
       "Yazılım        140.0"
      ]
     },
     "execution_count": 91,
     "metadata": {},
     "output_type": "execute_result"
    }
   ],
   "source": [
    "grupObjesi[[\"Maaş(bin)\"]].mean()"
   ]
  },
  {
   "cell_type": "code",
   "execution_count": 92,
   "id": "795c9c8d",
   "metadata": {},
   "outputs": [
    {
     "data": {
      "application/vnd.microsoft.datawrangler.viewer.v0+json": {
       "columns": [
        {
         "name": "Departman",
         "rawType": "object",
         "type": "string"
        },
        {
         "name": "Maaş(bin)",
         "rawType": "int64",
         "type": "integer"
        }
       ],
       "ref": "38a73a39-7b36-47ec-ae1f-cfae99cdc714",
       "rows": [
        [
         "Pazarlama",
         "95"
        ],
        [
         "Satış",
         "145"
        ],
        [
         "Yazılım",
         "125"
        ]
       ],
       "shape": {
        "columns": 1,
        "rows": 3
       }
      },
      "text/plain": [
       "Departman\n",
       "Pazarlama     95\n",
       "Satış        145\n",
       "Yazılım      125\n",
       "Name: Maaş(bin), dtype: int64"
      ]
     },
     "execution_count": 92,
     "metadata": {},
     "output_type": "execute_result"
    }
   ],
   "source": [
    "grupObjesi[\"Maaş(bin)\"].min()"
   ]
  },
  {
   "cell_type": "code",
   "execution_count": 93,
   "id": "5138b80e",
   "metadata": {},
   "outputs": [
    {
     "data": {
      "application/vnd.microsoft.datawrangler.viewer.v0+json": {
       "columns": [
        {
         "name": "Departman",
         "rawType": "object",
         "type": "string"
        },
        {
         "name": "Maaş(bin)",
         "rawType": "int64",
         "type": "integer"
        }
       ],
       "ref": "92205149-a097-4c32-8d5e-f66ecdbde477",
       "rows": [
        [
         "Pazarlama",
         "105"
        ],
        [
         "Satış",
         "150"
        ],
        [
         "Yazılım",
         "155"
        ]
       ],
       "shape": {
        "columns": 1,
        "rows": 3
       }
      },
      "text/plain": [
       "Departman\n",
       "Pazarlama    105\n",
       "Satış        150\n",
       "Yazılım      155\n",
       "Name: Maaş(bin), dtype: int64"
      ]
     },
     "execution_count": 93,
     "metadata": {},
     "output_type": "execute_result"
    }
   ],
   "source": [
    "grupObjesi[\"Maaş(bin)\"].max()"
   ]
  },
  {
   "cell_type": "code",
   "execution_count": 94,
   "id": "02fa9ab0",
   "metadata": {},
   "outputs": [
    {
     "data": {
      "application/vnd.microsoft.datawrangler.viewer.v0+json": {
       "columns": [
        {
         "name": "Departman",
         "rawType": "object",
         "type": "string"
        },
        {
         "name": "count",
         "rawType": "float64",
         "type": "float"
        },
        {
         "name": "mean",
         "rawType": "float64",
         "type": "float"
        },
        {
         "name": "std",
         "rawType": "float64",
         "type": "float"
        },
        {
         "name": "min",
         "rawType": "float64",
         "type": "float"
        },
        {
         "name": "25%",
         "rawType": "float64",
         "type": "float"
        },
        {
         "name": "50%",
         "rawType": "float64",
         "type": "float"
        },
        {
         "name": "75%",
         "rawType": "float64",
         "type": "float"
        },
        {
         "name": "max",
         "rawType": "float64",
         "type": "float"
        }
       ],
       "ref": "2d0a069c-9aea-456f-893d-3bd716d63294",
       "rows": [
        [
         "Pazarlama",
         "2.0",
         "100.0",
         "7.0710678118654755",
         "95.0",
         "97.5",
         "100.0",
         "102.5",
         "105.0"
        ],
        [
         "Satış",
         "2.0",
         "147.5",
         "3.5355339059327378",
         "145.0",
         "146.25",
         "147.5",
         "148.75",
         "150.0"
        ],
        [
         "Yazılım",
         "2.0",
         "140.0",
         "21.213203435596427",
         "125.0",
         "132.5",
         "140.0",
         "147.5",
         "155.0"
        ]
       ],
       "shape": {
        "columns": 8,
        "rows": 3
       }
      },
      "text/html": [
       "<div>\n",
       "<style scoped>\n",
       "    .dataframe tbody tr th:only-of-type {\n",
       "        vertical-align: middle;\n",
       "    }\n",
       "\n",
       "    .dataframe tbody tr th {\n",
       "        vertical-align: top;\n",
       "    }\n",
       "\n",
       "    .dataframe thead th {\n",
       "        text-align: right;\n",
       "    }\n",
       "</style>\n",
       "<table border=\"1\" class=\"dataframe\">\n",
       "  <thead>\n",
       "    <tr style=\"text-align: right;\">\n",
       "      <th></th>\n",
       "      <th>count</th>\n",
       "      <th>mean</th>\n",
       "      <th>std</th>\n",
       "      <th>min</th>\n",
       "      <th>25%</th>\n",
       "      <th>50%</th>\n",
       "      <th>75%</th>\n",
       "      <th>max</th>\n",
       "    </tr>\n",
       "    <tr>\n",
       "      <th>Departman</th>\n",
       "      <th></th>\n",
       "      <th></th>\n",
       "      <th></th>\n",
       "      <th></th>\n",
       "      <th></th>\n",
       "      <th></th>\n",
       "      <th></th>\n",
       "      <th></th>\n",
       "    </tr>\n",
       "  </thead>\n",
       "  <tbody>\n",
       "    <tr>\n",
       "      <th>Pazarlama</th>\n",
       "      <td>2.0</td>\n",
       "      <td>100.0</td>\n",
       "      <td>7.071068</td>\n",
       "      <td>95.0</td>\n",
       "      <td>97.50</td>\n",
       "      <td>100.0</td>\n",
       "      <td>102.50</td>\n",
       "      <td>105.0</td>\n",
       "    </tr>\n",
       "    <tr>\n",
       "      <th>Satış</th>\n",
       "      <td>2.0</td>\n",
       "      <td>147.5</td>\n",
       "      <td>3.535534</td>\n",
       "      <td>145.0</td>\n",
       "      <td>146.25</td>\n",
       "      <td>147.5</td>\n",
       "      <td>148.75</td>\n",
       "      <td>150.0</td>\n",
       "    </tr>\n",
       "    <tr>\n",
       "      <th>Yazılım</th>\n",
       "      <td>2.0</td>\n",
       "      <td>140.0</td>\n",
       "      <td>21.213203</td>\n",
       "      <td>125.0</td>\n",
       "      <td>132.50</td>\n",
       "      <td>140.0</td>\n",
       "      <td>147.50</td>\n",
       "      <td>155.0</td>\n",
       "    </tr>\n",
       "  </tbody>\n",
       "</table>\n",
       "</div>"
      ],
      "text/plain": [
       "           count   mean        std    min     25%    50%     75%    max\n",
       "Departman                                                              \n",
       "Pazarlama    2.0  100.0   7.071068   95.0   97.50  100.0  102.50  105.0\n",
       "Satış        2.0  147.5   3.535534  145.0  146.25  147.5  148.75  150.0\n",
       "Yazılım      2.0  140.0  21.213203  125.0  132.50  140.0  147.50  155.0"
      ]
     },
     "execution_count": 94,
     "metadata": {},
     "output_type": "execute_result"
    }
   ],
   "source": [
    "grupObjesi[\"Maaş(bin)\"].describe()"
   ]
  },
  {
   "cell_type": "markdown",
   "id": "cf3c71d8",
   "metadata": {},
   "source": [
    "CONCATENATION"
   ]
  },
  {
   "cell_type": "code",
   "execution_count": 95,
   "id": "3838fc39",
   "metadata": {},
   "outputs": [],
   "source": [
    "sozluk1 = {\"Isim\" : [\"Ahmet\",\"Mehmet\",\"Zeynep\",\"Atıl\"],\"Spor\" : [\"Koşu\",\"Yüzme\",\"Koşu\",\"Basketbol\"],\"Kalori\" : [200,250,150,300]}\n",
    "liste1 = pd.DataFrame(sozluk1)"
   ]
  },
  {
   "cell_type": "code",
   "execution_count": 96,
   "id": "544d3931",
   "metadata": {},
   "outputs": [
    {
     "data": {
      "application/vnd.microsoft.datawrangler.viewer.v0+json": {
       "columns": [
        {
         "name": "index",
         "rawType": "object",
         "type": "string"
        },
        {
         "name": "Isim",
         "rawType": "object",
         "type": "string"
        },
        {
         "name": "Spor",
         "rawType": "object",
         "type": "string"
        },
        {
         "name": "Kalori",
         "rawType": "int64",
         "type": "integer"
        }
       ],
       "ref": "81f02e8c-861b-4c99-92df-c7cd10979a10",
       "rows": [
        [
         "1.Kişi",
         "Ahmet",
         "Koşu",
         "200"
        ],
        [
         "2.Kişi",
         "Mehmet",
         "Yüzme",
         "250"
        ],
        [
         "3.Kişi",
         "Zeynep",
         "Koşu",
         "150"
        ],
        [
         "4.Kişi",
         "Atıl",
         "Basketbol",
         "300"
        ]
       ],
       "shape": {
        "columns": 3,
        "rows": 4
       }
      },
      "text/html": [
       "<div>\n",
       "<style scoped>\n",
       "    .dataframe tbody tr th:only-of-type {\n",
       "        vertical-align: middle;\n",
       "    }\n",
       "\n",
       "    .dataframe tbody tr th {\n",
       "        vertical-align: top;\n",
       "    }\n",
       "\n",
       "    .dataframe thead th {\n",
       "        text-align: right;\n",
       "    }\n",
       "</style>\n",
       "<table border=\"1\" class=\"dataframe\">\n",
       "  <thead>\n",
       "    <tr style=\"text-align: right;\">\n",
       "      <th></th>\n",
       "      <th>Isim</th>\n",
       "      <th>Spor</th>\n",
       "      <th>Kalori</th>\n",
       "    </tr>\n",
       "  </thead>\n",
       "  <tbody>\n",
       "    <tr>\n",
       "      <th>1.Kişi</th>\n",
       "      <td>Ahmet</td>\n",
       "      <td>Koşu</td>\n",
       "      <td>200</td>\n",
       "    </tr>\n",
       "    <tr>\n",
       "      <th>2.Kişi</th>\n",
       "      <td>Mehmet</td>\n",
       "      <td>Yüzme</td>\n",
       "      <td>250</td>\n",
       "    </tr>\n",
       "    <tr>\n",
       "      <th>3.Kişi</th>\n",
       "      <td>Zeynep</td>\n",
       "      <td>Koşu</td>\n",
       "      <td>150</td>\n",
       "    </tr>\n",
       "    <tr>\n",
       "      <th>4.Kişi</th>\n",
       "      <td>Atıl</td>\n",
       "      <td>Basketbol</td>\n",
       "      <td>300</td>\n",
       "    </tr>\n",
       "  </tbody>\n",
       "</table>\n",
       "</div>"
      ],
      "text/plain": [
       "          Isim       Spor  Kalori\n",
       "1.Kişi   Ahmet       Koşu     200\n",
       "2.Kişi  Mehmet      Yüzme     250\n",
       "3.Kişi  Zeynep       Koşu     150\n",
       "4.Kişi    Atıl  Basketbol     300"
      ]
     },
     "execution_count": 96,
     "metadata": {},
     "output_type": "execute_result"
    }
   ],
   "source": [
    "liste1.index = [\"1.Kişi\",\"2.Kişi\",\"3.Kişi\",\"4.Kişi\"]\n",
    "liste1"
   ]
  },
  {
   "cell_type": "code",
   "execution_count": 97,
   "id": "97f5de36",
   "metadata": {},
   "outputs": [],
   "source": [
    "sozluk2 = {\"Isim\" : [\"Ayşe\",\"Melek\",\"Zeki\",\"Aslı\"],\"Spor\" : [\"Baketbol\",\"Koşu\",\"Koşu\",\"Yüzme\"],\"Kalori\" : [250,150,200,100]}\n",
    "liste2 = pd.DataFrame(sozluk1)"
   ]
  },
  {
   "cell_type": "code",
   "execution_count": 119,
   "id": "442990ff",
   "metadata": {},
   "outputs": [
    {
     "data": {
      "application/vnd.microsoft.datawrangler.viewer.v0+json": {
       "columns": [
        {
         "name": "index",
         "rawType": "object",
         "type": "string"
        },
        {
         "name": "Isim",
         "rawType": "object",
         "type": "string"
        },
        {
         "name": "Spor",
         "rawType": "object",
         "type": "string"
        },
        {
         "name": "Kalori",
         "rawType": "int64",
         "type": "integer"
        }
       ],
       "ref": "64b992d4-c8df-4b60-a4dc-d122e59481d1",
       "rows": [
        [
         "5.Kişi",
         "Ahmet",
         "Koşu",
         "200"
        ],
        [
         "6.Kişi",
         "Mehmet",
         "Yüzme",
         "250"
        ],
        [
         "7.Kişi",
         "Zeynep",
         "Koşu",
         "150"
        ],
        [
         "8.Kişi",
         "Atıl",
         "Basketbol",
         "300"
        ]
       ],
       "shape": {
        "columns": 3,
        "rows": 4
       }
      },
      "text/html": [
       "<div>\n",
       "<style scoped>\n",
       "    .dataframe tbody tr th:only-of-type {\n",
       "        vertical-align: middle;\n",
       "    }\n",
       "\n",
       "    .dataframe tbody tr th {\n",
       "        vertical-align: top;\n",
       "    }\n",
       "\n",
       "    .dataframe thead th {\n",
       "        text-align: right;\n",
       "    }\n",
       "</style>\n",
       "<table border=\"1\" class=\"dataframe\">\n",
       "  <thead>\n",
       "    <tr style=\"text-align: right;\">\n",
       "      <th></th>\n",
       "      <th>Isim</th>\n",
       "      <th>Spor</th>\n",
       "      <th>Kalori</th>\n",
       "    </tr>\n",
       "  </thead>\n",
       "  <tbody>\n",
       "    <tr>\n",
       "      <th>5.Kişi</th>\n",
       "      <td>Ahmet</td>\n",
       "      <td>Koşu</td>\n",
       "      <td>200</td>\n",
       "    </tr>\n",
       "    <tr>\n",
       "      <th>6.Kişi</th>\n",
       "      <td>Mehmet</td>\n",
       "      <td>Yüzme</td>\n",
       "      <td>250</td>\n",
       "    </tr>\n",
       "    <tr>\n",
       "      <th>7.Kişi</th>\n",
       "      <td>Zeynep</td>\n",
       "      <td>Koşu</td>\n",
       "      <td>150</td>\n",
       "    </tr>\n",
       "    <tr>\n",
       "      <th>8.Kişi</th>\n",
       "      <td>Atıl</td>\n",
       "      <td>Basketbol</td>\n",
       "      <td>300</td>\n",
       "    </tr>\n",
       "  </tbody>\n",
       "</table>\n",
       "</div>"
      ],
      "text/plain": [
       "          Isim       Spor  Kalori\n",
       "5.Kişi   Ahmet       Koşu     200\n",
       "6.Kişi  Mehmet      Yüzme     250\n",
       "7.Kişi  Zeynep       Koşu     150\n",
       "8.Kişi    Atıl  Basketbol     300"
      ]
     },
     "execution_count": 119,
     "metadata": {},
     "output_type": "execute_result"
    }
   ],
   "source": [
    "liste2.index = [\"5.Kişi\",\"6.Kişi\",\"7.Kişi\",\"8.Kişi\"]\n",
    "liste2"
   ]
  },
  {
   "cell_type": "code",
   "execution_count": 99,
   "id": "5ad84a1a",
   "metadata": {},
   "outputs": [],
   "source": [
    "sozluk3 = {\"Isim\" : [\"Bengü\",\"Rabia\",\"Sümeyye\",\"Perihan\"],\"Spor\" : [\"Baketbol\",\"Voleybol\",\"Voleybol\",\"Voleybol\"],\"Kalori\" : [250,200,200,200]}\n",
    "liste3 = pd.DataFrame(sozluk1)"
   ]
  },
  {
   "cell_type": "code",
   "execution_count": 118,
   "id": "31c57bb1",
   "metadata": {},
   "outputs": [
    {
     "data": {
      "application/vnd.microsoft.datawrangler.viewer.v0+json": {
       "columns": [
        {
         "name": "index",
         "rawType": "object",
         "type": "string"
        },
        {
         "name": "Isim",
         "rawType": "object",
         "type": "string"
        },
        {
         "name": "Spor",
         "rawType": "object",
         "type": "string"
        },
        {
         "name": "Kalori",
         "rawType": "int64",
         "type": "integer"
        }
       ],
       "ref": "09441d2c-7d26-4ded-945a-9117b497b02a",
       "rows": [
        [
         "9.Kişi",
         "Ahmet",
         "Koşu",
         "200"
        ],
        [
         "10.Kişi",
         "Mehmet",
         "Yüzme",
         "250"
        ],
        [
         "11.Kişi",
         "Zeynep",
         "Koşu",
         "150"
        ],
        [
         "12.Kişi",
         "Atıl",
         "Basketbol",
         "300"
        ]
       ],
       "shape": {
        "columns": 3,
        "rows": 4
       }
      },
      "text/html": [
       "<div>\n",
       "<style scoped>\n",
       "    .dataframe tbody tr th:only-of-type {\n",
       "        vertical-align: middle;\n",
       "    }\n",
       "\n",
       "    .dataframe tbody tr th {\n",
       "        vertical-align: top;\n",
       "    }\n",
       "\n",
       "    .dataframe thead th {\n",
       "        text-align: right;\n",
       "    }\n",
       "</style>\n",
       "<table border=\"1\" class=\"dataframe\">\n",
       "  <thead>\n",
       "    <tr style=\"text-align: right;\">\n",
       "      <th></th>\n",
       "      <th>Isim</th>\n",
       "      <th>Spor</th>\n",
       "      <th>Kalori</th>\n",
       "    </tr>\n",
       "  </thead>\n",
       "  <tbody>\n",
       "    <tr>\n",
       "      <th>9.Kişi</th>\n",
       "      <td>Ahmet</td>\n",
       "      <td>Koşu</td>\n",
       "      <td>200</td>\n",
       "    </tr>\n",
       "    <tr>\n",
       "      <th>10.Kişi</th>\n",
       "      <td>Mehmet</td>\n",
       "      <td>Yüzme</td>\n",
       "      <td>250</td>\n",
       "    </tr>\n",
       "    <tr>\n",
       "      <th>11.Kişi</th>\n",
       "      <td>Zeynep</td>\n",
       "      <td>Koşu</td>\n",
       "      <td>150</td>\n",
       "    </tr>\n",
       "    <tr>\n",
       "      <th>12.Kişi</th>\n",
       "      <td>Atıl</td>\n",
       "      <td>Basketbol</td>\n",
       "      <td>300</td>\n",
       "    </tr>\n",
       "  </tbody>\n",
       "</table>\n",
       "</div>"
      ],
      "text/plain": [
       "           Isim       Spor  Kalori\n",
       "9.Kişi    Ahmet       Koşu     200\n",
       "10.Kişi  Mehmet      Yüzme     250\n",
       "11.Kişi  Zeynep       Koşu     150\n",
       "12.Kişi    Atıl  Basketbol     300"
      ]
     },
     "execution_count": 118,
     "metadata": {},
     "output_type": "execute_result"
    }
   ],
   "source": [
    "liste3.index = [\"9.Kişi\",\"10.Kişi\",\"11.Kişi\",\"12.Kişi\"]\n",
    "liste3"
   ]
  },
  {
   "cell_type": "code",
   "execution_count": 120,
   "id": "eef3f55c",
   "metadata": {},
   "outputs": [
    {
     "data": {
      "application/vnd.microsoft.datawrangler.viewer.v0+json": {
       "columns": [
        {
         "name": "index",
         "rawType": "object",
         "type": "string"
        },
        {
         "name": "Isim",
         "rawType": "object",
         "type": "string"
        },
        {
         "name": "Spor",
         "rawType": "object",
         "type": "string"
        },
        {
         "name": "Kalori",
         "rawType": "int64",
         "type": "integer"
        }
       ],
       "ref": "c2dab5c9-6e92-4bd0-923f-d1d66b7ad647",
       "rows": [
        [
         "1.Kişi",
         "Ahmet",
         "Koşu",
         "200"
        ],
        [
         "2.Kişi",
         "Mehmet",
         "Yüzme",
         "250"
        ],
        [
         "3.Kişi",
         "Zeynep",
         "Koşu",
         "150"
        ],
        [
         "4.Kişi",
         "Atıl",
         "Basketbol",
         "300"
        ],
        [
         "5.Kişi",
         "Ahmet",
         "Koşu",
         "200"
        ],
        [
         "6.Kişi",
         "Mehmet",
         "Yüzme",
         "250"
        ],
        [
         "7.Kişi",
         "Zeynep",
         "Koşu",
         "150"
        ],
        [
         "8.Kişi",
         "Atıl",
         "Basketbol",
         "300"
        ],
        [
         "9.Kişi",
         "Ahmet",
         "Koşu",
         "200"
        ],
        [
         "10.Kişi",
         "Mehmet",
         "Yüzme",
         "250"
        ],
        [
         "11.Kişi",
         "Zeynep",
         "Koşu",
         "150"
        ],
        [
         "12.Kişi",
         "Atıl",
         "Basketbol",
         "300"
        ]
       ],
       "shape": {
        "columns": 3,
        "rows": 12
       }
      },
      "text/html": [
       "<div>\n",
       "<style scoped>\n",
       "    .dataframe tbody tr th:only-of-type {\n",
       "        vertical-align: middle;\n",
       "    }\n",
       "\n",
       "    .dataframe tbody tr th {\n",
       "        vertical-align: top;\n",
       "    }\n",
       "\n",
       "    .dataframe thead th {\n",
       "        text-align: right;\n",
       "    }\n",
       "</style>\n",
       "<table border=\"1\" class=\"dataframe\">\n",
       "  <thead>\n",
       "    <tr style=\"text-align: right;\">\n",
       "      <th></th>\n",
       "      <th>Isim</th>\n",
       "      <th>Spor</th>\n",
       "      <th>Kalori</th>\n",
       "    </tr>\n",
       "  </thead>\n",
       "  <tbody>\n",
       "    <tr>\n",
       "      <th>1.Kişi</th>\n",
       "      <td>Ahmet</td>\n",
       "      <td>Koşu</td>\n",
       "      <td>200</td>\n",
       "    </tr>\n",
       "    <tr>\n",
       "      <th>2.Kişi</th>\n",
       "      <td>Mehmet</td>\n",
       "      <td>Yüzme</td>\n",
       "      <td>250</td>\n",
       "    </tr>\n",
       "    <tr>\n",
       "      <th>3.Kişi</th>\n",
       "      <td>Zeynep</td>\n",
       "      <td>Koşu</td>\n",
       "      <td>150</td>\n",
       "    </tr>\n",
       "    <tr>\n",
       "      <th>4.Kişi</th>\n",
       "      <td>Atıl</td>\n",
       "      <td>Basketbol</td>\n",
       "      <td>300</td>\n",
       "    </tr>\n",
       "    <tr>\n",
       "      <th>5.Kişi</th>\n",
       "      <td>Ahmet</td>\n",
       "      <td>Koşu</td>\n",
       "      <td>200</td>\n",
       "    </tr>\n",
       "    <tr>\n",
       "      <th>6.Kişi</th>\n",
       "      <td>Mehmet</td>\n",
       "      <td>Yüzme</td>\n",
       "      <td>250</td>\n",
       "    </tr>\n",
       "    <tr>\n",
       "      <th>7.Kişi</th>\n",
       "      <td>Zeynep</td>\n",
       "      <td>Koşu</td>\n",
       "      <td>150</td>\n",
       "    </tr>\n",
       "    <tr>\n",
       "      <th>8.Kişi</th>\n",
       "      <td>Atıl</td>\n",
       "      <td>Basketbol</td>\n",
       "      <td>300</td>\n",
       "    </tr>\n",
       "    <tr>\n",
       "      <th>9.Kişi</th>\n",
       "      <td>Ahmet</td>\n",
       "      <td>Koşu</td>\n",
       "      <td>200</td>\n",
       "    </tr>\n",
       "    <tr>\n",
       "      <th>10.Kişi</th>\n",
       "      <td>Mehmet</td>\n",
       "      <td>Yüzme</td>\n",
       "      <td>250</td>\n",
       "    </tr>\n",
       "    <tr>\n",
       "      <th>11.Kişi</th>\n",
       "      <td>Zeynep</td>\n",
       "      <td>Koşu</td>\n",
       "      <td>150</td>\n",
       "    </tr>\n",
       "    <tr>\n",
       "      <th>12.Kişi</th>\n",
       "      <td>Atıl</td>\n",
       "      <td>Basketbol</td>\n",
       "      <td>300</td>\n",
       "    </tr>\n",
       "  </tbody>\n",
       "</table>\n",
       "</div>"
      ],
      "text/plain": [
       "           Isim       Spor  Kalori\n",
       "1.Kişi    Ahmet       Koşu     200\n",
       "2.Kişi   Mehmet      Yüzme     250\n",
       "3.Kişi   Zeynep       Koşu     150\n",
       "4.Kişi     Atıl  Basketbol     300\n",
       "5.Kişi    Ahmet       Koşu     200\n",
       "6.Kişi   Mehmet      Yüzme     250\n",
       "7.Kişi   Zeynep       Koşu     150\n",
       "8.Kişi     Atıl  Basketbol     300\n",
       "9.Kişi    Ahmet       Koşu     200\n",
       "10.Kişi  Mehmet      Yüzme     250\n",
       "11.Kişi  Zeynep       Koşu     150\n",
       "12.Kişi    Atıl  Basketbol     300"
      ]
     },
     "execution_count": 120,
     "metadata": {},
     "output_type": "execute_result"
    }
   ],
   "source": [
    "pd.concat([liste1,liste2,liste3])"
   ]
  },
  {
   "cell_type": "markdown",
   "id": "9c2d01c6",
   "metadata": {},
   "source": [
    "MERGE"
   ]
  },
  {
   "cell_type": "code",
   "execution_count": 102,
   "id": "12f5a8ea",
   "metadata": {},
   "outputs": [
    {
     "data": {
      "application/vnd.microsoft.datawrangler.viewer.v0+json": {
       "columns": [
        {
         "name": "index",
         "rawType": "object",
         "type": "string"
        },
        {
         "name": "isim",
         "rawType": "object",
         "type": "string"
        },
        {
         "name": "spor",
         "rawType": "object",
         "type": "string"
        }
       ],
       "ref": "ba32ba74-c447-47c4-91d3-5ed530a5d2e4",
       "rows": [
        [
         "1.Kişi",
         "Ayşe",
         "Koşu"
        ],
        [
         "2.Kişi",
         "Ali",
         "Yüzme"
        ],
        [
         "3.Kişi",
         "Fatma",
         "Voleybol"
        ],
        [
         "4.Kişi",
         "Zeynep",
         "Basketbol"
        ]
       ],
       "shape": {
        "columns": 2,
        "rows": 4
       }
      },
      "text/html": [
       "<div>\n",
       "<style scoped>\n",
       "    .dataframe tbody tr th:only-of-type {\n",
       "        vertical-align: middle;\n",
       "    }\n",
       "\n",
       "    .dataframe tbody tr th {\n",
       "        vertical-align: top;\n",
       "    }\n",
       "\n",
       "    .dataframe thead th {\n",
       "        text-align: right;\n",
       "    }\n",
       "</style>\n",
       "<table border=\"1\" class=\"dataframe\">\n",
       "  <thead>\n",
       "    <tr style=\"text-align: right;\">\n",
       "      <th></th>\n",
       "      <th>isim</th>\n",
       "      <th>spor</th>\n",
       "    </tr>\n",
       "  </thead>\n",
       "  <tbody>\n",
       "    <tr>\n",
       "      <th>1.Kişi</th>\n",
       "      <td>Ayşe</td>\n",
       "      <td>Koşu</td>\n",
       "    </tr>\n",
       "    <tr>\n",
       "      <th>2.Kişi</th>\n",
       "      <td>Ali</td>\n",
       "      <td>Yüzme</td>\n",
       "    </tr>\n",
       "    <tr>\n",
       "      <th>3.Kişi</th>\n",
       "      <td>Fatma</td>\n",
       "      <td>Voleybol</td>\n",
       "    </tr>\n",
       "    <tr>\n",
       "      <th>4.Kişi</th>\n",
       "      <td>Zeynep</td>\n",
       "      <td>Basketbol</td>\n",
       "    </tr>\n",
       "  </tbody>\n",
       "</table>\n",
       "</div>"
      ],
      "text/plain": [
       "          isim       spor\n",
       "1.Kişi    Ayşe       Koşu\n",
       "2.Kişi     Ali      Yüzme\n",
       "3.Kişi   Fatma   Voleybol\n",
       "4.Kişi  Zeynep  Basketbol"
      ]
     },
     "execution_count": 102,
     "metadata": {},
     "output_type": "execute_result"
    }
   ],
   "source": [
    "sozluk4 = {\"isim\" : [\"Ayşe\",\"Ali\",\"Fatma\",\"Zeynep\"],\"spor\":[\"Koşu\",\"Yüzme\",\"Voleybol\",\"Basketbol\"]}\n",
    "\n",
    "liste4 = pd.DataFrame(sozluk4)\n",
    "\n",
    "liste4.index = [\"1.Kişi\",\"2.Kişi\",\"3.Kişi\",\"4.Kişi\"]\n",
    "\n",
    "liste4"
   ]
  },
  {
   "cell_type": "code",
   "execution_count": 103,
   "id": "db5270c8",
   "metadata": {},
   "outputs": [
    {
     "data": {
      "application/vnd.microsoft.datawrangler.viewer.v0+json": {
       "columns": [
        {
         "name": "index",
         "rawType": "object",
         "type": "string"
        },
        {
         "name": "isim",
         "rawType": "object",
         "type": "string"
        },
        {
         "name": "Kalori",
         "rawType": "object",
         "type": "string"
        }
       ],
       "ref": "57bb11eb-8ba2-4b86-b6f7-f761a11f0c94",
       "rows": [
        [
         "1.Kişi",
         "Ayşe",
         "250"
        ],
        [
         "2.Kişi",
         "Ali",
         "200"
        ],
        [
         "3.Kişi",
         "Fatma",
         "200"
        ],
        [
         "4.Kişi",
         "Zeynep",
         "300"
        ]
       ],
       "shape": {
        "columns": 2,
        "rows": 4
       }
      },
      "text/html": [
       "<div>\n",
       "<style scoped>\n",
       "    .dataframe tbody tr th:only-of-type {\n",
       "        vertical-align: middle;\n",
       "    }\n",
       "\n",
       "    .dataframe tbody tr th {\n",
       "        vertical-align: top;\n",
       "    }\n",
       "\n",
       "    .dataframe thead th {\n",
       "        text-align: right;\n",
       "    }\n",
       "</style>\n",
       "<table border=\"1\" class=\"dataframe\">\n",
       "  <thead>\n",
       "    <tr style=\"text-align: right;\">\n",
       "      <th></th>\n",
       "      <th>isim</th>\n",
       "      <th>Kalori</th>\n",
       "    </tr>\n",
       "  </thead>\n",
       "  <tbody>\n",
       "    <tr>\n",
       "      <th>1.Kişi</th>\n",
       "      <td>Ayşe</td>\n",
       "      <td>250</td>\n",
       "    </tr>\n",
       "    <tr>\n",
       "      <th>2.Kişi</th>\n",
       "      <td>Ali</td>\n",
       "      <td>200</td>\n",
       "    </tr>\n",
       "    <tr>\n",
       "      <th>3.Kişi</th>\n",
       "      <td>Fatma</td>\n",
       "      <td>200</td>\n",
       "    </tr>\n",
       "    <tr>\n",
       "      <th>4.Kişi</th>\n",
       "      <td>Zeynep</td>\n",
       "      <td>300</td>\n",
       "    </tr>\n",
       "  </tbody>\n",
       "</table>\n",
       "</div>"
      ],
      "text/plain": [
       "          isim Kalori\n",
       "1.Kişi    Ayşe    250\n",
       "2.Kişi     Ali    200\n",
       "3.Kişi   Fatma    200\n",
       "4.Kişi  Zeynep    300"
      ]
     },
     "execution_count": 103,
     "metadata": {},
     "output_type": "execute_result"
    }
   ],
   "source": [
    "sozluk5 = {\"isim\" : [\"Ayşe\",\"Ali\",\"Fatma\",\"Zeynep\"],\"Kalori\":[\"250\",\"200\",\"200\",\"300\"]}\n",
    "\n",
    "liste5 = pd.DataFrame(sozluk5)\n",
    "\n",
    "liste5.index = [\"1.Kişi\",\"2.Kişi\",\"3.Kişi\",\"4.Kişi\"]\n",
    "\n",
    "liste5"
   ]
  },
  {
   "cell_type": "code",
   "execution_count": 104,
   "id": "18ec0ca4",
   "metadata": {},
   "outputs": [
    {
     "data": {
      "application/vnd.microsoft.datawrangler.viewer.v0+json": {
       "columns": [
        {
         "name": "index",
         "rawType": "int64",
         "type": "integer"
        },
        {
         "name": "isim",
         "rawType": "object",
         "type": "string"
        },
        {
         "name": "spor",
         "rawType": "object",
         "type": "string"
        },
        {
         "name": "Kalori",
         "rawType": "object",
         "type": "string"
        }
       ],
       "ref": "02cf4d86-d722-4638-a1c5-f245a68b59fa",
       "rows": [
        [
         "0",
         "Ayşe",
         "Koşu",
         "250"
        ],
        [
         "1",
         "Ali",
         "Yüzme",
         "200"
        ],
        [
         "2",
         "Fatma",
         "Voleybol",
         "200"
        ],
        [
         "3",
         "Zeynep",
         "Basketbol",
         "300"
        ]
       ],
       "shape": {
        "columns": 3,
        "rows": 4
       }
      },
      "text/html": [
       "<div>\n",
       "<style scoped>\n",
       "    .dataframe tbody tr th:only-of-type {\n",
       "        vertical-align: middle;\n",
       "    }\n",
       "\n",
       "    .dataframe tbody tr th {\n",
       "        vertical-align: top;\n",
       "    }\n",
       "\n",
       "    .dataframe thead th {\n",
       "        text-align: right;\n",
       "    }\n",
       "</style>\n",
       "<table border=\"1\" class=\"dataframe\">\n",
       "  <thead>\n",
       "    <tr style=\"text-align: right;\">\n",
       "      <th></th>\n",
       "      <th>isim</th>\n",
       "      <th>spor</th>\n",
       "      <th>Kalori</th>\n",
       "    </tr>\n",
       "  </thead>\n",
       "  <tbody>\n",
       "    <tr>\n",
       "      <th>0</th>\n",
       "      <td>Ayşe</td>\n",
       "      <td>Koşu</td>\n",
       "      <td>250</td>\n",
       "    </tr>\n",
       "    <tr>\n",
       "      <th>1</th>\n",
       "      <td>Ali</td>\n",
       "      <td>Yüzme</td>\n",
       "      <td>200</td>\n",
       "    </tr>\n",
       "    <tr>\n",
       "      <th>2</th>\n",
       "      <td>Fatma</td>\n",
       "      <td>Voleybol</td>\n",
       "      <td>200</td>\n",
       "    </tr>\n",
       "    <tr>\n",
       "      <th>3</th>\n",
       "      <td>Zeynep</td>\n",
       "      <td>Basketbol</td>\n",
       "      <td>300</td>\n",
       "    </tr>\n",
       "  </tbody>\n",
       "</table>\n",
       "</div>"
      ],
      "text/plain": [
       "     isim       spor Kalori\n",
       "0    Ayşe       Koşu    250\n",
       "1     Ali      Yüzme    200\n",
       "2   Fatma   Voleybol    200\n",
       "3  Zeynep  Basketbol    300"
      ]
     },
     "execution_count": 104,
     "metadata": {},
     "output_type": "execute_result"
    }
   ],
   "source": [
    "pd.merge(liste4,liste5,on = \"isim\")"
   ]
  },
  {
   "cell_type": "markdown",
   "id": "0fa329a9",
   "metadata": {},
   "source": [
    "PANDAS İLERİ OPERASYONLAR"
   ]
  },
  {
   "cell_type": "code",
   "execution_count": 105,
   "id": "647c1e7e",
   "metadata": {},
   "outputs": [],
   "source": [
    "maasSozlugu = {\"Çalışan İsmi\" : [\"Atıl\",\"Zeynep\",\"Mehmet\",\"Ahmet\"],\"Departman\" : [\"Yazılım\",\"Satış\",\"Pazarlama\",\"Yazılım\"],\"Maaş\" : [125,155,145,150]}\n",
    "maasDataFrame = pd.DataFrame(maasSozlugu)"
   ]
  },
  {
   "cell_type": "code",
   "execution_count": 106,
   "id": "3ab23ce5",
   "metadata": {},
   "outputs": [],
   "source": [
    "maasDataFrame.index.names = [\"Çalışanlar\"]"
   ]
  },
  {
   "cell_type": "code",
   "execution_count": 107,
   "id": "348e7b90",
   "metadata": {},
   "outputs": [
    {
     "data": {
      "application/vnd.microsoft.datawrangler.viewer.v0+json": {
       "columns": [
        {
         "name": "Çalışanlar",
         "rawType": "int64",
         "type": "integer"
        },
        {
         "name": "Çalışan İsmi",
         "rawType": "object",
         "type": "string"
        },
        {
         "name": "Departman",
         "rawType": "object",
         "type": "string"
        },
        {
         "name": "Maaş",
         "rawType": "int64",
         "type": "integer"
        }
       ],
       "ref": "9c33a905-7d66-4043-9e18-87544a257393",
       "rows": [
        [
         "0",
         "Atıl",
         "Yazılım",
         "125"
        ],
        [
         "1",
         "Zeynep",
         "Satış",
         "155"
        ],
        [
         "2",
         "Mehmet",
         "Pazarlama",
         "145"
        ],
        [
         "3",
         "Ahmet",
         "Yazılım",
         "150"
        ]
       ],
       "shape": {
        "columns": 3,
        "rows": 4
       }
      },
      "text/html": [
       "<div>\n",
       "<style scoped>\n",
       "    .dataframe tbody tr th:only-of-type {\n",
       "        vertical-align: middle;\n",
       "    }\n",
       "\n",
       "    .dataframe tbody tr th {\n",
       "        vertical-align: top;\n",
       "    }\n",
       "\n",
       "    .dataframe thead th {\n",
       "        text-align: right;\n",
       "    }\n",
       "</style>\n",
       "<table border=\"1\" class=\"dataframe\">\n",
       "  <thead>\n",
       "    <tr style=\"text-align: right;\">\n",
       "      <th></th>\n",
       "      <th>Çalışan İsmi</th>\n",
       "      <th>Departman</th>\n",
       "      <th>Maaş</th>\n",
       "    </tr>\n",
       "    <tr>\n",
       "      <th>Çalışanlar</th>\n",
       "      <th></th>\n",
       "      <th></th>\n",
       "      <th></th>\n",
       "    </tr>\n",
       "  </thead>\n",
       "  <tbody>\n",
       "    <tr>\n",
       "      <th>0</th>\n",
       "      <td>Atıl</td>\n",
       "      <td>Yazılım</td>\n",
       "      <td>125</td>\n",
       "    </tr>\n",
       "    <tr>\n",
       "      <th>1</th>\n",
       "      <td>Zeynep</td>\n",
       "      <td>Satış</td>\n",
       "      <td>155</td>\n",
       "    </tr>\n",
       "    <tr>\n",
       "      <th>2</th>\n",
       "      <td>Mehmet</td>\n",
       "      <td>Pazarlama</td>\n",
       "      <td>145</td>\n",
       "    </tr>\n",
       "    <tr>\n",
       "      <th>3</th>\n",
       "      <td>Ahmet</td>\n",
       "      <td>Yazılım</td>\n",
       "      <td>150</td>\n",
       "    </tr>\n",
       "  </tbody>\n",
       "</table>\n",
       "</div>"
      ],
      "text/plain": [
       "           Çalışan İsmi  Departman  Maaş\n",
       "Çalışanlar                              \n",
       "0                  Atıl    Yazılım   125\n",
       "1                Zeynep      Satış   155\n",
       "2                Mehmet  Pazarlama   145\n",
       "3                 Ahmet    Yazılım   150"
      ]
     },
     "execution_count": 107,
     "metadata": {},
     "output_type": "execute_result"
    }
   ],
   "source": [
    "maasDataFrame"
   ]
  },
  {
   "cell_type": "code",
   "execution_count": 121,
   "id": "9f016168",
   "metadata": {},
   "outputs": [
    {
     "data": {
      "text/plain": [
       "array(['Yazılım', 'Satış', 'Pazarlama'], dtype=object)"
      ]
     },
     "execution_count": 121,
     "metadata": {},
     "output_type": "execute_result"
    }
   ],
   "source": [
    "maasDataFrame[\"Departman\"].unique()"
   ]
  },
  {
   "cell_type": "code",
   "execution_count": 122,
   "id": "b54f5c4e",
   "metadata": {},
   "outputs": [
    {
     "data": {
      "text/plain": [
       "3"
      ]
     },
     "execution_count": 122,
     "metadata": {},
     "output_type": "execute_result"
    }
   ],
   "source": [
    "maasDataFrame[\"Departman\"].nunique()"
   ]
  },
  {
   "cell_type": "code",
   "execution_count": 110,
   "id": "fa739498",
   "metadata": {},
   "outputs": [
    {
     "data": {
      "application/vnd.microsoft.datawrangler.viewer.v0+json": {
       "columns": [
        {
         "name": "Departman",
         "rawType": "object",
         "type": "string"
        },
        {
         "name": "count",
         "rawType": "int64",
         "type": "integer"
        }
       ],
       "ref": "6f3eacf2-84dd-4613-b37b-e4a1d4651585",
       "rows": [
        [
         "Yazılım",
         "2"
        ],
        [
         "Satış",
         "1"
        ],
        [
         "Pazarlama",
         "1"
        ]
       ],
       "shape": {
        "columns": 1,
        "rows": 3
       }
      },
      "text/plain": [
       "Departman\n",
       "Yazılım      2\n",
       "Satış        1\n",
       "Pazarlama    1\n",
       "Name: count, dtype: int64"
      ]
     },
     "execution_count": 110,
     "metadata": {},
     "output_type": "execute_result"
    }
   ],
   "source": [
    "maasDataFrame[\"Departman\"].value_counts()"
   ]
  },
  {
   "cell_type": "code",
   "execution_count": 111,
   "id": "f7e91b52",
   "metadata": {},
   "outputs": [],
   "source": [
    "def bruttenNete(maas) :\n",
    "    return maas * 0.66"
   ]
  },
  {
   "cell_type": "code",
   "execution_count": 112,
   "id": "49094c59",
   "metadata": {},
   "outputs": [
    {
     "data": {
      "application/vnd.microsoft.datawrangler.viewer.v0+json": {
       "columns": [
        {
         "name": "Çalışanlar",
         "rawType": "int64",
         "type": "integer"
        },
        {
         "name": "Maaş",
         "rawType": "float64",
         "type": "float"
        }
       ],
       "ref": "7adc63bd-4e69-4593-a9f3-aaa1362d8849",
       "rows": [
        [
         "0",
         "82.5"
        ],
        [
         "1",
         "102.30000000000001"
        ],
        [
         "2",
         "95.7"
        ],
        [
         "3",
         "99.0"
        ]
       ],
       "shape": {
        "columns": 1,
        "rows": 4
       }
      },
      "text/plain": [
       "Çalışanlar\n",
       "0     82.5\n",
       "1    102.3\n",
       "2     95.7\n",
       "3     99.0\n",
       "Name: Maaş, dtype: float64"
      ]
     },
     "execution_count": 112,
     "metadata": {},
     "output_type": "execute_result"
    }
   ],
   "source": [
    "maasDataFrame[\"Maaş\"].apply(bruttenNete)"
   ]
  },
  {
   "cell_type": "code",
   "execution_count": 113,
   "id": "814699d2",
   "metadata": {},
   "outputs": [
    {
     "data": {
      "application/vnd.microsoft.datawrangler.viewer.v0+json": {
       "columns": [
        {
         "name": "index",
         "rawType": "int64",
         "type": "integer"
        },
        {
         "name": "Departman",
         "rawType": "bool",
         "type": "boolean"
        },
        {
         "name": "Çalışan İsmi",
         "rawType": "bool",
         "type": "boolean"
        },
        {
         "name": "Maaş(bin)",
         "rawType": "bool",
         "type": "boolean"
        }
       ],
       "ref": "0bfee49a-6496-4831-921e-f8b94d7a9096",
       "rows": [
        [
         "404",
         "False",
         "False",
         "False"
        ],
        [
         "404",
         "False",
         "False",
         "False"
        ],
        [
         "255",
         "False",
         "False",
         "False"
        ],
        [
         "255",
         "False",
         "False",
         "False"
        ],
        [
         "257",
         "False",
         "False",
         "False"
        ],
        [
         "257",
         "False",
         "False",
         "False"
        ]
       ],
       "shape": {
        "columns": 3,
        "rows": 6
       }
      },
      "text/html": [
       "<div>\n",
       "<style scoped>\n",
       "    .dataframe tbody tr th:only-of-type {\n",
       "        vertical-align: middle;\n",
       "    }\n",
       "\n",
       "    .dataframe tbody tr th {\n",
       "        vertical-align: top;\n",
       "    }\n",
       "\n",
       "    .dataframe thead th {\n",
       "        text-align: right;\n",
       "    }\n",
       "</style>\n",
       "<table border=\"1\" class=\"dataframe\">\n",
       "  <thead>\n",
       "    <tr style=\"text-align: right;\">\n",
       "      <th></th>\n",
       "      <th>Departman</th>\n",
       "      <th>Çalışan İsmi</th>\n",
       "      <th>Maaş(bin)</th>\n",
       "    </tr>\n",
       "  </thead>\n",
       "  <tbody>\n",
       "    <tr>\n",
       "      <th>404</th>\n",
       "      <td>False</td>\n",
       "      <td>False</td>\n",
       "      <td>False</td>\n",
       "    </tr>\n",
       "    <tr>\n",
       "      <th>404</th>\n",
       "      <td>False</td>\n",
       "      <td>False</td>\n",
       "      <td>False</td>\n",
       "    </tr>\n",
       "    <tr>\n",
       "      <th>255</th>\n",
       "      <td>False</td>\n",
       "      <td>False</td>\n",
       "      <td>False</td>\n",
       "    </tr>\n",
       "    <tr>\n",
       "      <th>255</th>\n",
       "      <td>False</td>\n",
       "      <td>False</td>\n",
       "      <td>False</td>\n",
       "    </tr>\n",
       "    <tr>\n",
       "      <th>257</th>\n",
       "      <td>False</td>\n",
       "      <td>False</td>\n",
       "      <td>False</td>\n",
       "    </tr>\n",
       "    <tr>\n",
       "      <th>257</th>\n",
       "      <td>False</td>\n",
       "      <td>False</td>\n",
       "      <td>False</td>\n",
       "    </tr>\n",
       "  </tbody>\n",
       "</table>\n",
       "</div>"
      ],
      "text/plain": [
       "     Departman  Çalışan İsmi  Maaş(bin)\n",
       "404      False         False      False\n",
       "404      False         False      False\n",
       "255      False         False      False\n",
       "255      False         False      False\n",
       "257      False         False      False\n",
       "257      False         False      False"
      ]
     },
     "execution_count": 113,
     "metadata": {},
     "output_type": "execute_result"
    }
   ],
   "source": [
    "maasBilgisi.isnull()"
   ]
  },
  {
   "cell_type": "markdown",
   "id": "4d33c4ba",
   "metadata": {},
   "source": [
    "PIVOT TABLE"
   ]
  },
  {
   "cell_type": "code",
   "execution_count": 114,
   "id": "e4d4c434",
   "metadata": {},
   "outputs": [],
   "source": [
    "yeniBirVeri = {\"karakter sınıfı\" :[\"south park\",\"south park\",\"simpson\",\"simpson\",\"simpson\"],\"karakter ismi\":[\"cartman\",\"kenny\",\"honner\",\"bart\",\"bart\"],\"karakter yas\" :[9,10,50,20,10]}\n",
    "karakterDF = pd.DataFrame(yeniBirVeri)"
   ]
  },
  {
   "cell_type": "code",
   "execution_count": 115,
   "id": "4c779875",
   "metadata": {},
   "outputs": [],
   "source": [
    "karakterDF.index.names = [\"karakterler\"]"
   ]
  },
  {
   "cell_type": "code",
   "execution_count": 116,
   "id": "0a5c564e",
   "metadata": {},
   "outputs": [
    {
     "data": {
      "application/vnd.microsoft.datawrangler.viewer.v0+json": {
       "columns": [
        {
         "name": "karakterler",
         "rawType": "int64",
         "type": "integer"
        },
        {
         "name": "karakter sınıfı",
         "rawType": "object",
         "type": "string"
        },
        {
         "name": "karakter ismi",
         "rawType": "object",
         "type": "string"
        },
        {
         "name": "karakter yas",
         "rawType": "int64",
         "type": "integer"
        }
       ],
       "ref": "94eb0a64-7ad6-4b44-9944-932750ea12ef",
       "rows": [
        [
         "0",
         "south park",
         "cartman",
         "9"
        ],
        [
         "1",
         "south park",
         "kenny",
         "10"
        ],
        [
         "2",
         "simpson",
         "honner",
         "50"
        ],
        [
         "3",
         "simpson",
         "bart",
         "20"
        ],
        [
         "4",
         "simpson",
         "bart",
         "10"
        ]
       ],
       "shape": {
        "columns": 3,
        "rows": 5
       }
      },
      "text/html": [
       "<div>\n",
       "<style scoped>\n",
       "    .dataframe tbody tr th:only-of-type {\n",
       "        vertical-align: middle;\n",
       "    }\n",
       "\n",
       "    .dataframe tbody tr th {\n",
       "        vertical-align: top;\n",
       "    }\n",
       "\n",
       "    .dataframe thead th {\n",
       "        text-align: right;\n",
       "    }\n",
       "</style>\n",
       "<table border=\"1\" class=\"dataframe\">\n",
       "  <thead>\n",
       "    <tr style=\"text-align: right;\">\n",
       "      <th></th>\n",
       "      <th>karakter sınıfı</th>\n",
       "      <th>karakter ismi</th>\n",
       "      <th>karakter yas</th>\n",
       "    </tr>\n",
       "    <tr>\n",
       "      <th>karakterler</th>\n",
       "      <th></th>\n",
       "      <th></th>\n",
       "      <th></th>\n",
       "    </tr>\n",
       "  </thead>\n",
       "  <tbody>\n",
       "    <tr>\n",
       "      <th>0</th>\n",
       "      <td>south park</td>\n",
       "      <td>cartman</td>\n",
       "      <td>9</td>\n",
       "    </tr>\n",
       "    <tr>\n",
       "      <th>1</th>\n",
       "      <td>south park</td>\n",
       "      <td>kenny</td>\n",
       "      <td>10</td>\n",
       "    </tr>\n",
       "    <tr>\n",
       "      <th>2</th>\n",
       "      <td>simpson</td>\n",
       "      <td>honner</td>\n",
       "      <td>50</td>\n",
       "    </tr>\n",
       "    <tr>\n",
       "      <th>3</th>\n",
       "      <td>simpson</td>\n",
       "      <td>bart</td>\n",
       "      <td>20</td>\n",
       "    </tr>\n",
       "    <tr>\n",
       "      <th>4</th>\n",
       "      <td>simpson</td>\n",
       "      <td>bart</td>\n",
       "      <td>10</td>\n",
       "    </tr>\n",
       "  </tbody>\n",
       "</table>\n",
       "</div>"
      ],
      "text/plain": [
       "            karakter sınıfı karakter ismi  karakter yas\n",
       "karakterler                                            \n",
       "0                south park       cartman             9\n",
       "1                south park         kenny            10\n",
       "2                   simpson        honner            50\n",
       "3                   simpson          bart            20\n",
       "4                   simpson          bart            10"
      ]
     },
     "execution_count": 116,
     "metadata": {},
     "output_type": "execute_result"
    }
   ],
   "source": [
    "karakterDF"
   ]
  },
  {
   "cell_type": "code",
   "execution_count": 117,
   "id": "385cf56b",
   "metadata": {},
   "outputs": [
    {
     "name": "stderr",
     "output_type": "stream",
     "text": [
      "C:\\Users\\ebeng\\AppData\\Local\\Temp\\ipykernel_5540\\2947203609.py:1: FutureWarning: The provided callable <function sum at 0x00000232321635B0> is currently using DataFrameGroupBy.sum. In a future version of pandas, the provided callable will be used directly. To keep current behavior pass the string \"sum\" instead.\n",
      "  karakterDF.pivot_table(values = \"karakter yas\", index = [\"karakter sınıfı\",\"karakter ismi\"],aggfunc=np.sum)\n"
     ]
    },
    {
     "data": {
      "application/vnd.microsoft.datawrangler.viewer.v0+json": {
       "columns": [
        {
         "name": "('karakter sınıfı', 'karakter ismi')",
         "rawType": "object",
         "type": "unknown"
        },
        {
         "name": "karakter yas",
         "rawType": "int64",
         "type": "integer"
        }
       ],
       "ref": "7488fe10-04c9-49a9-aac6-23da4821b98b",
       "rows": [
        [
         "('simpson', 'bart')",
         "30"
        ],
        [
         "('simpson', 'honner')",
         "50"
        ],
        [
         "('south park', 'cartman')",
         "9"
        ],
        [
         "('south park', 'kenny')",
         "10"
        ]
       ],
       "shape": {
        "columns": 1,
        "rows": 4
       }
      },
      "text/html": [
       "<div>\n",
       "<style scoped>\n",
       "    .dataframe tbody tr th:only-of-type {\n",
       "        vertical-align: middle;\n",
       "    }\n",
       "\n",
       "    .dataframe tbody tr th {\n",
       "        vertical-align: top;\n",
       "    }\n",
       "\n",
       "    .dataframe thead th {\n",
       "        text-align: right;\n",
       "    }\n",
       "</style>\n",
       "<table border=\"1\" class=\"dataframe\">\n",
       "  <thead>\n",
       "    <tr style=\"text-align: right;\">\n",
       "      <th></th>\n",
       "      <th></th>\n",
       "      <th>karakter yas</th>\n",
       "    </tr>\n",
       "    <tr>\n",
       "      <th>karakter sınıfı</th>\n",
       "      <th>karakter ismi</th>\n",
       "      <th></th>\n",
       "    </tr>\n",
       "  </thead>\n",
       "  <tbody>\n",
       "    <tr>\n",
       "      <th rowspan=\"2\" valign=\"top\">simpson</th>\n",
       "      <th>bart</th>\n",
       "      <td>30</td>\n",
       "    </tr>\n",
       "    <tr>\n",
       "      <th>honner</th>\n",
       "      <td>50</td>\n",
       "    </tr>\n",
       "    <tr>\n",
       "      <th rowspan=\"2\" valign=\"top\">south park</th>\n",
       "      <th>cartman</th>\n",
       "      <td>9</td>\n",
       "    </tr>\n",
       "    <tr>\n",
       "      <th>kenny</th>\n",
       "      <td>10</td>\n",
       "    </tr>\n",
       "  </tbody>\n",
       "</table>\n",
       "</div>"
      ],
      "text/plain": [
       "                               karakter yas\n",
       "karakter sınıfı karakter ismi              \n",
       "simpson         bart                     30\n",
       "                honner                   50\n",
       "south park      cartman                   9\n",
       "                kenny                    10"
      ]
     },
     "execution_count": 117,
     "metadata": {},
     "output_type": "execute_result"
    }
   ],
   "source": [
    "karakterDF.pivot_table(values = \"karakter yas\", index = [\"karakter sınıfı\",\"karakter ismi\"],aggfunc=np.sum)"
   ]
  }
 ],
 "metadata": {
  "kernelspec": {
   "display_name": "Python 3",
   "language": "python",
   "name": "python3"
  },
  "language_info": {
   "codemirror_mode": {
    "name": "ipython",
    "version": 3
   },
   "file_extension": ".py",
   "mimetype": "text/x-python",
   "name": "python",
   "nbconvert_exporter": "python",
   "pygments_lexer": "ipython3",
   "version": "3.10.7"
  }
 },
 "nbformat": 4,
 "nbformat_minor": 5
}
